{
 "cells": [
  {
   "cell_type": "markdown",
   "id": "edf3b960-476c-4edc-9e4e-40d2c7206d43",
   "metadata": {},
   "source": [
    "## Differential Drive Controller\n",
    "\n",
    "Give the velocity V and the angular velocity $\\omega$ from a twist message (we only consider linear.x and angular.x and ignore all other components) we can calculate the angular velocity of each wheel as follows:\n",
    "\n",
    "We know\n",
    "$$\n",
    "\\omega (R + b/2) = V_r\n",
    "$$\n",
    "$$\n",
    "V_r = r\\omega_r\n",
    "$$\n",
    "$$\n",
    "V = R\\omega\n",
    "$$\n",
    "where $\\omega_r$ is the angular velocity of right wheel\n",
    "\n",
    "Whith this we obtain\n",
    "$$\n",
    "\\omega_r = \\frac{V+\\omega b/2}{r}\n",
    "$$\n",
    "\n",
    "and with\n",
    "$$\n",
    "\\omega (R - b/2) = V_l\n",
    "$$\n",
    "we obtain\n",
    "$$\n",
    "\\omega_l = \\frac{V-\\omega b/2}{r}\n",
    "$$"
   ]
  },
  {
   "cell_type": "markdown",
   "id": "38eadd26-46c9-452d-bf0c-60099d7d0e44",
   "metadata": {},
   "source": [
    "### Converting ROS twist message to wheel speeds\n",
    "\n",
    "The twist message uses m/s for linear velocity units and radians/s for the angular velocity units. We only consider the x component of the linear speed and the z component of the angular speed.\n",
    "\n",
    "Assume $linerar_x$ in the range of -1 .. 1 and $angular_z$ in the range of -1 .. 1\n",
    "\n",
    "$$\n",
    "V = linerar_x\n",
    "$$\n",
    "$$\n",
    "\\omega = angular_z\n",
    "$$\n",
    "\n",
    "With this we obtain:\n",
    "$$\n",
    "\\omega_r = \\frac{linerar_x + angular_z b/2}{r}\n",
    "$$\n",
    "$$\n",
    "\\omega_l = \\frac{linerar_x - angular_z b/2}{r}\n",
    "$$\n"
   ]
  },
  {
   "cell_type": "code",
   "execution_count": 55,
   "id": "6c22f135-ab44-4f9a-a688-b3acda88df34",
   "metadata": {
    "tags": []
   },
   "outputs": [],
   "source": [
    "r = 0.0825\n",
    "b = 0.18\n",
    "b = 2"
   ]
  },
  {
   "cell_type": "code",
   "execution_count": 56,
   "id": "82d1fd4e-aa52-48b2-b47c-e15b90d664d1",
   "metadata": {
    "tags": []
   },
   "outputs": [],
   "source": [
    "def get_wheel_speed(msg):\n",
    "    l_x = msg['linear']['x']\n",
    "    w = msg['angular']['z']\n",
    "    w_r = (l_x + (b/2) * w) / r\n",
    "    w_l = (l_x - (b/2) * w) / r\n",
    "    return w_l, w_r"
   ]
  },
  {
   "cell_type": "code",
   "execution_count": 57,
   "id": "2077b6ce-89a1-4dbc-82d7-57f91fccd411",
   "metadata": {
    "tags": []
   },
   "outputs": [
    {
     "data": {
      "text/plain": [
       "(12.121212121212121, 12.121212121212121)"
      ]
     },
     "execution_count": 57,
     "metadata": {},
     "output_type": "execute_result"
    }
   ],
   "source": [
    "msg = {'linear': {'x': 1.0, 'y': 0.0, 'z': 0.0}, 'angular': {'x': 0.0, 'y': 0.0, 'z': 0.0}}\n",
    "get_wheel_speed(msg)"
   ]
  },
  {
   "cell_type": "code",
   "execution_count": 58,
   "id": "cc547a3f-bad5-43d6-9839-5560d89cc000",
   "metadata": {
    "tags": []
   },
   "outputs": [
    {
     "name": "stdout",
     "output_type": "stream",
     "text": [
      "0.00 0.00 0 0\n",
      "0.00 0.10 -1 1\n",
      "0.00 0.20 -2 2\n",
      "0.00 0.30 -3 3\n",
      "0.00 0.40 -4 4\n",
      "0.00 0.50 -6 6\n",
      "0.00 0.60 -7 7\n",
      "0.00 0.70 -8 8\n",
      "0.00 0.80 -9 9\n",
      "0.00 0.90 -10 10\n",
      "0.00 1.00 -12 12\n",
      "0.10 0.00 1 1\n",
      "0.10 0.10 0 2\n",
      "0.10 0.20 -1 3\n",
      "0.10 0.30 -2 4\n",
      "0.10 0.40 -3 6\n",
      "0.10 0.50 -4 7\n",
      "0.10 0.60 -6 8\n",
      "0.10 0.70 -7 9\n",
      "0.10 0.80 -8 10\n",
      "0.10 0.90 -9 12\n",
      "0.10 1.00 -10 13\n",
      "0.20 0.00 2 2\n",
      "0.20 0.10 1 3\n",
      "0.20 0.20 0 4\n",
      "0.20 0.30 -1 6\n",
      "0.20 0.40 -2 7\n",
      "0.20 0.50 -3 8\n",
      "0.20 0.60 -4 9\n",
      "0.20 0.70 -6 10\n",
      "0.20 0.80 -7 12\n",
      "0.20 0.90 -8 13\n",
      "0.20 1.00 -9 14\n",
      "0.30 0.00 3 3\n",
      "0.30 0.10 2 4\n",
      "0.30 0.20 1 6\n",
      "0.30 0.30 0 7\n",
      "0.30 0.40 -1 8\n",
      "0.30 0.50 -2 9\n",
      "0.30 0.60 -3 10\n",
      "0.30 0.70 -4 12\n",
      "0.30 0.80 -6 13\n",
      "0.30 0.90 -7 14\n",
      "0.30 1.00 -8 15\n",
      "0.40 0.00 4 4\n",
      "0.40 0.10 3 6\n",
      "0.40 0.20 2 7\n",
      "0.40 0.30 1 8\n",
      "0.40 0.40 0 9\n",
      "0.40 0.50 -1 10\n",
      "0.40 0.60 -2 12\n",
      "0.40 0.70 -3 13\n",
      "0.40 0.80 -4 14\n",
      "0.40 0.90 -6 15\n",
      "0.40 1.00 -7 16\n",
      "0.50 0.00 6 6\n",
      "0.50 0.10 4 7\n",
      "0.50 0.20 3 8\n",
      "0.50 0.30 2 9\n",
      "0.50 0.40 1 10\n",
      "0.50 0.50 0 12\n",
      "0.50 0.60 -1 13\n",
      "0.50 0.70 -2 14\n",
      "0.50 0.80 -3 15\n",
      "0.50 0.90 -4 16\n",
      "0.50 1.00 -6 18\n",
      "0.60 0.00 7 7\n",
      "0.60 0.10 6 8\n",
      "0.60 0.20 4 9\n",
      "0.60 0.30 3 10\n",
      "0.60 0.40 2 12\n",
      "0.60 0.50 1 13\n",
      "0.60 0.60 0 14\n",
      "0.60 0.70 -1 15\n",
      "0.60 0.80 -2 16\n",
      "0.60 0.90 -3 18\n",
      "0.60 1.00 -4 19\n",
      "0.70 0.00 8 8\n",
      "0.70 0.10 7 9\n",
      "0.70 0.20 6 10\n",
      "0.70 0.30 4 12\n",
      "0.70 0.40 3 13\n",
      "0.70 0.50 2 14\n",
      "0.70 0.60 1 15\n",
      "0.70 0.70 0 16\n",
      "0.70 0.80 -1 18\n",
      "0.70 0.90 -2 19\n",
      "0.70 1.00 -3 20\n",
      "0.80 0.00 9 9\n",
      "0.80 0.10 8 10\n",
      "0.80 0.20 7 12\n",
      "0.80 0.30 6 13\n",
      "0.80 0.40 4 14\n",
      "0.80 0.50 3 15\n",
      "0.80 0.60 2 16\n",
      "0.80 0.70 1 18\n",
      "0.80 0.80 0 19\n",
      "0.80 0.90 -1 20\n",
      "0.80 1.00 -2 21\n",
      "0.90 0.00 10 10\n",
      "0.90 0.10 9 12\n",
      "0.90 0.20 8 13\n",
      "0.90 0.30 7 14\n",
      "0.90 0.40 6 15\n",
      "0.90 0.50 4 16\n",
      "0.90 0.60 3 18\n",
      "0.90 0.70 2 19\n",
      "0.90 0.80 1 20\n",
      "0.90 0.90 0 21\n",
      "0.90 1.00 -1 23\n",
      "1.00 0.00 12 12\n",
      "1.00 0.10 10 13\n",
      "1.00 0.20 9 14\n",
      "1.00 0.30 8 15\n",
      "1.00 0.40 7 16\n",
      "1.00 0.50 6 18\n",
      "1.00 0.60 4 19\n",
      "1.00 0.70 3 20\n",
      "1.00 0.80 2 21\n",
      "1.00 0.90 1 23\n",
      "1.00 1.00 0 24\n"
     ]
    }
   ],
   "source": [
    "for i in range(11):\n",
    "    for k in range(11):\n",
    "        msg['linear']['x'] = i/10\n",
    "        msg['angular']['z'] = k/10\n",
    "        w_l, w_r = get_wheel_speed(msg)\n",
    "        print(\"%.2f %.2f %s %s\" % (i/10, k/10, int(w_l), int(w_r)))"
   ]
  },
  {
   "cell_type": "markdown",
   "id": "7ea85c86-58ae-461e-945b-b21501acbff4",
   "metadata": {},
   "source": [
    "### Converting Hoverboard Feedback to Odometry message\n",
    "\n",
    "Reading $\\omega_r$ and $\\omega_l$ from the hoverboard we need to construct a odometry message. As a matter of fact we read the speed of each wheel but knowing the radius of the wheel we can calculate the angular speed of the wheel.\n",
    "\n",
    "Using:\n",
    "\n",
    "$$\n",
    "\\omega_r = \\frac{linerar_x + angular_z b/2}{r}\n",
    "$$\n",
    "$$\n",
    "\\omega_l = \\frac{linerar_x - angular_z b/2}{r}\n",
    "$$\n",
    "\n",
    "we obtain:\n",
    "$$\n",
    "linerar_x = \\frac{r \\cdot (\\omega_r + \\omega_l )}{2}\n",
    "$$\n",
    "$$\n",
    "angular_z = \\frac{r \\cdot (\\omega_r - \\omega_l )}{b}\n",
    "$$\n",
    "\n",
    "\n",
    "As a next step we have to calculate the position and orientation at time $\\Delta$t given the position and orientation at time t.\n",
    "\n",
    "$$\n",
    "x(t_0) = 0\n",
    "$$\n",
    "$$\n",
    "y(t_0) = 0\n",
    "$$\n",
    "$$\n",
    "\\Theta(t_0) = 0\n",
    "$$\n",
    "$$\n",
    "t_{n+1} = t_n + \\Delta t\n",
    "$$\n",
    "$$\n",
    "x(t_{n+1}) = x(t_n) + h(v_l(t_n) + v_r(t_n))cos(\\Theta(t)\n",
    "$$\n",
    "$$\n",
    "y(t_{n+1}) = y(t_n) + h(v_l(t_n) + v_r(t_n))sin(\\Theta(t)\n",
    "$$\n",
    "$$\n",
    "\\Theta(t_{n+1}) =\\Theta(t_n) + h(v_r(t) - v_l(t)\n",
    "$$\n",
    "where $h = t_{n+1} - t_n$\n",
    "\n",
    "\n",
    "And to calculate a quaternion from $\\Theta$:\n",
    "\n",
    "$$\n",
    "q_w = cos(\\Theta/2)\n",
    "$$\n",
    "$$\n",
    "q_z = 0\n",
    "$$\n",
    "$$q_y = 0\n",
    "$$\n",
    "$$q_z = sin(\\Theta/2)\n",
    "$$\n",
    "\n"
   ]
  },
  {
   "cell_type": "code",
   "execution_count": 59,
   "id": "86c795b0-5867-4466-bb65-a5d09ddc45bf",
   "metadata": {
    "tags": []
   },
   "outputs": [],
   "source": [
    "import numpy as np\n",
    "import quaternion"
   ]
  },
  {
   "cell_type": "code",
   "execution_count": 60,
   "id": "fe9c6416-c814-40b5-9a17-aa0a7a70a30b",
   "metadata": {
    "tags": []
   },
   "outputs": [],
   "source": [
    "def get_pose(x0, y0, Theta0, v_r, v_l, delta_t):\n",
    "    Theta1 = Theta0 + delta_t * (v_r - v_l)\n",
    "    x1 = x0 + delta_t * (v_r + v_l) * np.cos(Theta1/2)\n",
    "    y1 = y0 + delta_t * (v_r + v_l) * np.sin(Theta1/2)\n",
    "    q1 = np.quaternion(np.cos(Theta1/2), 0, 0, np.sin(Theta1/2))\n",
    "    return x1, y1, Theta1, q1"
   ]
  },
  {
   "cell_type": "code",
   "execution_count": 61,
   "id": "ebbaa634-08fa-4916-b2ea-b47cabdce5c5",
   "metadata": {
    "tags": []
   },
   "outputs": [
    {
     "name": "stdout",
     "output_type": "stream",
     "text": [
      "x: 0.00 y: 0.00 q: quaternion(0.998750260394966, 0, 0, 0.0499791692706783)\n",
      "x: 0.00 y: 0.00 q: quaternion(0.995004165278026, 0, 0, 0.0998334166468282)\n",
      "x: 0.00 y: 0.00 q: quaternion(0.988771077936042, 0, 0, 0.149438132473599)\n",
      "x: 0.00 y: 0.00 q: quaternion(0.980066577841242, 0, 0, 0.198669330795061)\n",
      "x: 0.00 y: 0.00 q: quaternion(0.968912421710645, 0, 0, 0.247403959254523)\n",
      "x: 0.00 y: 0.00 q: quaternion(0.955336489125606, 0, 0, 0.29552020666134)\n",
      "x: 0.00 y: 0.00 q: quaternion(0.939372712847379, 0, 0, 0.342897807455451)\n",
      "x: 0.00 y: 0.00 q: quaternion(0.921060994002885, 0, 0, 0.38941834230865)\n",
      "x: 0.00 y: 0.00 q: quaternion(0.900447102352677, 0, 0, 0.43496553411123)\n",
      "x: 0.00 y: 0.00 q: quaternion(0.877582561890373, 0, 0, 0.479425538604203)\n"
     ]
    }
   ],
   "source": [
    "delta_t = 1/20\n",
    "v_r = 1.\n",
    "v_l = -1.\n",
    "x_n = 0.\n",
    "y_n = 0.\n",
    "Theta_n = 0.\n",
    "for i in range(10):\n",
    "    x_n, y_n, Theta_n, q = get_pose(x_n, y_n, Theta_n, v_r, v_l, delta_t)\n",
    "    print(\"x: %.2f y: %.2f q: %s\" % (x_n, y_n, q))"
   ]
  },
  {
   "cell_type": "code",
   "execution_count": 68,
   "id": "977faac4-7fb5-47c0-b3a5-fb9ddfa9c667",
   "metadata": {
    "tags": []
   },
   "outputs": [
    {
     "data": {
      "text/plain": [
       "0.8775825618903728"
      ]
     },
     "execution_count": 68,
     "metadata": {},
     "output_type": "execute_result"
    }
   ],
   "source": [
    "q.w"
   ]
  },
  {
   "cell_type": "markdown",
   "id": "e635436c-f2b1-4dba-99cd-f391fce8658c",
   "metadata": {},
   "source": [
    "### Applying Limits\n",
    "\n",
    "We receive velocity (linear and angular), the time derivate of velocity is acceleration and the time derivate of acceleration is called jerk or jolt. To provide for a smooth movement of the robot we must apply limits to the velocity and the acceleration. At any time t the following contraints apply:\n",
    "\n",
    "$$\n",
    "v_{min} \\le v(t) \\le v_{max}\n",
    "$$\n",
    "$$\n",
    "a_{min} \\le \\dot{v}(t) \\le a_{max}\n",
    "$$\n",
    "$$\n",
    "j_{min} \\le \\ddot{v}(t) \\le j_{max}\n",
    "$$\n",
    "\n",
    "To solve $\\ddot{v}$ numerically we need three data point $v_n$, $v_{n-1}$ and $v_{n-2}$"
   ]
  },
  {
   "cell_type": "code",
   "execution_count": 62,
   "id": "e999b428-d013-4c19-8771-16703319b5c1",
   "metadata": {
    "tags": []
   },
   "outputs": [],
   "source": [
    "v_limit = 1.0\n",
    "a_limit = 0.5\n",
    "j_limit = 0.1\n",
    "v_min = -v_limit\n",
    "v_max = v_limit\n",
    "a_min = -a_limit\n",
    "a_max = a_limit\n",
    "j_min = -j_limit\n",
    "j_max = j_limit"
   ]
  },
  {
   "cell_type": "code",
   "execution_count": 63,
   "id": "59016ef6-b048-40aa-845b-011aa73eadbc",
   "metadata": {
    "tags": []
   },
   "outputs": [],
   "source": [
    "def speed_limit(v_n, v_n1,v_n2, dt):\n",
    "    a1 = (v_n - v_n1) / dt\n",
    "    a2 = (v_n1 - v_n2) / dt\n",
    "    a1 = min(a1, a_max)\n",
    "    a2 = min(a2, a_max)\n",
    "    a1 = max(a1, a_min)\n",
    "    a2 = max(a2, a_min)\n",
    "    j = (a1 - a2) / dt\n",
    "    j = max(j, j_min)\n",
    "    j = max(j, j_min)\n",
    "    v = 2 * v_n1 - v_n2 + j * dt**2\n",
    "    v = max(v, v_min)\n",
    "    v = min(v, v_max)\n",
    "    return v"
   ]
  },
  {
   "cell_type": "code",
   "execution_count": 64,
   "id": "afd7d117-1249-4942-9925-3c45edb38406",
   "metadata": {
    "tags": []
   },
   "outputs": [],
   "source": [
    "v = [0., 0., 0.5, 1., 1.5, 2, 2, 2, 2, 2, 2, 2, 2, -1, -1, -1, -1, -1, -1, -1, 1, 1, 1, 1, 1, 1, 1, 1, 0, 0, 0, 0, 0, 0, 0]"
   ]
  },
  {
   "cell_type": "code",
   "execution_count": 65,
   "id": "5c9a95f1-860c-486b-911e-a10760febe54",
   "metadata": {
    "tags": []
   },
   "outputs": [],
   "source": [
    "import numpy as np\n",
    "import matplotlib.pyplot as plt\n",
    "%matplotlib widget"
   ]
  },
  {
   "cell_type": "code",
   "execution_count": 66,
   "id": "f8037af3-2518-4050-aa7a-492715fb534e",
   "metadata": {
    "tags": []
   },
   "outputs": [
    {
     "data": {
      "text/plain": [
       "[<matplotlib.lines.Line2D at 0x1129ca9b0>]"
      ]
     },
     "execution_count": 66,
     "metadata": {},
     "output_type": "execute_result"
    },
    {
     "data": {
      "application/vnd.jupyter.widget-view+json": {
       "model_id": "6fba46dfb1e84ffc9b8d5210d9cde7c2",
       "version_major": 2,
       "version_minor": 0
      },
      "image/png": "[encoded data removed]",
      "text/html": [
       "\n",
       "            <div style=\"display: inline-block;\">\n",
       "                <div class=\"jupyter-widgets widget-label\" style=\"text-align: center;\">\n",
       "                    Figure\n",
       "                </div>\n",
       "                <img src='data:image/png;base64,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' width=640.0/>\n",
       "            </div>\n",
       "        "
      ],
      "text/plain": [
       "Canvas(toolbar=Toolbar(toolitems=[('Home', 'Reset original view', 'home', 'home'), ('Back', 'Back to previous …"
      ]
     },
     "metadata": {},
     "output_type": "display_data"
    }
   ],
   "source": [
    "x = range(len(v))\n",
    "v_lim = v[0:2]\n",
    "a = [0]\n",
    "j = [0]\n",
    "for i in range(len(v)-2):\n",
    "    v_lim.append(speed_limit(v[i+2], v_lim[i+1], v_lim[i], 1))\n",
    "for i in range(len(v)-1):\n",
    "    a.append(v_lim[i+1]-v_lim[i])\n",
    "for i in range(len(v)-1):\n",
    "    j.append(a[i+1]-a[i])\n",
    "fig, ax = plt.subplots()\n",
    "ax.plot(x, v, 'k')\n",
    "#ax.plot(x, j, 'g')\n",
    "ax.plot(x, v_lim, 'r')"
   ]
  }
 ],
 "metadata": {
  "kernelspec": {
   "display_name": "local-venv",
   "language": "python",
   "name": "local-venv"
  },
  "language_info": {
   "codemirror_mode": {
    "name": "ipython",
    "version": 3
   },
   "file_extension": ".py",
   "mimetype": "text/x-python",
   "name": "python",
   "nbconvert_exporter": "python",
   "pygments_lexer": "ipython3",
   "version": "3.10.6"
  }
 },
 "nbformat": 4,
 "nbformat_minor": 5
}
