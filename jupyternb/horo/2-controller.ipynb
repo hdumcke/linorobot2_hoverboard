{
 "cells": [
  {
   "cell_type": "markdown",
   "id": "edf3b960-476c-4edc-9e4e-40d2c7206d43",
   "metadata": {
    "tags": []
   },
   "source": [
    "## Differential Drive Controller\n",
    "\n",
    "Give the velocity V and the angular velocity $\\omega$ from a twist message (we only consider linear.x and angular.x and ignore all other components) we can calculate the angular velocity of each wheel as follows:\n",
    "\n",
    "We know\n",
    "$$\n",
    "\\omega (R + b/2) = V_r\n",
    "$$\n",
    "$$\n",
    "V_r = r\\omega_r\n",
    "$$\n",
    "$$\n",
    "V = R\\omega\n",
    "$$\n",
    "where $\\omega_r$ is the angular velocity of right wheel\n",
    "\n",
    "Whith this we obtain\n",
    "$$\n",
    "\\omega_r = \\frac{V+\\omega b/2}{r}\n",
    "$$\n",
    "\n",
    "and with\n",
    "$$\n",
    "\\omega (R - b/2) = V_l\n",
    "$$\n",
    "we obtain\n",
    "$$\n",
    "\\omega_l = \\frac{V-\\omega b/2}{r}\n",
    "$$"
   ]
  },
  {
   "cell_type": "markdown",
   "id": "38eadd26-46c9-452d-bf0c-60099d7d0e44",
   "metadata": {},
   "source": [
    "### Converting ROS twist message to wheel speeds\n",
    "\n",
    "The twist message uses m/s for linear velocity units and radians/s for the angular velocity units. We only consider the x component of the linear speed and the z component of the angular speed.\n",
    "\n",
    "Assume $linerar_x$ in the range of -1 .. 1 and $angular_z$ in the range of -1 .. 1\n",
    "\n",
    "$$\n",
    "V = linerar_x\n",
    "$$\n",
    "$$\n",
    "\\omega = angular_z\n",
    "$$\n",
    "\n",
    "With this we obtain:\n",
    "$$\n",
    "\\omega_r = \\frac{linerar_x + angular_z b/2}{r}\n",
    "$$\n",
    "$$\n",
    "\\omega_l = \\frac{linerar_x - angular_z b/2}{r}\n",
    "$$\n"
   ]
  },
  {
   "cell_type": "code",
   "execution_count": 1,
   "id": "6c22f135-ab44-4f9a-a688-b3acda88df34",
   "metadata": {
    "tags": []
   },
   "outputs": [],
   "source": [
    "r = 0.0825\n",
    "b = 2 * 0.18\n",
    "# to get good values TODO needs review"
   ]
  },
  {
   "cell_type": "code",
   "execution_count": 2,
   "id": "82d1fd4e-aa52-48b2-b47c-e15b90d664d1",
   "metadata": {
    "tags": []
   },
   "outputs": [],
   "source": [
    "def get_wheel_speed(msg):\n",
    "    l_x = 10 * msg['linear']['x'] # -10 .. 10\n",
    "    w = 55.* msg['angular']['z']  # -55 .. 55 \n",
    "    w_r = (l_x + (b/2) * w) / r\n",
    "    w_l = (l_x - (b/2) * w) / r\n",
    "    return w_l, w_r"
   ]
  },
  {
   "cell_type": "code",
   "execution_count": 3,
   "id": "2077b6ce-89a1-4dbc-82d7-57f91fccd411",
   "metadata": {
    "tags": []
   },
   "outputs": [
    {
     "name": "stdout",
     "output_type": "stream",
     "text": [
      "(121.2121212121212, 121.2121212121212)\n",
      "(-120.0, 120.0)\n",
      "(1.2121212121212077, 241.2121212121212)\n"
     ]
    }
   ],
   "source": [
    "msg = {'linear': {'x': 1.0, 'y': 0.0, 'z': 0.0}, 'angular': {'x': 0.0, 'y': 0.0, 'z': 0.0}}\n",
    "print(get_wheel_speed(msg))\n",
    "msg = {'linear': {'x': 0.0, 'y': 0.0, 'z': 0.0}, 'angular': {'x': 0.0, 'y': 0.0, 'z': 1.0}}\n",
    "print(get_wheel_speed(msg))\n",
    "msg = {'linear': {'x': 1.0, 'y': 0.0, 'z': 0.0}, 'angular': {'x': 0.0, 'y': 0.0, 'z': 1.0}}\n",
    "print(get_wheel_speed(msg))"
   ]
  },
  {
   "cell_type": "code",
   "execution_count": 4,
   "id": "cc547a3f-bad5-43d6-9839-5560d89cc000",
   "metadata": {
    "tags": []
   },
   "outputs": [
    {
     "name": "stdout",
     "output_type": "stream",
     "text": [
      "0.00 0.00 0 0\n",
      "0.00 0.10 -12 12\n",
      "0.00 0.20 -24 24\n",
      "0.00 0.30 -35 35\n",
      "0.00 0.40 -48 48\n",
      "0.00 0.50 -60 60\n",
      "0.00 0.60 -71 71\n",
      "0.00 0.70 -83 83\n",
      "0.00 0.80 -96 96\n",
      "0.00 0.90 -108 108\n",
      "0.00 1.00 -120 120\n",
      "0.10 0.00 12 12\n",
      "0.10 0.10 0 24\n",
      "0.10 0.20 -11 36\n",
      "0.10 0.30 -23 48\n",
      "0.10 0.40 -35 60\n",
      "0.10 0.50 -47 72\n",
      "0.10 0.60 -59 84\n",
      "0.10 0.70 -71 96\n",
      "0.10 0.80 -83 108\n",
      "0.10 0.90 -95 120\n",
      "0.10 1.00 -107 132\n",
      "0.20 0.00 24 24\n",
      "0.20 0.10 12 36\n",
      "0.20 0.20 0 48\n",
      "0.20 0.30 -11 60\n",
      "0.20 0.40 -23 72\n",
      "0.20 0.50 -35 84\n",
      "0.20 0.60 -47 96\n",
      "0.20 0.70 -59 108\n",
      "0.20 0.80 -71 120\n",
      "0.20 0.90 -83 132\n",
      "0.20 1.00 -95 144\n",
      "0.30 0.00 36 36\n",
      "0.30 0.10 24 48\n",
      "0.30 0.20 12 60\n",
      "0.30 0.30 0 72\n",
      "0.30 0.40 -11 84\n",
      "0.30 0.50 -23 96\n",
      "0.30 0.60 -35 108\n",
      "0.30 0.70 -47 120\n",
      "0.30 0.80 -59 132\n",
      "0.30 0.90 -71 144\n",
      "0.30 1.00 -83 156\n",
      "0.40 0.00 48 48\n",
      "0.40 0.10 36 60\n",
      "0.40 0.20 24 72\n",
      "0.40 0.30 12 84\n",
      "0.40 0.40 0 96\n",
      "0.40 0.50 -11 108\n",
      "0.40 0.60 -23 120\n",
      "0.40 0.70 -35 132\n",
      "0.40 0.80 -47 144\n",
      "0.40 0.90 -59 156\n",
      "0.40 1.00 -71 168\n",
      "0.50 0.00 60 60\n",
      "0.50 0.10 48 72\n",
      "0.50 0.20 36 84\n",
      "0.50 0.30 24 96\n",
      "0.50 0.40 12 108\n",
      "0.50 0.50 0 120\n",
      "0.50 0.60 -11 132\n",
      "0.50 0.70 -23 144\n",
      "0.50 0.80 -35 156\n",
      "0.50 0.90 -47 168\n",
      "0.50 1.00 -59 180\n",
      "0.60 0.00 72 72\n",
      "0.60 0.10 60 84\n",
      "0.60 0.20 48 96\n",
      "0.60 0.30 36 108\n",
      "0.60 0.40 24 120\n",
      "0.60 0.50 12 132\n",
      "0.60 0.60 0 144\n",
      "0.60 0.70 -11 156\n",
      "0.60 0.80 -23 168\n",
      "0.60 0.90 -35 180\n",
      "0.60 1.00 -47 192\n",
      "0.70 0.00 84 84\n",
      "0.70 0.10 72 96\n",
      "0.70 0.20 60 108\n",
      "0.70 0.30 48 120\n",
      "0.70 0.40 36 132\n",
      "0.70 0.50 24 144\n",
      "0.70 0.60 12 156\n",
      "0.70 0.70 0 168\n",
      "0.70 0.80 -11 180\n",
      "0.70 0.90 -23 192\n",
      "0.70 1.00 -35 204\n",
      "0.80 0.00 96 96\n",
      "0.80 0.10 84 108\n",
      "0.80 0.20 72 120\n",
      "0.80 0.30 60 132\n",
      "0.80 0.40 48 144\n",
      "0.80 0.50 36 156\n",
      "0.80 0.60 24 168\n",
      "0.80 0.70 12 180\n",
      "0.80 0.80 0 192\n",
      "0.80 0.90 -11 204\n",
      "0.80 1.00 -23 216\n",
      "0.90 0.00 109 109\n",
      "0.90 0.10 97 121\n",
      "0.90 0.20 85 133\n",
      "0.90 0.30 73 145\n",
      "0.90 0.40 61 157\n",
      "0.90 0.50 49 169\n",
      "0.90 0.60 37 181\n",
      "0.90 0.70 25 193\n",
      "0.90 0.80 13 205\n",
      "0.90 0.90 1 217\n",
      "0.90 1.00 -10 229\n",
      "1.00 0.00 121 121\n",
      "1.00 0.10 109 133\n",
      "1.00 0.20 97 145\n",
      "1.00 0.30 85 157\n",
      "1.00 0.40 73 169\n",
      "1.00 0.50 61 181\n",
      "1.00 0.60 49 193\n",
      "1.00 0.70 37 205\n",
      "1.00 0.80 25 217\n",
      "1.00 0.90 13 229\n",
      "1.00 1.00 1 241\n"
     ]
    }
   ],
   "source": [
    "for i in range(11):\n",
    "    for k in range(11):\n",
    "        msg['linear']['x'] = i/10\n",
    "        msg['angular']['z'] = k/10\n",
    "        w_l, w_r = get_wheel_speed(msg)\n",
    "        print(\"%.2f %.2f %s %s\" % (i/10, k/10, int(w_l), int(w_r)))"
   ]
  },
  {
   "cell_type": "markdown",
   "id": "7ea85c86-58ae-461e-945b-b21501acbff4",
   "metadata": {},
   "source": [
    "### Converting Hoverboard Feedback to Odometry message\n",
    "\n",
    "Reading $\\omega_r$ and $\\omega_l$ from the hoverboard we need to construct a odometry message. As a matter of fact we read the speed of each wheel but knowing the radius of the wheel we can calculate the angular speed of the wheel.\n",
    "\n",
    "Using:\n",
    "\n",
    "$$\n",
    "\\omega_r = \\frac{linerar_x + angular_z b/2}{r}\n",
    "$$\n",
    "$$\n",
    "\\omega_l = \\frac{linerar_x - angular_z b/2}{r}\n",
    "$$\n",
    "\n",
    "we obtain:\n",
    "$$\n",
    "linerar_x = \\frac{r \\cdot (\\omega_r + \\omega_l )}{2}\n",
    "$$\n",
    "$$\n",
    "angular_z = \\frac{r \\cdot (\\omega_r - \\omega_l )}{b}\n",
    "$$\n",
    "\n",
    "\n",
    "As a next step we have to calculate the position and orientation at time $\\Delta$t given the position and orientation at time t.\n",
    "\n",
    "$$\n",
    "x(t_0) = 0\n",
    "$$\n",
    "$$\n",
    "y(t_0) = 0\n",
    "$$\n",
    "$$\n",
    "\\Theta(t_0) = 0\n",
    "$$\n",
    "$$\n",
    "t_{n+1} = t_n + \\Delta t\n",
    "$$\n",
    "$$\n",
    "x(t_{n+1}) = x(t_n) + h(v_l(t_n) + v_r(t_n))cos(\\Theta(t)\n",
    "$$\n",
    "$$\n",
    "y(t_{n+1}) = y(t_n) + h(v_l(t_n) + v_r(t_n))sin(\\Theta(t)\n",
    "$$\n",
    "$$\n",
    "\\Theta(t_{n+1}) =\\Theta(t_n) + h(v_r(t) - v_l(t)\n",
    "$$\n",
    "where $h = t_{n+1} - t_n$\n",
    "\n",
    "\n",
    "And to calculate a quaternion from $\\Theta$:\n",
    "\n",
    "$$\n",
    "q_w = cos(\\Theta/2)\n",
    "$$\n",
    "$$\n",
    "q_z = 0\n",
    "$$\n",
    "$$q_y = 0\n",
    "$$\n",
    "$$q_z = sin(\\Theta/2)\n",
    "$$\n",
    "\n"
   ]
  },
  {
   "cell_type": "code",
   "execution_count": 5,
   "id": "86c795b0-5867-4466-bb65-a5d09ddc45bf",
   "metadata": {
    "tags": []
   },
   "outputs": [],
   "source": [
    "import numpy as np\n",
    "import quaternion"
   ]
  },
  {
   "cell_type": "code",
   "execution_count": 6,
   "id": "fe9c6416-c814-40b5-9a17-aa0a7a70a30b",
   "metadata": {
    "tags": []
   },
   "outputs": [],
   "source": [
    "def get_pose(x0, y0, Theta0, v_r, v_l, delta_t):\n",
    "    Theta1 = Theta0 + delta_t * (v_r - v_l)\n",
    "    x1 = x0 + delta_t * (v_r + v_l) * np.cos(Theta1/2)\n",
    "    y1 = y0 + delta_t * (v_r + v_l) * np.sin(Theta1/2)\n",
    "    q1 = np.quaternion(np.cos(Theta1/2), 0, 0, np.sin(Theta1/2))\n",
    "    return x1, y1, Theta1, q1"
   ]
  },
  {
   "cell_type": "code",
   "execution_count": 7,
   "id": "ebbaa634-08fa-4916-b2ea-b47cabdce5c5",
   "metadata": {
    "tags": []
   },
   "outputs": [
    {
     "name": "stdout",
     "output_type": "stream",
     "text": [
      "x: 0.00 y: 0.00 q: quaternion(0.998750260394966, 0, 0, 0.0499791692706783)\n",
      "x: 0.00 y: 0.00 q: quaternion(0.995004165278026, 0, 0, 0.0998334166468282)\n",
      "x: 0.00 y: 0.00 q: quaternion(0.988771077936042, 0, 0, 0.149438132473599)\n",
      "x: 0.00 y: 0.00 q: quaternion(0.980066577841242, 0, 0, 0.198669330795061)\n",
      "x: 0.00 y: 0.00 q: quaternion(0.968912421710645, 0, 0, 0.247403959254523)\n",
      "x: 0.00 y: 0.00 q: quaternion(0.955336489125606, 0, 0, 0.29552020666134)\n",
      "x: 0.00 y: 0.00 q: quaternion(0.939372712847379, 0, 0, 0.342897807455451)\n",
      "x: 0.00 y: 0.00 q: quaternion(0.921060994002885, 0, 0, 0.38941834230865)\n",
      "x: 0.00 y: 0.00 q: quaternion(0.900447102352677, 0, 0, 0.43496553411123)\n",
      "x: 0.00 y: 0.00 q: quaternion(0.877582561890373, 0, 0, 0.479425538604203)\n"
     ]
    }
   ],
   "source": [
    "delta_t = 1/20\n",
    "v_r = 1.\n",
    "v_l = -1.\n",
    "x_n = 0.\n",
    "y_n = 0.\n",
    "Theta_n = 0.\n",
    "for i in range(10):\n",
    "    x_n, y_n, Theta_n, q = get_pose(x_n, y_n, Theta_n, v_r, v_l, delta_t)\n",
    "    print(\"x: %.2f y: %.2f q: %s\" % (x_n, y_n, q))"
   ]
  },
  {
   "cell_type": "markdown",
   "id": "e635436c-f2b1-4dba-99cd-f391fce8658c",
   "metadata": {},
   "source": [
    "# Applying Limits\n",
    "\n",
    "We receive velocity (linear and angular), the time derivate of velocity is acceleration and the time derivate of acceleration is called jerk or jolt. To provide for a smooth movement of the robot we must apply limits to the velocity and the acceleration. At any time t the following contraints apply:\n",
    "\n",
    "$$\n",
    "v_{min} \\le v(t) \\le v_{max}\n",
    "$$\n",
    "$$\n",
    "a_{min} \\le \\dot{v}(t) \\le a_{max}\n",
    "$$\n",
    "$$\n",
    "j_{min} \\le \\ddot{v}(t) \\le j_{max}\n",
    "$$\n",
    "\n",
    "To solve $\\ddot{v}$ numerically we need three data point $v_n$, $v_{n-1}$ and $v_{n-2}$"
   ]
  },
  {
   "cell_type": "code",
   "execution_count": 8,
   "id": "e999b428-d013-4c19-8771-16703319b5c1",
   "metadata": {
    "tags": []
   },
   "outputs": [],
   "source": [
    "v_limit = 1.0\n",
    "a_limit = 5.0\n",
    "j_limit = 100.0\n",
    "v_min = -v_limit\n",
    "v_max = v_limit\n",
    "a_min = -a_limit\n",
    "a_max = a_limit\n",
    "j_min = -j_limit\n",
    "j_max = j_limit"
   ]
  },
  {
   "cell_type": "code",
   "execution_count": 9,
   "id": "59016ef6-b048-40aa-845b-011aa73eadbc",
   "metadata": {
    "tags": []
   },
   "outputs": [],
   "source": [
    "def speed_limit(v_n, v_n1,v_n2, dt):\n",
    "    a1 = (v_n - v_n1) / dt\n",
    "    a2 = (v_n1 - v_n2) / dt\n",
    "    a1 = min(a1, a_max)\n",
    "    a2 = min(a2, a_max)\n",
    "    a1 = max(a1, a_min)\n",
    "    a2 = max(a2, a_min)\n",
    "    j = (a1 - a2) / dt\n",
    "    j = min(j, j_max)\n",
    "    j = max(j, j_min)\n",
    "    v = 2 * v_n1 - v_n2 + j * dt**2\n",
    "    v = min(v, v_max)\n",
    "    v = max(v, v_min)\n",
    "    return v"
   ]
  },
  {
   "cell_type": "code",
   "execution_count": 10,
   "id": "afd7d117-1249-4942-9925-3c45edb38406",
   "metadata": {
    "tags": []
   },
   "outputs": [],
   "source": [
    "dt = 1/20\n",
    "t_max = 30\n",
    "x = np.arange(0, t_max, dt)\n",
    "v = np.zeros_like(x)\n",
    "v[10] = 0.5\n",
    "v[11] = 1.0\n",
    "v[12] = 1.5\n",
    "v[13] = 2.0\n",
    "v[14:74] = 2.0\n",
    "v[75:135] = -1.0\n",
    "v[180:240] = -1.0\n",
    "v[300:360] = 1.0"
   ]
  },
  {
   "cell_type": "code",
   "execution_count": 11,
   "id": "5c9a95f1-860c-486b-911e-a10760febe54",
   "metadata": {
    "tags": []
   },
   "outputs": [],
   "source": [
    "import numpy as np\n",
    "import matplotlib.pyplot as plt\n",
    "%matplotlib widget"
   ]
  },
  {
   "cell_type": "code",
   "execution_count": 12,
   "id": "f8037af3-2518-4050-aa7a-492715fb534e",
   "metadata": {
    "tags": []
   },
   "outputs": [
    {
     "data": {
      "text/plain": [
       "[<matplotlib.lines.Line2D at 0x11285ac50>]"
      ]
     },
     "execution_count": 12,
     "metadata": {},
     "output_type": "execute_result"
    },
    {
     "data": {
      "application/vnd.jupyter.widget-view+json": {
       "model_id": "226eeae45542434d8b4e24fe14a8b7a2",
       "version_major": 2,
       "version_minor": 0
      },
      "image/png": "[encoded data removed]",
      "text/html": [
       "\n",
       "            <div style=\"display: inline-block;\">\n",
       "                <div class=\"jupyter-widgets widget-label\" style=\"text-align: center;\">\n",
       "                    Figure\n",
       "                </div>\n",
       "                <img src='data:image/png;base64,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' width=640.0/>\n",
       "            </div>\n",
       "        "
      ],
      "text/plain": [
       "Canvas(toolbar=Toolbar(toolitems=[('Home', 'Reset original view', 'home', 'home'), ('Back', 'Back to previous …"
      ]
     },
     "metadata": {},
     "output_type": "display_data"
    }
   ],
   "source": [
    "v_lim = [v[0], v[1]]\n",
    "a = [0]\n",
    "j = [0]\n",
    "for i in range(len(v)-2):\n",
    "    v_lim.append(speed_limit(v[i+2], v_lim[i+1], v_lim[i], 1/20))\n",
    "for i in range(len(v)-1):\n",
    "    a.append(v_lim[i+1]-v_lim[i])\n",
    "for i in range(len(v)-1):\n",
    "    j.append(a[i+1]-a[i])\n",
    "fig, ax = plt.subplots()\n",
    "ax.plot(x, v, 'k')\n",
    "ax.plot(x, v_lim, 'r')\n",
    "#ax.plot(x, a, 'g')\n",
    "#ax.plot(x, j, 'b')"
   ]
  },
  {
   "cell_type": "markdown",
   "id": "7b3ef2a9-14c0-41f6-bac4-6e004253f1d5",
   "metadata": {},
   "source": [
    "## PID Controller\n",
    "\n",
    "In a closed loop system the controller will use the the output to adapt the input\n",
    "\n",
    "![pid_controller](PID_controller.png)\n",
    "$$source: \\href{https://en.wikipedia.org/wiki/PID_controller}{wikipedia}$$\n",
    "\n",
    "Error\n",
    "-----\n",
    "Control Systems try to reduce **error** in a system. It measures of how far away the **current state** is from the **desired state.**\n",
    " \n",
    "PID\n",
    "---\n",
    "$$ PID_{response} = K_{p}*E + K_{i}\\int_{0}^{t} E*dt + K_{d}dE$$\n",
    "\n",
    "Horo\n",
    "----\n",
    "\n",
    "We model a single motor as a device that receives an input between -100 and 100 and returns an output between -100 and 100. We also assume that the acceleration of the motor is limited. We will provide a model that allows to simulate errors in the output"
   ]
  },
  {
   "cell_type": "code",
   "execution_count": 13,
   "id": "d14680ca-a0e2-4078-9761-4208ca760a2a",
   "metadata": {},
   "outputs": [],
   "source": [
    "import random\n",
    "class Process(object):\n",
    "    def __init__(self, dt, acc_limit=1.0, noise=False):\n",
    "        self.last_pos = 0\n",
    "        self.noise = noise\n",
    "        self.dt = dt\n",
    "        self.acc_limit = acc_limit\n",
    "        self.vel_limit = 1000\n",
    "        self.hole = 50\n",
    "\n",
    "    def update(self, new_pos):\n",
    "        acc = (new_pos - self.last_pos) / self.dt\n",
    "        acc = max(acc, -self.acc_limit)\n",
    "        acc = min(acc, self.acc_limit)\n",
    "        pos = self.last_pos + acc * dt\n",
    "        if self.noise:\n",
    "            if bool(random.getrandbits(1)):\n",
    "                pos += 0.025 * pos * random.random()\n",
    "            else:\n",
    "                pos -= 0.025 * pos * random.random()\n",
    "        pos = max(pos, -self.vel_limit)\n",
    "        pos = min(pos, self.vel_limit)\n",
    "        self.last_pos = pos\n",
    "        # hoverboard gen2 sets speed to zero for any value between -50 and 50\n",
    "        if pos > -self.hole and pos < self.hole:\n",
    "            pos = 0\n",
    "        return pos"
   ]
  },
  {
   "cell_type": "code",
   "execution_count": 14,
   "id": "cc97be6e-6202-4aa2-9b72-6b163120561e",
   "metadata": {
    "tags": []
   },
   "outputs": [],
   "source": [
    "class Controller(object):\n",
    "    def __init__(self, Kp, Ki, Kd, dt):\n",
    "        self.dt = dt\n",
    "        self.Kp = Kp\n",
    "        self.Ki = Ki\n",
    "        self.Kd = Kd\n",
    "        self.dt = dt\n",
    "        self.Kp_part = 0.\n",
    "        self.Ki_part = 0.\n",
    "        self.Kd_part = 0.\n",
    "        self.prev_error = 0\n",
    "        self.prev_errors_sum = 0\n",
    "        \n",
    "    def update(self, error):\n",
    "        d_error = error - self.prev_error\n",
    "        self.Kp_part = self.Kp * error\n",
    "        self.Ki_part = self.Ki * (self.prev_errors_sum + error) * dt\n",
    "        self.Kd_part = self.Kd * d_error / dt\n",
    "        controller_return = self.Kp_part + self.Ki_part + self.Kd_part\n",
    "        self.prev_errors_sum  = self.prev_errors_sum  + error\n",
    "        return controller_return"
   ]
  },
  {
   "cell_type": "code",
   "execution_count": 15,
   "id": "e1e571f9-2eb8-4bb2-8fbc-f570e2ee08ec",
   "metadata": {
    "tags": []
   },
   "outputs": [],
   "source": [
    "dt = 1/20\n",
    "t_max = 30\n",
    "x = np.arange(0, t_max, dt)\n",
    "v_desired = np.zeros_like(x)\n",
    "v_desired[10] = 25.0\n",
    "v_desired[11] = 50.0\n",
    "v_desired[12] = 75.0\n",
    "v_desired[13:74] = 100.0\n",
    "v_desired[75:135] = -100.0\n",
    "v_desired[180:240] = -100.0\n",
    "v_desired[300:360] = 100.0\n",
    "v_desired[420:480] = 150.0\n",
    "\n",
    "v_desired[0:600] = 100.0"
   ]
  },
  {
   "cell_type": "code",
   "execution_count": 16,
   "id": "bd806503-042d-48c6-b33c-da32bb7b4c23",
   "metadata": {
    "tags": []
   },
   "outputs": [
    {
     "name": "stdout",
     "output_type": "stream",
     "text": [
      "0.00 100.00 100.00 0.00 100.00\n",
      "100.00 100.00 50.00 50.00 50.00\n",
      "50.00 100.00 75.00 75.00 25.00\n",
      "25.00 100.00 87.50 87.50 12.50\n",
      "12.50 100.00 93.75 93.75 6.25\n"
     ]
    }
   ],
   "source": [
    "# for debugging\n",
    "proc = Process(dt, acc_limit=900.)\n",
    "ct = Controller(0.5, 0.0, .0, dt)\n",
    "error = 0\n",
    "desired_pos = 100\n",
    "for i in range(5):\n",
    "    cr = ct.update(error)\n",
    "    if desired_pos > 0:\n",
    "        set_pos = min(50, desired_pos - cr)\n",
    "    set_pos = desired_pos - cr\n",
    "    pos_set = proc.update(set_pos)\n",
    "    print(\"%.2f %.2f %.2f %.2f %.2f\" % (error, desired_pos, set_pos, pos_set, desired_pos - pos_set))\n",
    "    error = desired_pos - pos_set"
   ]
  },
  {
   "cell_type": "code",
   "execution_count": 17,
   "id": "0a8301ca-31dd-4cc5-9823-2d17c8dbfd78",
   "metadata": {},
   "outputs": [
    {
     "data": {
      "text/plain": [
       "[<matplotlib.lines.Line2D at 0x11298d7e0>]"
      ]
     },
     "execution_count": 17,
     "metadata": {},
     "output_type": "execute_result"
    },
    {
     "data": {
      "application/vnd.jupyter.widget-view+json": {
       "model_id": "55e05bb707aa4e23aaec0f37730a72e1",
       "version_major": 2,
       "version_minor": 0
      },
      "image/png": "[encoded data removed]",
      "text/html": [
       "\n",
       "            <div style=\"display: inline-block;\">\n",
       "                <div class=\"jupyter-widgets widget-label\" style=\"text-align: center;\">\n",
       "                    Figure\n",
       "                </div>\n",
       "                <img src='data:image/png;base64,iVBORw0KGgoAAAANSUhEUgAAAoAAAAHgCAYAAAA10dzkAAAAOXRFWHRTb2Z0d2FyZQBNYXRwbG90bGliIHZlcnNpb24zLjYuMywgaHR0cHM6Ly9tYXRwbG90bGliLm9yZy/P9b71AAAACXBIWXMAAA9hAAAPYQGoP6dpAAAl/UlEQVR4nO3df5BVhXnw8Wf5scvPXQTDLhsBN2pFo5IUFTcak8qOaDKORN5WGpqXGEebBGyAJiZ0ApbWuJG2hmKJNGmqZkY0sRNMdSYYByNOJoiKJVFriFpmIMVdmh/sCshC2fP+wbu3XYN6dw9w9tzz+czs7O69dy8Pxzvynefee7YqSZIkAAAojEFZDwAAwIklAAEACkYAAgAUjAAEACgYAQgAUDACEACgYAQgAEDBCEAAgIIRgAAABSMAAQAKRgACABSMAAQAKBgBCABQMAIQAKBgBCAAQMEIQACAghGAAAAFIwABAApGAAIAFIwABAAoGAEIAFAwAhAAoGAEIABAwQhAAICCEYAAAAUjAAEACkYAAgAUjAAEACgYAQgAUDACEACgYAQgAEDBCEAAgIIRgAAABSMAAQAKRgACABSMAAQAKBgBCABQMAIQAKBgBCAAQMEIQACAghGAAAAFIwABAApGAAIAFIwABAAoGAEIAFAwAhAAoGAEIABAwQhAAICCEYAAAAUjAAEACkYAAgAUjAAEACgYAQgAUDACEACgYAQgAEDBCEAAgIIZkvUAedbd3R27du2K0aNHR1VVVdbjAABlSJIkXn/99WhsbIxBg4q5CxOAKezatSsmTpyY9RgAQD/s3LkzTjnllKzHyIQATGH06NERceQBVFtbm/E0AEA5Ojs7Y+LEiaV/x4tIAKbQ87RvbW2tAASAnCnyy7eK+cQ3AECBCUAAgIIRgAAABSMAAQAKRgACABSMAAQAKBgBCABQMAIQAKBgBCAAQMHkMgCffPLJuOqqq6KxsTGqqqrioYce6nV9kiSxbNmymDBhQgwfPjxaWlri5Zdf7nWb3/zmNzF37tyora2NMWPGxPXXXx979+49gX8LAIBs5DIA9+3bF1OnTo3Vq1cf9foVK1bEqlWrYs2aNbF58+YYOXJkzJw5Mw4cOFC6zdy5c+PFF1+Mxx57LB555JF48skn48YbbzxRfwUAgMxUJUmSZD1EGlVVVbFu3bqYNWtWRBzZ/jU2Nsaf//mfx+c///mIiOjo6Ij6+vq45557Ys6cOfHSSy/F2WefHc8880ycf/75ERGxfv36+MhHPhK//OUvo7Gxsaw/u7OzM+rq6qKjo+OY/i7gJEli//79x+z+ACCvRowYccx/Z+/x+vc7T4ZkPcCxtn379mhra4uWlpbSZXV1dTF9+vTYtGlTzJkzJzZt2hRjxowpxV9EREtLSwwaNCg2b94cH/vYx456311dXdHV1VX6vrOz87j8Hfbv3x+jRo06Jvd1WkS0RERTRNTGkf/gQ6MC/8MDUJH+z333xbCPfzzrMSpOxXVAW1tbRETU19f3ury+vr50XVtbW4wfP77X9UOGDImxY8eWbnM0ra2tsXz58mM88fFRFRF3RMTCjOcAgDQOvvhi1iNUpIoLwONpyZIlsXjx4tL3nZ2dMXHixGP+54wYMSL1G1KGrlwZ1V/+ckREHP7Qh6L77LMjOemkiCFDIoYMiWTIkIhBuXwJKAAFUv3BD2Y9QkWquABsaGiIiIj29vaYMGFC6fL29vZ43/veV7rN7t27e/3cf//3f8dvfvOb0s8fTU1NTdTU1Bz7od+kqqoqRo4c2f872Ls34rbbjnz99a/H4M98JgYfm9EAgApQcSugpqamaGhoiA0bNpQu6+zsjM2bN0dzc3NERDQ3N8eePXtiy5Ytpds8/vjj0d3dHdOnTz/hMx9zDz0UsX9/xOmnR3z601lPAwAMMLncAO7duzdeeeWV0vfbt2+PrVu3xtixY2PSpEmxcOHCuPXWW+OMM86IpqamWLp0aTQ2NpbeKXzWWWfFFVdcETfccEOsWbMmDh06FAsWLIg5c+aU/Q7gAe173zvyee7ciGP8zikAIP9yGYDPPvts/MEf/EHp+57X5c2bNy/uueeeuPnmm2Pfvn1x4403xp49e+KSSy6J9evXx7Bhw0o/c99998WCBQtixowZMWjQoJg9e3asWrXqhP9djoutW498/vCHs5wCABigcn8ewCwNyPMIdXZG1NUd+fpXv4oYNy7beQBggBmQ/36fYBX3GsDCe+GFI5/f/W7xBwAclQCsNM8/f+TzuedmOwcAMGAJwErzy18e+fye92Q7BwAwYAnAStPefuTzm34TCgBADwFYaQQgAPAOBGClEYAAwDsQgJVGAAIA70AAVpIkEYAAwDsSgJVk796IN9448vX48dnOAgAMWAKwkvRs/0aMiBg1KttZAIABSwBWkt/85sjnk0/Odg4AYEATgJVk374jn23/AIC3IQAryd69Rz4LQADgbQjAStKzARw5Mts5AIABTQBWEhtAAKAMArCS2AACAGUQgJXEBhAAKIMArCQ2gABAGQRgJbEBBADKIAAriQ0gAFAGAVhJbAABgDIIwEpiAwgAlEEAVhIbQACgDAKwktgAAgBlEICVpGcDKAABgLchACtJzwbQU8AAwNsQgJXEBhAAKIMArCQ2gABAGQRgpTh0KOLgwSNf2wACAG9DAFaKnu1fhA0gAPC2BGCl6AnAIUMiqquznQUAGNAEYKVwEmgAoEwCsFI4CTQAUCYBWClsAAGAMgnASmEDCACUSQBWChtAAKBMArBS2AACAGUSgJXCBhAAKJMArBQ2gABAmQRgpbABBADKJAArhQ0gAFAmAVgpejaAAhAAeAcCsFL0bAA9BQwAvAMBWClsAAGAMgnASmEDCACUSQBWChtAAKBMArBS2AACAGUSgJXCaWAAgDIJwErhRNAAQJkEYKWwAQQAyiQAK0F3d8T+/Ue+tgEEAN6BAKwEPfEXYQMIALwjAVgJel7/V1UVMXx4trMAAAOeAKwE//v1f1VV2c4CAAx4ArASeAcwANAHArASeAcwANAHFRuAhw8fjqVLl0ZTU1MMHz48TjvttPjrv/7rSJKkdJskSWLZsmUxYcKEGD58eLS0tMTLL7+c4dT9ZAMIAPRBxQbg7bffHnfddVf8wz/8Q7z00ktx++23x4oVK+LOO+8s3WbFihWxatWqWLNmTWzevDlGjhwZM2fOjAMHDmQ4eT/YAAIAfTAk6wGOl5/85Cdx9dVXx0c/+tGIiDj11FPj/vvvj6effjoijmz/Vq5cGV/+8pfj6quvjoiIb3/721FfXx8PPfRQzJkzJ7PZ+8wGEADog4rdAH7gAx+IDRs2xC9+8YuIiPjpT38aP/7xj+PKK6+MiIjt27dHW1tbtLS0lH6mrq4upk+fHps2bcpk5n6zAQQA+qBiN4Bf+tKXorOzM6ZMmRKDBw+Ow4cPx1e+8pWYO3duRES0tbVFRER9fX2vn6uvry9d92ZdXV3R1dVV+r6zs/M4Td9HPRtAAQgAlKFiN4Df/e5347777ou1a9fGc889F/fee2/87d/+bdx77739vs/W1taoq6srfUycOPEYTpxCzwbQU8AAQBkqNgC/8IUvxJe+9KWYM2dOnHvuufGJT3wiFi1aFK2trRER0dDQEBER7e3tvX6uvb29dN2bLVmyJDo6OkofO3fuPL5/iXLZAAIAfVCxAbh///4YNKj3X2/w4MHR3d0dERFNTU3R0NAQGzZsKF3f2dkZmzdvjubm5qPeZ01NTdTW1vb6GBBsAAGAPqjY1wBeddVV8ZWvfCUmTZoU733ve+Pf/u3f4o477ohPfepTERFRVVUVCxcujFtvvTXOOOOMaGpqiqVLl0ZjY2PMmjUr2+H7yptAAIA+qNgAvPPOO2Pp0qXx2c9+Nnbv3h2NjY3xp3/6p7Fs2bLSbW6++ebYt29f3HjjjbFnz5645JJLYv369TFs2LAMJ+8Hp4EBAPqgKvnfvxqDPuns7Iy6urro6OjI9ungK66IePTRiHvvjfi//ze7OQAgBwbMv98ZqtjXABaKDSAA0AcCsBJ4DSAA0AcCsBLYAAIAfSAAK4ENIADQBwKwEtgAAgB9IADzLklsAAGAPhGAeXfgQMT//+0mNoAAQDkEYN71bP8iIkaMyG4OACA3BGDe9bz+b/jwiMGDs50FAMgFAZh3Xv8HAPSRAMy7ng2gAAQAyiQA865nA+gNIABAmQRg3tkAAgB9JADzzgYQAOgjAZh33gQCAPSRAMw7vwYOAOgjAZh3NoAAQB8JwLyzAQQA+kgA5p0NIADQRwIw72wAAYA+EoB5ZwMIAPSRAMw7G0AAoI8EYN7ZAAIAfSQA884GEADoIwGYdzaAAEAfCcC8swEEAPpIAOadDSAA0EcCMO96NoACEAAokwDMs4MHIw4dOvK1p4ABgDIJwDzrefo3wgYQACibAMyzngAcOjSiujrbWQCA3BCAeeb1fwBAPwjAPOvZAHr9HwDQBwIwz5wCBgDoBwGYZ04CDQD0gwDMMxtAAKAfBGCe2QACAP0gAPPMBhAA6AcBmGc2gABAPwjAPLMBBAD6QQDmmQ0gANAPAjDPbAABgH4QgHlmAwgA9IMAzDMbQACgHwRgntkAAgD9IADzzAYQAOgHAZhnPRtAAQgA9IEAzLOeDaCngAGAPhCAeWYDCAD0gwDMMxtAAKAfBGBeHT4c8cYbR762AQQA+kAA5tX+/f/ztQ0gANAHAjCvep7+raqKGDYs21kAgFwRgHn1v08CXVWV7SwAQK4IwLxyEmgAoJ8EYF75NXAAQD9VdAD+53/+Z/zJn/xJjBs3LoYPHx7nnntuPPvss6XrkySJZcuWxYQJE2L48OHR0tISL7/8coYT94ENIADQTxUbgL/97W/j4osvjqFDh8YPfvCD+Pd///f4u7/7uzjppJNKt1mxYkWsWrUq1qxZE5s3b46RI0fGzJkz48CBAxlOXiYbQACgn4ZkPcDxcvvtt8fEiRPj7rvvLl3W1NRU+jpJkli5cmV8+ctfjquvvjoiIr797W9HfX19PPTQQzFnzpwTPnOf2AACAP1UsRvAf/3Xf43zzz8//vAP/zDGjx8f73//++Ob3/xm6frt27dHW1tbtLS0lC6rq6uL6dOnx6ZNm7IYuW9sAAGAfqrYAPyP//iPuOuuu+KMM86IRx99ND7zmc/En/3Zn8W9994bERFtbW0REVFfX9/r5+rr60vXvVlXV1d0dnb2+siMDSAA0E8V+xRwd3d3nH/++XHbbbdFRMT73//+eOGFF2LNmjUxb968ft1na2trLF++/FiO2X82gABAP1XsBnDChAlx9tln97rsrLPOih07dkRERENDQ0REtLe397pNe3t76bo3W7JkSXR0dJQ+du7ceRwmL5MNIADQTxUbgBdffHFs27at12W/+MUvYvLkyRFx5A0hDQ0NsWHDhtL1nZ2dsXnz5mhubj7qfdbU1ERtbW2vj8z0bAAFIADQRxX7FPCiRYviAx/4QNx2223xR3/0R/H000/HN77xjfjGN74RERFVVVWxcOHCuPXWW+OMM86IpqamWLp0aTQ2NsasWbOyHb4cPRtATwEDAH1UsQF4wQUXxLp162LJkiXxV3/1V9HU1BQrV66MuXPnlm5z8803x759++LGG2+MPXv2xCWXXBLr16+PYcOGZTh5mWwAAYB+qkqSJMl6iLzq7OyMurq66OjoOPFPB8+cGfHDH0Z8+9sRn/jEif2zASDHMv33e4Co2NcAVjxvAgEA+kkA5pXTwAAA/SQA88oGEADoJwGYVzaAAEA/CcC8sgEEAPpJAOZRktgAAgD9JgDz6MCBIxEYYQMIAPSZAMyjnu1fRMSIEdnNAQDkkgDMo57X/w0fHjF4cLazAAC5IwDzyOv/AIAUBGAeeQcwAJCCAMwjG0AAIAUBmEc2gABACgIwj3o2gAIQAOgHAZhHPRtATwEDAP0gAPPIBhAASEEA5pENIACQggDMI28CAQBSEIB55DQwAEAKAjCPbAABgBQEYB7ZAAIAKQjAPLIBBABSEIB5ZAMIAKQgAPPIBhAASEEA5pENIACQggDMIxtAACAFAZhHNoAAQAoCMI/eeOPI5+HDs50DAMglAZhH3d1HPg/ynw8A6DsFkUdJcuRzVVW2cwAAuSQA88gGEABIQUHkkQ0gAJCCAMwjAQgApCAA80wAAgD9IADzpmf7FyEAAYB+EYB5IwABgJQEYN4IQAAgJQGYNz2ngIlwGhgAoF8URN7YAAIAKQnAvBGAAEBKAjBvBCAAkJIAzBsBCACkJADzRgACACkJwLwRgABASgIwb5wGBgBISUHkjQ0gAJCSAMwbAQgApCQA80YAAgApCcC8EYAAQEoCMG8EIACQkgDMGwEIAKQkAPPGaWAAgJQURN7YAAIAKQnAvPnfAQgA0A8CMG96AtD2DwDoJwGYNwIQAEhJAOaNAAQAUipEAH71q1+NqqqqWLhwYemyAwcOxPz582PcuHExatSomD17drS3t2c3ZLkEIACQUsUH4DPPPBP/+I//GOedd16vyxctWhQPP/xwPPjgg7Fx48bYtWtXXHPNNRlN2Qc9p4FxChgAoJ8quiL27t0bc+fOjW9+85tx0kknlS7v6OiIb33rW3HHHXfEZZddFtOmTYu77747fvKTn8RTTz2V4cRlsAEEAFKq6ACcP39+fPSjH42WlpZel2/ZsiUOHTrU6/IpU6bEpEmTYtOmTW95f11dXdHZ2dnr44QTgABASkOyHuB4eeCBB+K5556LZ5555neua2tri+rq6hgzZkyvy+vr66Otre0t77O1tTWWL19+rEftGwEIAKRUkRvAnTt3xuc+97m47777YtiwYcfsfpcsWRIdHR2lj507dx6z+y6bAAQAUqrIANyyZUvs3r07fv/3fz+GDBkSQ4YMiY0bN8aqVatiyJAhUV9fHwcPHow9e/b0+rn29vZoaGh4y/utqamJ2traXh8nnAAEAFKqyKeAZ8yYEc8//3yvy6677rqYMmVKfPGLX4yJEyfG0KFDY8OGDTF79uyIiNi2bVvs2LEjmpubsxi5fAIQAEipIgNw9OjRcc455/S6bOTIkTFu3LjS5ddff30sXrw4xo4dG7W1tXHTTTdFc3NzXHTRRVmMXD6ngQEAUqrIACzH1772tRg0aFDMnj07urq6YubMmfH1r38967HemQ0gAJBSVZL0FAV91dnZGXV1ddHR0XHiXg+4bVvElCkRY8ZE/Pa3J+bPBIAKksm/3wOM5xHzxgYQAEhJAOaNAAQAUhKAeSMAAYCUBGDeCEAAICUBmDdOAwMApKQi8sYGEABISQDmjQAEAFISgHkjAAGAlARg3ghAACAlAZg3AhAASEkA5o0ABABSEoB54zQwAEBKKiJvbAABgJQEYN4IQAAgJQGYNwIQAEhJAOaNAAQAUhKAeSMAAYCUBGDeCEAAICUBmDdOAwMApKQi8sYGEABISQDmjQAEAFISgHkjAAGAlARg3ghAACAlAZg3AhAASEkA5o0ABABSEoB54zQwAEBKKiJvbAABgJQEYN4IQAAgJQGYNwIQAEhJAOaNAAQAUhKAeSMAAYCUBGDeCEAAICUBmDdOAwMApKQi8sYGEABISQDmjQAEAFISgHkjAAGAlARg3ghAACAlAZg3AhAASEkA5o0ABABSEoB54zQwAEBKKiJvbAABgJQEYN4IQAAgJQGYNwIQAEhJAOaNAAQAUhKAeSMAAYCUBGDeCEAAICUBmDdOAwMApKQi8sYGEABISQDmjQAEAFISgHkjAAGAlARg3ghAACAlAZg3AhAASEkA5o0ABABSEoB54zQwAEBKKiJvbAABgJQEYN4IQAAgpYoNwNbW1rjgggti9OjRMX78+Jg1a1Zs27at120OHDgQ8+fPj3HjxsWoUaNi9uzZ0d7entHEZRKAAEBKFRuAGzdujPnz58dTTz0Vjz32WBw6dCguv/zy2LdvX+k2ixYtiocffjgefPDB2LhxY+zatSuuueaaDKcugwAEAFIakvUAx8v69et7fX/PPffE+PHjY8uWLXHppZdGR0dHfOtb34q1a9fGZZddFhERd999d5x11lnx1FNPxUUXXZTF2O9MAAIAKVXsBvDNOjo6IiJi7NixERGxZcuWOHToULS0tJRuM2XKlJg0aVJs2rTpqPfR1dUVnZ2dvT5OOAEIAKRUiADs7u6OhQsXxsUXXxznnHNORES0tbVFdXV1jBkzptdt6+vro62t7aj309raGnV1daWPiRMnHu/Rf5fTwAAAKRWiIubPnx8vvPBCPPDAA6nuZ8mSJdHR0VH62Llz5zGasA9sAAGAlCr2NYA9FixYEI888kg8+eSTccopp5Qub2hoiIMHD8aePXt6bQHb29ujoaHhqPdVU1MTNTU1x3vktycAAYCUKnYDmCRJLFiwINatWxePP/54NDU19bp+2rRpMXTo0NiwYUPpsm3btsWOHTuiubn5RI9bPgEIAKRUsRvA+fPnx9q1a+P73/9+jB49uvS6vrq6uhg+fHjU1dXF9ddfH4sXL46xY8dGbW1t3HTTTdHc3Dxw3wEcIQABgNQqNgDvuuuuiIj48Ic/3Ovyu+++Oz75yU9GRMTXvva1GDRoUMyePTu6urpi5syZ8fWvf/0ET9pHAhAASKliAzDpCaW3MWzYsFi9enWsXr36BEx0jAhAACClin0NYMVyGhgAICUVkTc2gABASgIwbwQgAJCSAMwbAQgApCQA80YAAgApCcC8EYAAQEoCMG8EIACQkgDMG6eBAQBSUhF5YwMIAKQkAPNGAAIAKQnAvBGAAEBKAjBvBCAAkJIAzBsBCACkJADzRgACACkJwLxxGhgAICUVkTc2gABASgIwbwQgAJCSAMwbAQgApCQA80YAAgApCcC8EYAAQEoCMG8EIACQkgDMG6eBAQBSUhF5YwMIAKQkAPNGAAIAKQnAvBGAAEBKAjBvBCAAkJIAzBsBCACkJADzRgACACkJwLxxGhgAICUVkTc2gABASgIwbwQgAJCSAMwbAQgApCQA80YAAgApCcC8EYAAQEoCMG8EIACQkgDMG6eBAQBSUhF5YwMIAKQkAPNGAAIAKQnAvBGAAEBKAjBvBCAAkJIAzBsBCACkJADzpuddwAIQAOgnAZg3PRtAp4EBAPpJReSNp4ABgJQEYN4IQAAgJQGYNwIQAEhJAOaNAAQAUhKAeSMAAYCUBGDeOA0MAJCSAMwbp4EBAFJSEXnjKWAAICUBmDcCEABISQDmjQAEAFISgHkjAAGAlARg3ghAACAlAZg3TgMDAKRU+ABcvXp1nHrqqTFs2LCYPn16PP3001mP9PacBgYASKnQFfGd73wnFi9eHLfccks899xzMXXq1Jg5c2bs3r0769HemqeAAYCUCh2Ad9xxR9xwww1x3XXXxdlnnx1r1qyJESNGxD//8z9nPdpbE4AAQEpDsh4gKwcPHowtW7bEkiVLSpcNGjQoWlpaYtOmTUf9ma6urujq6ip939nZeXyG+973jnwczU9/euSzAAQA+qmwAfirX/0qDh8+HPX19b0ur6+vj5///OdH/ZnW1tZYvnz58R/u+ecj7rvv7W9z8snHfw4AoCIVNgD7Y8mSJbF48eLS952dnTFx4sRj/wddfnlEbe1bX9/QcOQ2AAD9UNgAPPnkk2Pw4MHR3t7e6/L29vZoaGg46s/U1NRETU3N8R+uufnIBwDAcVDYN4FUV1fHtGnTYsOGDaXLuru7Y8OGDdEsvgCAClbYDWBExOLFi2PevHlx/vnnx4UXXhgrV66Mffv2xXXXXZf1aAAAx02hA/Daa6+N//qv/4ply5ZFW1tbvO9974v169f/zhtDAAAqSVWS9JxYjr7q7OyMurq66OjoiNq3e9MGADBg+Pe7wK8BBAAoKgEIAFAwAhAAoGAEIABAwQhAAICCEYAAAAUjAAEACkYAAgAUjAAEACiYQv8quLR6folKZ2dnxpMAAOXq+Xe7yL8MTQCm8Prrr0dExMSJEzOeBADoq9dffz3q6uqyHiMTfhdwCt3d3bFr164YPXp0VFVVHdP77uzsjIkTJ8bOnTsL+3sKy+VYlc+xKp9j1TeOV/kcq/Idr2OVJEm8/vrr0djYGIMGFfPVcDaAKQwaNChOOeWU4/pn1NbW+h9EmRyr8jlW5XOs+sbxKp9jVb7jcayKuvnrUczsBQAoMAEIAFAwAnCAqqmpiVtuuSVqamqyHmXAc6zK51iVz7HqG8erfI5V+Ryr48ebQAAACsYGEACgYAQgAEDBCEAAgIIRgAAABSMAB6DVq1fHqaeeGsOGDYvp06fH008/nfVIA9Jf/uVfRlVVVa+PKVOmZD3WgPDkk0/GVVddFY2NjVFVVRUPPfRQr+uTJIlly5bFhAkTYvjw4dHS0hIvv/xyNsNm7J2O1Sc/+cnfeZxdccUV2QybsdbW1rjgggti9OjRMX78+Jg1a1Zs27at120OHDgQ8+fPj3HjxsWoUaNi9uzZ0d7entHE2SnnWH34wx/+ncfWpz/96YwmztZdd90V5513XumEz83NzfGDH/ygdL3H1bEnAAeY73znO7F48eK45ZZb4rnnnoupU6fGzJkzY/fu3VmPNiC9973vjddee6308eMf/zjrkQaEffv2xdSpU2P16tVHvX7FihWxatWqWLNmTWzevDlGjhwZM2fOjAMHDpzgSbP3TscqIuKKK67o9Ti7//77T+CEA8fGjRtj/vz58dRTT8Vjjz0Whw4dissvvzz27dtXus2iRYvi4YcfjgcffDA2btwYu3btimuuuSbDqbNRzrGKiLjhhht6PbZWrFiR0cTZOuWUU+KrX/1qbNmyJZ599tm47LLL4uqrr44XX3wxIjyujouEAeXCCy9M5s+fX/r+8OHDSWNjY9La2prhVAPTLbfckkydOjXrMQa8iEjWrVtX+r67uztpaGhI/uZv/qZ02Z49e5Kamprk/vvvz2DCgePNxypJkmTevHnJ1Vdfnck8A93u3buTiEg2btyYJMmRx9HQoUOTBx98sHSbl156KYmIZNOmTVmNOSC8+VglSZJ86EMfSj73uc9lN9QAd9JJJyX/9E//5HF1nNgADiAHDx6MLVu2REtLS+myQYMGRUtLS2zatCnDyQaul19+ORobG+M973lPzJ07N3bs2JH1SAPe9u3bo62trdfjrK6uLqZPn+5x9haeeOKJGD9+fJx55pnxmc98Jn79619nPdKA0NHRERERY8eOjYiILVu2xKFDh3o9tqZMmRKTJk0q/GPrzceqx3333Rcnn3xynHPOObFkyZLYv39/FuMNKIcPH44HHngg9u3bF83NzR5Xx8mQrAfgf/zqV7+Kw4cPR319fa/L6+vr4+c//3lGUw1c06dPj3vuuSfOPPPMeO2112L58uXxwQ9+MF544YUYPXp01uMNWG1tbRERR32c9VzH/7jiiivimmuuiaampnj11VfjL/7iL+LKK6+MTZs2xeDBg7MeLzPd3d2xcOHCuPjii+Occ86JiCOPrerq6hgzZkyv2xb9sXW0YxUR8fGPfzwmT54cjY2N8bOf/Sy++MUvxrZt2+J73/tehtNm5/nnn4/m5uY4cOBAjBo1KtatWxdnn312bN261ePqOBCA5NaVV15Z+vq8886L6dOnx+TJk+O73/1uXH/99RlORiWZM2dO6etzzz03zjvvvDjttNPiiSeeiBkzZmQ4Wbbmz58fL7zwgtfdluGtjtWNN95Y+vrcc8+NCRMmxIwZM+LVV1+N00477USPmbkzzzwztm7dGh0dHfEv//IvMW/evNi4cWPWY1UsTwEPICeffHIMHjz4d97Z1N7eHg0NDRlNlR9jxoyJ3/u934tXXnkl61EGtJ7HksdZ/7znPe+Jk08+udCPswULFsQjjzwSP/rRj+KUU04pXd7Q0BAHDx6MPXv29Lp9kR9bb3Wsjmb69OkREYV9bFVXV8fpp58e06ZNi9bW1pg6dWr8/d//vcfVcSIAB5Dq6uqYNm1abNiwoXRZd3d3bNiwIZqbmzOcLB/27t0br776akyYMCHrUQa0pqamaGho6PU46+zsjM2bN3ucleGXv/xl/PrXvy7k4yxJkliwYEGsW7cuHn/88Whqaup1/bRp02Lo0KG9Hlvbtm2LHTt2FO6x9U7H6mi2bt0aEVHIx9bRdHd3R1dXl8fVceIp4AFm8eLFMW/evDj//PPjwgsvjJUrV8a+ffviuuuuy3q0Aefzn/98XHXVVTF58uTYtWtX3HLLLTF48OD44z/+46xHy9zevXt7bRG2b98eW7dujbFjx8akSZNi4cKFceutt8YZZ5wRTU1NsXTp0mhsbIxZs2ZlN3RG3u5YjR07NpYvXx6zZ8+OhoaGePXVV+Pmm2+O008/PWbOnJnh1NmYP39+rF27Nr7//e/H6NGjS6+/qquri+HDh0ddXV1cf/31sXjx4hg7dmzU1tbGTTfdFM3NzXHRRRdlPP2J9U7H6tVXX421a9fGRz7ykRg3blz87Gc/i0WLFsWll14a5513XsbTn3hLliyJK6+8MiZNmhSvv/56rF27Np544ol49NFHPa6Ol6zfhszvuvPOO5NJkyYl1dXVyYUXXpg89dRTWY80IF177bXJhAkTkurq6uTd7353cu211yavvPJK1mMNCD/60Y+SiPidj3nz5iVJcuRUMEuXLk3q6+uTmpqaZMaMGcm2bduyHTojb3es9u/fn1x++eXJu971rmTo0KHJ5MmTkxtuuCFpa2vLeuxMHO04RURy9913l27zxhtvJJ/97GeTk046KRkxYkTysY99LHnttdeyGzoj73SsduzYkVx66aXJ2LFjk5qamuT0009PvvCFLyQdHR3ZDp6RT33qU8nkyZOT6urq5F3velcyY8aM5Ic//GHpeo+rY68qSZLkRAYnAADZ8hpAAICCEYAAAAUjAAEACkYAAgAUjAAEACgYAQgAUDACEACgYAQgAEDBCEAAgIIRgAAABSMAAQAKRgACABSMAAQAKBgBCABQMAIQAKBgBCAAQMEIQACAghGAAAAFIwABAApGAAIAFIwABAAoGAEIAFAwAhAAoGAEIABAwQhAAICCEYAAAAUjAAEACkYAAgAUjAAEACgYAQgAUDACEACgYP4ffANKH8qrHxoAAAAASUVORK5CYII=' width=640.0/>\n",
       "            </div>\n",
       "        "
      ],
      "text/plain": [
       "Canvas(toolbar=Toolbar(toolitems=[('Home', 'Reset original view', 'home', 'home'), ('Back', 'Back to previous …"
      ]
     },
     "metadata": {},
     "output_type": "display_data"
    }
   ],
   "source": [
    "proc = Process(dt, acc_limit=100.)\n",
    "v_set = np.zeros_like(x)\n",
    "error = np.zeros_like(x)\n",
    "cr = np.zeros_like(x)\n",
    "ct = Controller(0.5, 0.0, .0, dt)\n",
    "for i in range(1, len(v_desired)):\n",
    "    cr[i] = ct.update(error[i-1])\n",
    "    #print(\"%.2f %.2f %.2f %.2f\" % (error[i-1], ct.Kp_part, ct.Ki_part, ct.Kd_part))\n",
    "    # +/- has an impact! Use - to align with library below\n",
    "    set_pos = v_desired[i-1] - cr[i]\n",
    "    set_pos_save = set_pos\n",
    "    if v_desired[i-1] >= 50. and set_pos >= 0. and set_pos < 50.:\n",
    "        set_pos = 50\n",
    "    if v_desired[i-1] <= -50. and set_pos <= 0. and set_pos > -50.:\n",
    "        set_pos = -50\n",
    "    #print(\"%.2f %.2f %.2f\" % (set_pos_save, set_pos, v_desired[i-1]))\n",
    "    v_set[i] = proc.update(set_pos)\n",
    "    #print(\"%.2f %.2f %.2f\" % (error[i-1], cr[i], v_set[i]))\n",
    "    error[i] = v_desired[i] - v_set[i]\n",
    "fig, ax = plt.subplots()\n",
    "ax.plot(x, v_desired, 'k')\n",
    "ax.plot(x, v_set, 'r')\n",
    "#ax.plot(x, error, 'b')\n",
    "#ax.plot(x, cr, 'g')"
   ]
  },
  {
   "cell_type": "markdown",
   "id": "3e107575-785e-4544-a2a2-366adb64f3d5",
   "metadata": {},
   "source": [
    "### Using a library\n",
    "\n",
    "We will test the Python library simple-pid"
   ]
  },
  {
   "cell_type": "code",
   "execution_count": 18,
   "id": "b48e0d30-040b-4ca2-aff2-0e094b0321e0",
   "metadata": {
    "tags": []
   },
   "outputs": [],
   "source": [
    "import simple_pid"
   ]
  },
  {
   "cell_type": "code",
   "execution_count": 19,
   "id": "67802cdb-199a-452a-9028-8579f2f23964",
   "metadata": {
    "tags": []
   },
   "outputs": [
    {
     "data": {
      "text/plain": [
       "[<matplotlib.lines.Line2D at 0x112a28730>]"
      ]
     },
     "execution_count": 19,
     "metadata": {},
     "output_type": "execute_result"
    },
    {
     "data": {
      "application/vnd.jupyter.widget-view+json": {
       "model_id": "7bece79dda2943db9a3dd9880633fad2",
       "version_major": 2,
       "version_minor": 0
      },
      "image/png": "[encoded data removed]",
      "text/html": [
       "\n",
       "            <div style=\"display: inline-block;\">\n",
       "                <div class=\"jupyter-widgets widget-label\" style=\"text-align: center;\">\n",
       "                    Figure\n",
       "                </div>\n",
       "                <img src='data:image/png;base64,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' width=640.0/>\n",
       "            </div>\n",
       "        "
      ],
      "text/plain": [
       "Canvas(toolbar=Toolbar(toolitems=[('Home', 'Reset original view', 'home', 'home'), ('Back', 'Back to previous …"
      ]
     },
     "metadata": {},
     "output_type": "display_data"
    }
   ],
   "source": [
    "proc = Process(dt, acc_limit=100.)\n",
    "v_set = np.zeros_like(x)\n",
    "error = np.zeros_like(x)\n",
    "cr = np.zeros_like(x)\n",
    "ct = simple_pid.PID(Kp=0.6, Ki=0.0, Kd=.0, sample_time=None)\n",
    "for i in range(1, len(v_desired)):\n",
    "    cr[i] = ct(error[i-1])\n",
    "    #print(\"%.2f %.2f %.2f %.2f\" % (error[i-1], list(ct.components)[0], list(ct.components)[1], list(ct.components)[2]))\n",
    "    set_pos = v_desired[i-1] + cr[i]\n",
    "    set_pos_save = set_pos\n",
    "    if v_desired[i-1] >= 50. and set_pos >= 0. and set_pos < 50.:\n",
    "        set_pos = 50.\n",
    "    if v_desired[i-1] <= -50. and set_pos <= 0. and set_pos > -50.:\n",
    "        set_pos = -50\n",
    "    #print(\"%.2f %.2f %.2f\" % (set_pos_save, set_pos, v_desired[i-1]))\n",
    "    v_set[i] = proc.update(set_pos)\n",
    "    #print(\"%.2f %.2f %.2f\" % (error[i-1], cr[i], v_set[i]))\n",
    "    error[i] = v_desired[i] - v_set[i]\n",
    "fig, ax = plt.subplots()\n",
    "ax.plot(x, v_desired, 'k')\n",
    "ax.plot(x, v_set, 'r')\n",
    "#ax.plot(x, error, 'b')\n",
    "#ax.plot(x, cr, 'g')"
   ]
  },
  {
   "cell_type": "markdown",
   "id": "6d0a4fca-afa6-4097-9cc4-448e4b1b246a",
   "metadata": {
    "tags": []
   },
   "source": [
    "### Simulte noise in feedback"
   ]
  },
  {
   "cell_type": "code",
   "execution_count": 20,
   "id": "ffdd3475-1571-453a-9c4b-e3a65d1d08cd",
   "metadata": {
    "tags": []
   },
   "outputs": [
    {
     "data": {
      "text/plain": [
       "[<matplotlib.lines.Line2D at 0x112a92380>]"
      ]
     },
     "execution_count": 20,
     "metadata": {},
     "output_type": "execute_result"
    },
    {
     "data": {
      "application/vnd.jupyter.widget-view+json": {
       "model_id": "c70b22262bf74058921c09f62df58c3b",
       "version_major": 2,
       "version_minor": 0
      },
      "image/png": "[encoded data removed]",
      "text/html": [
       "\n",
       "            <div style=\"display: inline-block;\">\n",
       "                <div class=\"jupyter-widgets widget-label\" style=\"text-align: center;\">\n",
       "                    Figure\n",
       "                </div>\n",
       "                <img src='data:image/png;base64,iVBORw0KGgoAAAANSUhEUgAAAoAAAAHgCAYAAAA10dzkAAAAOXRFWHRTb2Z0d2FyZQBNYXRwbG90bGliIHZlcnNpb24zLjYuMywgaHR0cHM6Ly9tYXRwbG90bGliLm9yZy/P9b71AAAACXBIWXMAAA9hAAAPYQGoP6dpAABNIElEQVR4nO3deXwU9eH/8XfCETAk4U6gHKKggAIqKEastYKiVQuVqigqosULVKT1wJ94tCqKrVIUQf0qahWv1gtbUYuIF4eCqCgiggoVEuRIQgK5P78/Ppns7GY32WSAzey+no/HPnZ3dnb2s7Ozs+/9fGY+nyRjjBEAAAASRnKsCwAAAID9iwAIAACQYAiAAAAACYYACAAAkGAIgAAAAAmGAAgAAJBgCIAAAAAJhgAIAACQYAiAAAAACYYACAAAkGAIgAAAAAmGAAgAAJBgCIAAAAAJhgAIAACQYAiAAAAACYYACAAAkGAIgAAAAAmGAAgAAJBgCIAAAAAJhgAIAACQYAiAAAAACYYACAAAkGAIgAAAAAmGAAgAAJBgCIAAAAAJhgAIAACQYAiAAAAACYYACAAAkGAIgAAAAAmGAAgAAJBgCIAAAAAJhgAIAACQYAiAAAAACYYACAAAkGAIgAAAAAmGAAgAAJBgCIAAAAAJhgAIAACQYAiAAAAACYYACAAAkGAIgAAAAAmGAAgAAJBgCIAAAAAJhgAIAACQYAiAAAAACYYACAAAkGAIgAAAAAmGAAgAAJBgCIAAAAAJhgAIAACQYAiAAAAACYYACAAAkGAIgAAAAAmGAAgAAJBgCIAAAAAJhgAIAACQYJrGugB+VllZqc2bNystLU1JSUmxLg4AAIiCMUa7du1S586dlZycmHVhBEAPNm/erK5du8a6GAAAoAE2bdqkLl26xLoYMUEA9CAtLU2S3YDS09NjXBoAABCNgoICde3atfp3PBERAD1wmn3T09MJgAAA+EwiH76VmA3fAAAACYwACAAAkGAIgAAAAAmGAAgAAJBgCIAAAAAJhgAIAACQYAiAAAAACYYACAAAkGAIgAAAAAmGAAgAAJBgCIAAAAAJhgAIAACQYAiAQCLYtk364x+lr7+OdUkAAI0AARBIBNdcI91/vzR0aPD0igpp0SKpsFAqL5fmzpV++ik2ZUTi2bFDWr061qUAEhIBEP7zv/9J69bFuhSRrVolrVkT61IEe+MNe52TEzz94Yelk06SLrzQhsRLLpH+8If9Xz4kpn797IUQuHfl50uXXSZNmlTzOw9UIQCicamokMrKIj9ujNS1q3TIIXYn59WWLdLvfy8tXux9WZL088/SkUdKfftKlZV7Z5m12bFDys2te76KivC377nHXr/6qjR7tr29YMFeK94+8fXXNmTvDWVl0uuvS3l5e2d5iF5lpbR5s729aFFsyyLZELp9e/Tz//ij/fP0739HnscY+/jPP3svX31cdJH02GPS3/8uPfDA/n1t+AYBEOH98IN0xBE2zOyv48YqK6VBg2yNQHl5+Hm2bAnc/t//vL/mOedI//qXdOKJ0uOP2x22F198Ebi9a5e3ZdWlslIaPFg67LDaf7hKS6Xi4sD9H34I3C4pqTl/ZuZeK+JeV1pq3++RR+6d9fu3v0kjRkjnnlv3vAsW2GZ0r9vI/mBMbMp56aVSz57S1q11z7txY+B2mzb7rkx1efpp6YAD7H7n2GOjf97ll9vgesYZkee58Ub7+B//6L2c0dqxw/6pcVADiAgIgPGsrKzhPwLPPCN9/rmtaXn55fCPX3FF7bV19fXjj/b11q4N1AxI0rJl0pQp0p490nffBabvjQDw4YeB23/4gzRvnrfl/fhj4PaOHd6WVZfvvrOX7dttDV4k69YF10a6m6dLS/dZ8fYJd9ndQbahHnrIXr/9ds3X6ddPevFFe7+8XDrtNPtDvmKF99fd1045RTrqqP3z+a5YIb3wgl1HTzwhrV8v3Xln3c/75pvA7cLCvVOWggIb0qMJoJLdP44da/ctUvD+pS7Llwdu795d8/HCQum+++ztf/zDXjufx+bN0i9/KT33XN2vM3u21KuXdOWV0ZVr/frg+zt3hp/v+uuliy9uHH9otm7dPy0mCEIAjFfbt9um0rPOatjzP/oocDu0eWz3bnvM2COP1B486uurr8K/5rHH2qbKhx4K3rlF2rFF6+67a07z2lyydm3g9s6ddsfmJQiWl9uQGq6m7rPPArfnz4+8jNDjq959116/8EL4EL1tW+PdGbtrWPv3l/7zH2/La9o0/PQxY+x6c2oG3U3O27Z5e81wKirsa+yN9b5rl/Tf/9rlrVzpfXl1GTRIGj3abk+O+fODDzUIx/1d2RuHc0jSr35lQ/ott0Q3f7gwH81nsGNH8D5q2bLal922rf2+tm4tDR8uXXCB/V6ff759/KmnpKws6YMPai7nnntsMJ0zR5o6VTruuNpbP0IDYLjDG/bskf76V/u6334beVn7wwcf2FaHiRNjW44ERACMV3Pm2GPDGhLQKiqkjz8O3A8NWs4JBZL0/fcNKl4NX3whnXlm4H64Js116/ZeADQmfAD8/PO6f7giLU8KrtXYtMnu2Dp1avgP+/3325qCcE1I7h/3JUsiL8MJgB062OuXXrLBcvTo8PNXVNgf5I8+ssdH7osmpPJy+97cgS4aofOffrpUVNTwcrgD4M6dNrgUFNjtwM19jJrXPx7h3HmnbdZ++GHvy3LXnru/nytW2CZJ9+EAXrmX5dSWSrZ2tq59z94OgDt2BIL6O+/UPf9ll0lHH11zejQtC6tXB9echTsm1b0N7dhhDyHYs8fWNru3J6cmLjdXmjkzeBnGBB8/eOed9rse6bsrBfaRv/iFvQ4XAN2H0oSrvdyfbr7ZXjvHIDu2buXY3H2MABiv3E1l9d3h//CD/RF0hH4J3c1le+v4wHvvDb7vBED3D0ObNsFNNF5+iLduDR8cysuDf0CjcdVVUrdu9pgmdxBzmohKSxu+I/t//89ez5oVPH3jRlsD69i61ZY73Os4AfCPf7THOv3vf7UfuC7ZH53jj7fHRzonitQmN9c2oUd7MP/f/27LU59jrqTwgfGaa6SBA22tVzR27QrUqLr/aNx0k/Tb30onn1wzsLtrxPdFDeDtt9vrq6+22+Ann9jv4Lhx0muv1W9Z7u3X2Q8YY2vqpk8P3m68ch/y8MknwY8980ztz3UfA9jQAHj77YHaPvdn1Lt38Hx79kj//GfgdfLz7UkSkq2dc9u50/7pueAC6dNPw79uaFNxuBOxQv9ELF0afll//Wvgdug+KS8v0Dzt9tFHkYOqEwAHDrTXofvJ0tLgrp729aEqdQn3+7Rzp9S5s30PjaGJOk4RAOOVu9mvvj9Yof3AhYYKd62Cu9nWi9CdmbNTcgfZ8vLg5oqdO+0OMzs78AMaLec9dO1a8zH3j1o0Zs+2oerEE4P/rbvL7j4mqaIi+s+kS5fAbXcz8KOP2h+xrCwb6iT7j79jx5rr0tkWBg2SDjrI3nZCRXZ2IGS6/etfgdu1/UC8+aatRcnKsifRXHNNdO/LOfYp3I9bbUKbtyR73NnKlTa4OTXXTz1lT/AItWWL/cxHjbLbtXvbfvRRe+0+tsvhDp6RPrudO21wLC+34SLa2vHQ4/T+/GfpmGNszfGTT0ojR9b+fGPsNuv8ULoDoPMHzV1D5a798cp9HKaz3GOOie51GhoAP/zQXrZske64Q7rrLhvY3GVxQo8xtmnxgAOks8+23RyNHx+odZJseHOO0ZNsoOzUSXr2WWnYsPBlCA2A4WrJQ5uX3SdmRPLdd3ZdOCfB1dYnZ6RmYKdsTgDMy5MWLpTS0uz77tTJHs/qaEwB0NmG33zT7ic3bIh9DWU8M2iw/Px8I8nk5+fHuijBKiuNSUlxzgM05q23jFm/vu7nXHGFMXffbczzzweeKxlz1FHB8x50UOCx1FT7XK9OOCH4NSVj5s8Pvn/RRca0bBm4P3myMbNnB+5H49prjTnxRGOeeso+54QTjLnnHmOaNjUmKclOe+aZ6MtdUFCz3OEuixcHnjN6tH2t1avrXv4hhwSW8eGHgennnGOn3XefMSedVPO1/v1vYx55xJgPPrDTmjY1Zts2Y047zd5v185eX3mlMSUlxowbZ5dzxBF2+jHHBJb3299GLl+49xqNtm0D80e7/Xz3Xc3XSk6uOS03N3B73brgZfz1r4HHli+P7rP773+D7191lV1WSYld3nffGfPuu3Yd33CDMXfdFZj3lVciv5/1643505+Mee21ustQWhp5OQ89ZOd54AF7f/r0wPMOO8xOu/32wLSJE6Nb39GYM6dmWcePt9c9e0Z+Xug6PeOM6F5vzRo7f1KSMc89F3j+Rx8Z88c/Bu736mXnd7b/SJfhwwPL7ts3uu15yZLAY/372+tTTw2e5913A9+70OWdf37dn7fzGb31VuR53n67ZtnKy41p1co+/t57gXk7d468nF/9yq6Hn36K7jOIxo4dxrz8sjFlZXXP27NnoCw7d9ppV18dmPbjj3uvXC6N9vd7P4pyb924LF682JxxxhmmU6dORpJ5JWQnW1lZaaZOnWqysrJMixYtzNChQ823334bNM/27dvN+eefb9LS0kxGRoa55JJLzK5du+pVjka7Ae3aFf6L/uGHxlRUhH/O558H5ps82V5362ave/QIzFdeXnOnlpfnvczOTsAdPEIv/foF3x83LvjH7osv7E6nsDD8a5SVBeb99a/t9cUX28d27zZm7Fg77a67oitzZaUxt9xSs5wdO9ac9s9/Bp7nTDv33LqX7w68Y8YEHhs40E579VUbSNyv9dJLwc+TjPnDH+zzLr88ePrDDwe/5umn1yx76B8At3CfU+j6/+EHY/bsCdwvKgqef9u24PnLy2u+zsqVwc9p0cKuj+OOq/n6b7wRuL18efByrr8+8Nh999X9Qxzucs45dlkPPmjvN2sW/J34xS+C5//gg/Dr7tBDo3/NNWvscz77zJgZM4K/x+75jLF/cpz77dvbab/7XWDaqFGRPs36u+mmmmW9/3573bp1+Of8/HPN5/zyl9G93kUXBZ7j3lc8/bQxv/994H67dnb+MWNqX6+TJweWPWRI+Hnc67qy0u4PnceuuMJeDxhgv4vOtjx0qJ0+cWLw5yHZYBa6Lwt3qaw05oknak53/tw/8UTN9fPll/axVq2MKS4OPKd167pfz71/8cr5LKZOrXve9PRAGb75xk5zgrVkv/v7QKP9/d6PfNkEXFRUpAEDBmhW6HFRVaZPn66ZM2dqzpw5WrZsmVJTUzV8+HAVu6qax4wZo6+++krvvPOO3njjDb3//vu67LLL9tdb2LciNVEdf3xwU6m7rz13s9H999vrPn3stbuZbPNm+7xmzaRWrey0aE4S+PZb2+xnTPjHneaiww+PvIwvvwy+7zS5Ofr3t2c9n356+Oe7m0yckUR69LDXLVtK3bvb29E2Af/zn+G7u+jVq+a0cN1SRGoi3LLFdq+zfXtwE+lzzwXew4YN9vqgg2y/a25vvFGzadU5wSa0yds5UDzSfck2r65bF/mzC+Vupv3vf20ZJ0yw98vKam4v7m3vxx+l9u2l664Lnsd9HGLHjnbd/OMftkPwUO7jtkKPf3KfOONuBqwP5/vlnIFcVhb8XQpttot0HJn7JIi6OIcTHHmkHd0h9IB5SWrRwl671+f27bYpzd2EHalpNjfXdjXyxBO1HyM6f740ZIjdJsJ9V/r2tdd5eeH78wz3+rU1ARtjmwm//jpwBrsU3FS/YUNwWZx9Q6R1H1pWKXJfhO79xvvvB39vnaEVP//cNtVfeKH9XBculJKTpT/9ye5zTz458JxDDw1/LGvocYtr14ZvAnaapf/zH3uyn3sf6KyTQYOklJTAPjqa7+4rr4Q/JGPRosD+Jlr//Ke9/stfwj9eWWnXUejx5jk59pAI97Hl9emcG/UT6wTqlRRcA1hZWWmysrLMfffdVz0tLy/PpKSkmOeee84YY8zXX39tJJlPPvmkep4333zTJCUlmZ/qUQ2+r/5BVFZWmsLCwgZfdr//fq3/9AoLC03JtdeayqZNze75801hYaEpnjWrxnylEycaI5nK5GRTWFBgl13VJFHRo4ep6NXLGMnsfvPNOsvkLHPP88/XfHzLlurHi+++O6gMlU2amN2hTcFVl/LjjzclN95YY3plixbV5Q1aL2GWUzx7dvXjzjooGz7c7H7/fVPRrZsp/vvfI76nUnczhbtc2dk1ppXcfLN93o4dgXJ26FC9rKLVq03hzz+b3VXNS+UnnWR2f/SRXdcdO5ryqpqu8kGDzO6PPw58lrm5Zs8//hH8/g84oMbr737/ffseH300ePp77wW9p5K//CXidlN65ZXB6yBC8/eeZ5+tnqeyRYvAa737rqlMSzPlIc39ZSNGmOJHHrGvP2lS0HbqXCrcTeGux3YvWlTj9ctOPTVQlieesPN98IGpCK2Zc9ZXaG1pmEvZySebkjvusJ/B4YfbMh14YN21KpIp/tvfam4/YWrpS6ZONeURaoZKpk4NWt9lZ55pl7NhQ/W0ip49TWFhYfW24lyKvvoq6H7FgQeG3Z7LnVpl53lffFHrd7n8pJNM+fHH1yhr0ddfBz6nDRtqfg//858az6no1i3y9+y88+pcx6XnnWcqO3QI3kY2bjSVzZrV+rzdr78e9nVKL7rIVLZvb9f1739vdr/9tt0+b73VlrdvX7Pn1VdN0bffhv28nfVT/Z4XLgyUq2rfFFSOBQtM2dlnBy/ngQdMubsmzNkWbr45+Pv2+OOB93DNNbb8EybYbbRLl6i20UjL2+1qQq/Pb1DQ55CXV+Px4qpDd0I/sz1PPWWKli0Lnvbkk6ZybxxmFIIaQOPPJmC30AC4fv16I8l89tlnQfOdcMIJ5pprrjHGGPP444+b1iHNE2VlZaZJkybm5ZdfjvhaxcXFJj8/v/qyadOmfbIBFRYWGkkNvpxa24+RZCa67q+oes4tYeb9g+t2etV8F1bd/69k3qu6fXbI63eUzCeSubLqflLIcv8hmQ6u+Y+omp4vmRtC5t0kmQEh06ZXXX8lmYcjvM/uknlVMte7Xmd8mPlOcz3+m6ppn7oeL4uwjjtI5o4Ir31jmGkPVT0vK2R6quv9hyub8xmNDfP45qplHlPL5+1cOlfN+6uQ6d1C3tfvXI9VhMxbJpmDquY7o+o9hXutKVXztI2iXO5LhmTuct1vUbWcViHz/S+kzIeHPL7Fdfvqqnlm1PK6H0RRNknmyKrbP8lu49G+rxtUc/sZEWa+CyTzToRl/Kvqs3Luv1u1nOGuaT9WTVsd8twLQ+7vDlOejDCveWKY+bq4Hv9SMt+EeV4zyWyvut075Pm9JLPBNe/bVdf5kjk4zOt1rmPdXlt1/UmYx35ddb1HMv0iPP8w12s96pp+rGTmh8zrnmdq1f2mYZZZNZ6QeTDkvUyRzEWu+5uq5nuz6v5NIctxvn/bQh4bFzLfDNcy51ZNc/Z7n4fM21My39exTp0y/U4yk0Pef7SXn1zP6xfm8RURXvdqyYwOmXalbPjc2wiAPm0Crk1OVfNSZshwVpmZmdWP5eTkqGPHjkGPN23aVG3btq2eJ5xp06YpIyOj+tI13BmkjUD7Wh5LkfSg6/5Rkg6RFKbhT99LchrNW1ddO42b30lyOj7oLukVSU6j1I2SBklyejTrFrLcCyRNrrqdLOmzqts5kkLGY9BmSe5z1K6U9HdJZZL6ShoXptySdI2kEZKmS0qqmnZQmPncDbPO+xnomhauh7nrq553eYTXni3pPElXSHIaVJytLfSz6SNpbITlOPPukDRP0n0hj28Kua6N895CG3JCO69wn2O7RtIcSaslfS2pqaTfVT02X9KEkOc6DY/HVV3Xd0C5JyS5G2Wdhu1Ormnvu8rgWC3J3VFNluu2sw6dz/RB2W3uAdc8n6l2zvbnNARmSepXx3PcOoTcv17Sq2Hm+1HhtzdJOkZ2W3EMqLo+zDWto6Q2CmxrDuegCucAipay3+eOst/xuQr/fkI6R1E7BW9rpZI6h3lemSSn0W6WAt8/SVogqeqgCy2VdEnV7XTZfUpIw7/OC7N8SVouaZKkhVX3B7le2/mchlddb1DgvYdyN0a7t9elCmzPju4KrO8fqq7LJYU2XjvvKbShe5qkp133h0maocA+LKS79uouOv4j+92/VvZz+iFkvuMkfSHplwpsa85BQO59Z4ns9zvcNhbai+ipsvvZFNe0tyR9EjItEve24/6VTJf0G0kZEZ6XqcD26mgXxeuhgWKdQL2SgmsAP/roIyPJbN68OWi+s88+25xTdfD2XXfdZQ455JAay+rQoYN5OPSgeJf9VQPotQm4+J57avyzKhs2LOK/vT2vvmrKnLNDXZeidetMRdUJDbs//tgUFhaaslGjjJFM8V13mdKqA6ArmzSpfk5hTo4pveSSwP3CQrPnlVdqlueMM2x5v/++elrxPffUaKotO+UUU5iTE6i9qGqyKQ098aHq4jRjuZthi1atsmV3HwjvPLZmTaAZdu3aGo9XpqfX2rxhpKBmsMqUFFO4a1f1vHucs42r5tvzzDNBzy1+5BFTcsMNYd9LyZ/+ZNfBiBGBJp6LLw6sm9NPt9Pz8+v8Rx+p2bbG9uNa16WXXx5oGr7uOjttwgRTuH17zfWUmmr2vPBC0Oe7+8036yxXbRenKXn3ggXGKNDEGXG7D3NGaukf/mAK8/NNZWqq/bw//dTO+8gjgc+gqsmu+jkXXWTKjzjCVFQd7F969dWBJu2qs6edprZoLqVjxgQ3Z0doOi5as8aUuM5k3fPss2bP3LmmsupM50r3mdOSKVq/3pReeGHE163o2tV+FlXf7bKTTzYVWVn2e/Tf/wa/1ty5NZ5ffP/9wU23IYdQVPTpE/T5u7episMOCyx73ryw353SCy+0n01IM23hzz9Xz19WdVJSaLNndbny8oKa8Cs6dTLlhx8eNK/zPQn7vXB9V3cvWmQq27QxxXPm2G0+zOElzmX3ggWB7/jjj9c4RMFIpvjhh+u13y764osan52RTMmUKcHzrVsXtkyV6emmfNAgu85feMGuv3PPDSyzqunfvezqzyLC4SzufXn1e//gg9rfi+uQHiOZ4pkz7We6fr0pnTCh9u/KRReZstGj7fupOrGq9KqraALeRyKMg+RfWVn2/39ubq46dQrUHeTm5uqII46onmdryEH55eXl2rFjR/Xzw0lJSVFKSjT/f7xJSkpSampqwxfgHFR7yinVnTY37RZaDyd7MPLatWqxbp3td8ktNVUH9OxpO+PculUtx4yx/WJVHQyc4jpZI8k1ckbqjh12uCPnfnl52JMdmv74o5qmpgYO3G7bVik33mj/Xf7mN4H5UlLUtGNHe6LD//6nlieeKKWm2oOvw4ya0GTAAGnFCjVxdch8wOLFth+wMLW7B3Tvbk8AkaQDD6zxeFJBgVKNsQc1T5pke/MPfc0+farHFE7q0EGpzoHXkl3Hznwffqgmm4Lr61IeeSTicF3Nq0YVadqhg11XUlC/gE1/8YvA9DpE2p5qTE9NlTIypPx8NRs3Ts2cx6tOkGn2889qFnpixZgxSnr4YbVw+iOU1PSNN+R159Ji40ZbnqoTBJI7dar9exFmVIdm+flqtnmz7S8yNVUHHHGE1KRJ0MkjKV262E6g77lHOvRQNXvqKfvAxo3SG2+o2SWXqJlzgkW/ftJ776mZM9JE3751dobebOfOwHqUAiemfP657ZduxQqpSRP7fbv1Vntg/LnnqsXZZ9v5HnxQWrlSSSH9tR3w88+1DuOV3Lu3tGmTmlbN0zQz054oMn++Wq5eHdQ3YItxNevSU/LylOIud/Pmwct3TmJJTVVS167Vo+CkpqYG9Q/aYvly6byadXnNMjPVLD3dbluufvVSP/ww0Pdh1Xej+W9+EzRyT9B2MGBAdSfLyZmZ9kQmVz+oTbOz7ffknHOCRyuRgr+rJ54o7dihFFXVcoXbZ1Zp2aeP3TYl+xmOG2dP+nBJ6dEjeP3VpV8/e1JHRoaSFyywfVlKat6nj5q7l3PwwWGfnlRQoCZVJ2C16NLFls85yU1S8kEH2fXmHnf5ttuk445Tswgj8jQLM8Rky23bAu994UI7ROesWfa3QqpxwlvKzz8r5fe/t0O+1TEiUrPt26vnSTr0UOmrr9SsoEBKSqr1eWiYuGsC7tGjh7KysrRw4cLqaQUFBVq2bJmys7MlSdnZ2crLy9MKV0ed7777riorKzV48OD9Xua9zjlLcciQwDR3B8WSHRbMefz66wPT77lHOuKI6kBTfYbp99/bMSid8Wd79bLDnIW6/fbAWcSSDXju4dEcG6qOBHLK2t7VOOrekTZtar/8K1faswfT0oLLFSrc9GuvtT/4ocOlpaUFwp9kf+BCRwWQ7I/ZuHE2iFRtQ0HcZ/22D2nkPSik4Tn0rMnaxmp1dsquQC33H5Ra/qxIskEnnEjj3zqWL7c7a/d3wdm5//RTcAe+U6faIJ6ebpfrPlvXGTIw0o+g+wzMcJxw45w12qlT5Hkl6aij7Igy7s9027ZAGOnbN7BOnDO+JaldOxsu3nzTngnp6NbNjvLihD8pcJa6c1ZuNCOZuL975eWBM147dZKeftqOivL553b9pafbPxtO+JOqg0ANP/4YOXwmJwcCjHNWdrt2gZD8ySfBI2eEEzq6RWiH8M6PeadOgTG0r77aXp9zTmC+t96yZ+MaE/x857sS+sfrqqvsZ/joo/azT062Zz9HctRRgdsdOwaPf3711TbcS3Zkkg0b7B+caNT2/eoc0vgdLqDUtb2Gc/nldpg395+Z0H1abWHI+XPhrFt3R/LOfsr1R023324rCtzhfuNGG6qlmr8bkh3i0jFsmB3y7xe/sONmL11a8zk//SQtXlx7+HP2kzk5gd8E58/zvhh5B5J8GgALCwu1atUqrar6B/v9999r1apV2rhxo5KSkjRp0iTdeeedev311/Xll1/qoosuUufOnTWy6l9lnz59dOqpp2r8+PFavny5PvroI02cOFGjR49W59Avth85O+727W1P+UlJNUd7WL68ZpcfF1xgxwr97DMbAqXwXZpI9gsbLiyH/MPWjz8Gj4jhKCqy5QwXAN2csJKWFhyEQoOV4/LLa3anEEnH0KOlFD7U1vUj7+66JrRckd6Xe8cciRO03N1TRAqACxfamgg3p4sad5iQ7NjCtTnkENtlkJvzvfjoI2ly1RGcp5xiR61ITw/Md+ONNT9v96gDbv3qOJLOCYBOzW1dgVeSbrjB1kA4oennnwPdrfRxHUXnXv/Nm9vvyKmnBs8TjvO9cAwaFHY2/fa3gdvuH0R37WmbNjaUXnONdJj7aL4Qhx8e/LrOn6BVqwKjvvTvH/ycysrA2M+O9u0DweLdd8MPwXXnnYEwV1cAdHTubNfdpk3SjBl22syZgT8Da9bY13366eDnOdu1uxZOsqGvuNh+lyX7/t2hJZT7vYcGwJtvDoT+Zs1sjVhZWeRluYXbF0g29NT1J0pqWAB0uANvhBq/IKHfMWe/4z5O3QmSzz5r9/1OVy2SNGaMnTZ+vH1Obd+1zz6zf5RCA92LL9o/UqGBzf2H0RHaVZfzZzA3N9Dti/Od2Jsj1yBYrNugG2LRokVGqnlm0dixY40xgY6gMzMzTUpKihk6dKhZu3Zt0DK2b99uzjvvPNOqVSuTnp5uxo0bFz8dQTudKr/zju3E1OmEd/Zs2zGs0/2NexQNyZgNG2ouK1xHpDNmBB4P1+mx+/Lgg8Y4p/rPmmXMsmXGdO9u7/fubXugl4wZMSL4da+91pjmzY356qvI79P9OiefbDtYNcaOsFBbmZxLWlrNZTodRNfnsmGD7Xx5+nRjtm6tvZzOxd2BdV2XWbMCy/rww8D0cGesu59XVmZHJCgqCp5n40ZjzjorcgfF4bi6G6m+OJ1LhyovN8bdFc0119ie/Q880D7HmX7nnbW/7w4d7PKc4x6nTYu+vE6HuG3aGOMcJxfawfeFF9oOtUtKol/url3BHT27j3OsOk7SSMa88IIxThchzmg57u0yIyP61zTGmDPPDDzX6ebG2VbbtKnZGbhUc5SOhx8O/zm6L489Zsy//hW4//jjgTLce6+d5ow04VxuuilyuQcPDszn7vBXMmbmTDvPyJG1l+m//7Xzuae5ubu9cjp2/uwzu68JxxkN5rLLal/n4UaeOfroyNtL6LyROt2PRmmpMccea8wpp4QfKeett4JH01mzxphOnWq+9ooVgWmvvlr7a7pfJ9zITKGXhx+uOa1vX2OefNLedkbpCTcKyXffBXfcHe54S+fY8TZtGr4ea9Fof7/3I9U9CyJplBvQrl2BIc3ChRH3l9w9BFVqavgdlqv/qrA73/Xr7Q9fVZ+BtV6cU/lDhy6TjLn00prlDA0uoZznOqN5uL3+emBEAvelffvAjrNbt5rPi2aYptBLQUF05ZQCQyQVFdnQ6H4sTJ9qRjJm3rzAstw/Sh99VPtr7U3uUQWcy5//HHl+d1+Id9wRmO466afGkIPOxRmOTrJDQzl/EubOjb687n72qvqrNP/6VwPffIiFC+12lJJizObNxixYYMNpeXngNb/6yo4u4/wIbtkSCKKSHU6xPsIFZydk9+kTGHrMfQkdBu3FF22wcA+fl5FhR7Fw7s+fH/wno0mTwB9IZ9SPa6815uyz7fdo6lS7bUQS5gSw6strr9l5nBFVkpODhwWT7NCFjkjb9rZtgenRjDxRUWGDUW3D6xkTfkSlE06IPL97uL2LLqq7HHvDzJmBP+Tu/h8dW7cGpq1aFf1y33vPjnAze7b9A1fX99S5tGxph5eUwu/nnUt+vh121LnvhEb35Ycfot/HNkCj/P3ez/byr0RiaZQbkNNJcFZW3fN++mngCzZ4cPh5du60PwLOfP37h58vXE2h++LU5hgTGCvUfbnxxnq/VfP++3ZnU9vOIVxZ1q+3Q545NQtu7qHdLr008vtxD6lW1xlqU6bY+cLVYLnH63T/W3df/vOfwPzuH6VwtaPNm4f/kdwbQstV2xBN7rMKH3ww+LEHH7TrP3RIOGe9VlYGajOWLQsMm7VgQf3KG9LJbFRjL0erqMiOORzqu+9sQHQ4gWbhwuBavEGD6vd6zpBjznpwv69f/9qGz6OOCp7u6nTcSDYkGmOM+yzQ7Ozg+RYtssH1yCMD0559NrgMt91Wv/G/w50NPm1a4A9nWZkNMl9/XfNP0OWXB5bzzDN2X+T+Q+Rw5nfGad5bQss9ZEjkeSsrw//p3l/cf8LdZTriCPsnqD413cYEPp/8fGNuvjl47GUpeDtyX5wzwl96KfxYyM4+092Jdrg/CuXltvZvb393jfO2GuHv935GAPSgUW5ATvcW7kHOIykpsT8ALVvaAeUj2bjRNh8MG2bMunXh5wkZbcBIdmxJp7bN3VwYppsa4xq5Za9y/+hGE4xc3baYOXNsk1jo852mq3feMWbp0rrLUFZmw124MW5//DGw3NxcO9D8e+/ZsW6d6UuWBD/n/PNt01C4GlunS5O6mrcaYvbsQPP9BRfUPq+7dtkJEOE48zz+uK3hc75LTrdFc+bYWqpIgbc2oeNKu8cj3l9GjAiE4DPOCJSltvGVw3E3L4eOpXv++XaesjJjnO5X2ra109zNgp9/bqe5Q5Zz6EVamr3vHpfZ6Z7okkvs/aruOYIOAYlWaPNvJK+/HpgnPb3mYSmRWgWcsXdDx3726u237XZ52202fH744d5d/t60bZttor7//uDpZWV113ZGo6QkfJiTjPntb22lg3O/aVP7x9zVVVDYz/+EE2xg3LLFHsYTOo9TO+3+E7yXNMrf7/2MAOhBo9yAnGMprr56/7926JfcWS/5+cE1Bi++WHPeWvpf9KSgwIa0Tz81pksXO2h8bVzDrJkXXrA7Huf+yJG2Rmfnzr1XvspKu/M888zgdeRuQl2zJvrlVVTYYzzr+2+/PjZssD8qtXH3N/jMM5HnW73ahr/QGqWpU+1z3X031rcZyAkskg1CseDU/l5xhT3e0ClPjx71W87Gjca0axc4xu3ggwPLcqYZY/+gnXNOoHb2t78NDo7G2D9mzrTx4+207dvta7j9+992noMPtvedYw+ffLJ+ZTfGlifaP2FLl9owU59teM8eW7O/L+2D0Sh85z//CW4RkuwfLWOCj58+8kg7LWR4uxqf/+7dxuTl2dt5ebYywj2P8wd+zpy9/lYa5e/3fhZ3/QAmPKebEXc3F/vLo49Kl11mbw8ZEjhb0X2WqBT+rLbaunnwIi0tcLbypijGzHD1D6eUFGlg1RgSzZtLL79sb+/NPqmSkqTXXqs5/corA93WuM9+rktycuQzU/cWV99iEaWlSRMm2H4TXf061nDYYeHPgHW6KHK6ZcnICGxPDSlnNGXeF5wznR97THL1lxnxjNpIuna1Zzc7XSQde2ygexf3GZs9e0ovvBC4/8gj0q9+Zc/mD9ftinMmfNu2NbtAOv54+3rr19t++pwy12d7dBx5pD17dPBg6Y9/rH3ehnTF1aJF5J4B9hYvfbPGi9NOk0pLbZ+JH3xgpzk9BBx2mLRokb3t9Ixw2GHSSy9FXl7LloFumzIy7HLdfdI6v2PhziSGZwTAeBPLADh+vHTRRba7haSkyEHJHQC//dZ+uaPpT21/aOcaeKhVK/sD+c03NsTuz85Izz9f+ve/7Q9wpO4oGruHHmr4c4891nbf4YSmhgy76IR3KXYB8JRT7LU7/Em2T836cveP+fvf2+48pMhdDUk2HDrd9jhOO0266y57293HYaj0dGn4cPuDPHBgoIP5hgRAyXZlk59f+2ui8UtOtv2iOgHQ6fPxhBMC33knALr/2J98sn3uxImRlz1zpvTrX0vXVQ0KeN559g9tmE7e4R0BMN44/5Rq6cV+n4pmpJSMDOm55+ztXr0i9zUYK88/bztoPukke981msd+06SJLUeiysiwHcvOm2fvN6RPNefzk+yfklho187WpDkdq/fvb0ex+dOfvC135Ejbf+Dzz9vl1ceQIfaH9bnnbJ92tbnlFhsAnfAnNTwASoS/eHHuubZ2vndv23G1FNy/qPOHy91xfufO0pNP1r7cnj2DW2qOO65hf5YQlSRjjIl1IfyqoKBAGRkZys/PV3poM2cslJbaHawxtvNcv9YcAZLtQNjpIPbCC2t2JBwNp9b2r3+tu+lxX/niC9u58tSpe7+Z0piG1UxXVtom5Wg6137ySVvj4yguju6PHhLP8OF2VJs1awIdfTvb5+DB1UP2NQaN7vc7Bnw5Eggi+Okn+4PQokX4US4AP+nTxw4jdsIJdniwhvjyS+kvf7G1ZbHSv780d+6+OUatoYclJCdHF/4k6eKLA4doTJ5M+ENk//63rcFzj17kjETkDBOIRoMaQA8a3T+I5cvtv6xu3WqOOQsADfXjj/ZkpcsvJwCifoqL7XjcRx21f4+jrkOj+/2OAY4BjCd79tjr2sbNBID66t49trWo8K8WLYJPyEKjQRNwPHECIAdaAwCAWhAA44kTAJ1+lQAAAMIgAMYTAiAAAIgCATCeFBfbawIgAACoBQEwnlADCAAAokAAjCcEQAAAEAUCYDwhAAIAgCgQAOMJARAAAESBABhP6AcQAABEgQAYT6gBBAAAUSAAxhMCIAAAiAIBMJ7QDyAAAIgCATCeUAMIAACiQACMJwRAAAAQBQJgPCEAAgCAKBAA4wndwAAAgCgQAOMJNYAAACAKBMB4QgAEAABRIADGEwIgAACIAgEwntAPIAAAiAIBMJ4UFdnrAw6IbTkAAECjRgCMF6WlUnm5vd2qVWzLAgAAGjUCYLwoLAzcTk2NXTkAAECjRwCMF07zb7Nm9gIAABABATBeOAGQ5l8AAFAHAmC8cJqAaf4FAAB1IADGC6cGkAAIAADqQACMF04NIE3AAACgDgTAeEENIAAAiBIBMF5wEggAAIgSATBecBIIAACIEgEwXtAEDAAAokQAjBc0AQMAgCgRAOMFTcAAACBKBMB4QRMwAACIEgEwXtAEDAAAokQAjBc0AQMAgCgRAONFfr69zsiIbTkAAECjRwCMFzt32uvWrWNaDAAA0PgRAOOFEwDbtIltOQAAQKNHAIwXBEAAABAlAmA8KC8PnARCAAQAAHUgAMaDvLzAbY4BBAAAdYjbAFhRUaGpU6eqR48eatmypQ4++GD95S9/kTGmeh5jjG699VZ16tRJLVu21LBhw7Ru3boYlrqBnObfVq2kpk1jWxYAANDoxW0AvPfeezV79mw99NBDWrNmje69915Nnz5dDz74YPU806dP18yZMzVnzhwtW7ZMqampGj58uIqLi2NY8gbg+D8AAFAPcVtd9PHHH2vEiBE6/fTTJUkHHnignnvuOS1fvlySrf2bMWOGbrnlFo0YMUKS9PTTTyszM1OvvvqqRo8eHbOy1xsBEAAA1EPc1gAed9xxWrhwob799ltJ0ueff64PP/xQp512miTp+++/V05OjoYNG1b9nIyMDA0ePFhLliyJSZkbzDkGkAAIAACiELc1gDfddJMKCgrUu3dvNWnSRBUVFbrrrrs0ZswYSVJOTo4kKTMzM+h5mZmZ1Y+FKikpUUlJSfX9goKCfVT6eqITaAAAUA9xWwP44osv6tlnn9W8efO0cuVKPfXUU/rrX/+qp556qsHLnDZtmjIyMqovXbt23Ysl9oAmYAAAUA9xGwCvv/563XTTTRo9erT69eunCy+8UNddd52mTZsmScrKypIk5ebmBj0vNze3+rFQU6ZMUX5+fvVl06ZN+/ZNRIsACAAA6iFuA+Du3buVnBz89po0aaLKykpJUo8ePZSVlaWFCxdWP15QUKBly5YpOzs77DJTUlKUnp4edGkUCIAAAKAe4vYYwDPPPFN33XWXunXrpsMOO0yfffaZ7r//fl1yySWSpKSkJE2aNEl33nmnevXqpR49emjq1Knq3LmzRo4cGdvC1xcngQAAgHqI2wD44IMPaurUqbrqqqu0detWde7cWZdffrluvfXW6nluuOEGFRUV6bLLLlNeXp6OP/54LViwQC1atIhhyRuAk0AAAEA9JBn30Biol4KCAmVkZCg/Pz+2zcEDB0orV0pvvCFV9XsIAADCazS/3zEUt8cAJhSOAQQAAPVAAIwHHAMIAADqgQDod5WVBEAAAFAvBEC/KyiQnMM4OQkEAABEgQDod87xfy1a2AsAAEAdCIB+R/MvAACoJwKg3+3aZa/T0mJbDgAA4BsEQL8rKrLXqamxLQcAAPANAqDfFRba61atYlsOAADgGwRAv6MGEAAA1BMB0O8IgAAAoJ4IgH5HAAQAAPVEAPQ7jgEEAAD1RAD0O2oAAQBAPREA/Y4ACAAA6okA6Hc0AQMAgHoiAPodNYAAAKCeCIB+RwAEAAD1RAD0OycA0gQMAACiRAD0O+cYQGoAAQBAlAiAfkcTMAAAqCcCoN8RAAEAQD0RAP2OJmAAAFBPBEA/q6gIBMCMjNiWBQAA+AYB0M927QrcJgACAIAoEQD9LC/PXqek2AsAAEAUCIB+lp9vr1u3jmkxAACAvxAA/cwJgDT/AgCAeiAA+pnTBEwNIAAAqAcCoJ9RAwgAABqAAOhnHAMIAAAagADoZ04TMDWAAACgHgiAfkYNIAAAaAACoJ9xDCAAAGgAAqCf0QQMAAAagADoZwUF9jo9PbblAAAAvkIA9LOiInvdqlVsywEAAHyFAOhnu3fb69TU2JYDAAD4CgHQz5wawAMOiG05AACArxAA/cwJgNQAAgCAeiAA+pnTBEwNIAAAqAcCoJ9RAwgAABqAAOhXFRVSSYm9TQAEAAD1QAD0K6f5V6IJGAAA1AsB0K+c5t+kJKlFi9iWBQAA+AoB0K/cJ4AkJcW2LAAAwFcIgH7FCSAAAKCBCIB+RQAEAAANRAD0K/oABAAADUQA9CtqAAEAQAMRAP2KAAgAABqIAOhXNAEDAIAGIgD6FTWAAACggQiAfuUEQGoAAQBAPcV1APzpp590wQUXqF27dmrZsqX69eunTz/9tPpxY4xuvfVWderUSS1bttSwYcO0bt26GJa4HpwmYGoAAQBAPcVtANy5c6eGDBmiZs2a6c0339TXX3+tv/3tb2rTpk31PNOnT9fMmTM1Z84cLVu2TKmpqRo+fLiKi4tjWPIo0QQMAAAaqGmsC7Cv3Hvvveratavmzp1bPa1Hjx7Vt40xmjFjhm655RaNGDFCkvT0008rMzNTr776qkaPHr3fy1wvnAQCAAAaKG5rAF9//XUNGjRIZ599tjp27KgjjzxSjz32WPXj33//vXJycjRs2LDqaRkZGRo8eLCWLFkSdpklJSUqKCgIusQMNYAAAKCB4jYAbtiwQbNnz1avXr301ltv6corr9Q111yjp556SpKUk5MjScrMzAx6XmZmZvVjoaZNm6aMjIzqS9euXfftm6gNJ4EAAIAGitsAWFlZqaOOOkp33323jjzySF122WUaP3685syZ0+BlTpkyRfn5+dWXTZs27cUS1xMngQAAgAaK2wDYqVMn9e3bN2hanz59tHHjRklSVlaWJCk3Nzdontzc3OrHQqWkpCg9PT3oEjM0AQMAgAaK2wA4ZMgQrV27Nmjat99+q+7du0uyJ4RkZWVp4cKF1Y8XFBRo2bJlys7O3q9lbRCagAEAQAPF7VnA1113nY477jjdfffdOuecc7R8+XI9+uijevTRRyVJSUlJmjRpku6880716tVLPXr00NSpU9W5c2eNHDkytoWPBk3AAACggeI2AB599NF65ZVXNGXKFP35z39Wjx49NGPGDI0ZM6Z6nhtuuEFFRUW67LLLlJeXp+OPP14LFixQixYtYljyKFEDCAAAGijJGGNiXQi/KigoUEZGhvLz8/f/8YDt20vbt0tffSWFHOsIAAAii+nvdyMRt8cAxj1OAgEAAA1EAPSjigrJGa6OJmAAAFBPBEA/2rMncJsaQAAAUE8EQD9ymn8lyQ8nrAAAgEaFAOhH7jOAk/kIAQBA/ZAe/Ig+AAEAgAcEQD+iD0AAAOABAdCPnADYqlVsywEAAHyJAOhHhYX2mgAIAAAagADoR04A5BhAAADQAARAP6IJGAAAeEAA9COagAEAgAcEQD8iAAIAAA8IgH7kNAFzDCAAAGgAAqAfUQMIAAA8IAD6EQEQAAB4QAD0I7qBAQAAHhAA/YhuYAAAgAcEQD+iCRgAAHhAAPQjAiAAAPCAAOhHdAMDAAA8IAD6ETWAAADAAwKgHxEAAQCABwRAPyopsdcpKbEtBwAA8CUCoB9VVtrrZD4+AABQfyQIPzLGXiclxbYcAADAlwiAfkQABAAAHhAA/YgACAAAPCAA+hEBEAAAeEAA9Bsn/EmcBAIAABqEBOE37gBIDSAAAGgAAqDfEAABAIBHBEC/IQACAACPCIB+QwAEAAAeEQD9hgAIAAA8IgD6jTMMnMRZwAAAoEFIEH5DDSAAAPCIAOg3BEAAAOARAdBvCIAAAMAjAqDfEAABAIBHBEC/IQACAACPCIB+w1nAAADAIxKE31ADCAAAPCIA+g0BEAAAeEQA9BsCIAAA8IgA6DcEQAAA4BEB0G/cAZCTQAAAQAOQIPzGfRYwNYAAAKABCIB+464BBAAAaAACoN84AZDaPwAA0EAEQL8hAAIAAI8IgH5DAAQAAB4RAP3GOQmEM4ABAEADJUSKuOeee5SUlKRJkyZVTysuLtaECRPUrl07tWrVSqNGjVJubm7sChktagABAIBHcR8AP/nkEz3yyCPq379/0PTrrrtO8+fP10svvaTFixdr8+bNOuuss2JUynogAAIAAI/iOgAWFhZqzJgxeuyxx9SmTZvq6fn5+Xr88cd1//3366STTtLAgQM1d+5cffzxx1q6dGkMSxwFAiAAAPAorgPghAkTdPrpp2vYsGFB01esWKGysrKg6b1791a3bt20ZMmSiMsrKSlRQUFB0GW/IwACAACPmsa6APvK888/r5UrV+qTTz6p8VhOTo6aN2+u1q1bB03PzMxUTk5OxGVOmzZNd9xxx94uav0QAAEAgEdxWQO4adMmXXvttXr22WfVokWLvbbcKVOmKD8/v/qyadOmvbbsqHEWMAAA8CguU8SKFSu0detWHXXUUWratKmaNm2qxYsXa+bMmWratKkyMzNVWlqqvLy8oOfl5uYqKysr4nJTUlKUnp4edNnvqAEEAAAexWUT8NChQ/Xll18GTRs3bpx69+6tG2+8UV27dlWzZs20cOFCjRo1SpK0du1abdy4UdnZ2bEocvQIgAAAwKO4DIBpaWk6/PDDg6alpqaqXbt21dMvvfRSTZ48WW3btlV6erquvvpqZWdn69hjj41FkaNHAAQAAB7FZQCMxgMPPKDk5GSNGjVKJSUlGj58uB5++OFYF6tuBEAAAOBRkjFOokB9FRQUKCMjQ/n5+fvveMBvvpH69JHatpW2b98/rwkAQByJye93IxOXJ4HENecsYGoAAQBAAxEA/YYmYAAA4BEB0G8IgAAAwCMCoN8QAAEAgEcEQL8hAAIAAI8IgH7DUHAAAMAjUoTfUAMIAAA8IgD6DQEQAAB4RAD0GwIgAADwiADoNwRAAADgEQHQbwiAAADAIwKg33AWMAAA8IgU4TfUAAIAAI8IgH5DAAQAAB4RAP2GAAgAADwiAPoNARAAAHhEAPQbJwByEggAAGggUoTfOGcBUwMIAAAaiADoNzQBAwAAjwiAfkMABAAAHhEA/YYACAAAPCIA+g0BEAAAeEQA9BuGggMAAB6RIvyGGkAAAOARAdBvCIAAAMAjAqDfEAABAIBHBEC/IQACAACPCIB+QwAEAAAeEQD9hrOAAQCAR6QIv6EGEAAAeEQA9BsCIAAA8IgA6DcEQAAA4BEB0G8IgAAAwCMCoN84AZCTQAAAQAORIvzGOQuYGkAAANBABEC/oQkYAAB4RAD0GwIgAADwiADoNwRAAADgEQHQbwiAAADAIwKg3zAUHAAA8IgU4TfUAAIAAI8IgH5DAAQAAB4RAP2GAAgAADwiAPoNARAAAHhEAPQbAiAAAPCIAOg3nAUMAAA8IkX4DTWAAADAIwKg3xAAAQCARwRAvyEAAgAAjwiAfkMABAAAHhEA/YaTQAAAgEekCL+hBhAAAHhEAPQbAiAAAPAobgPgtGnTdPTRRystLU0dO3bUyJEjtXbt2qB5iouLNWHCBLVr106tWrXSqFGjlJubG6MSR4kACAAAPIrbALh48WJNmDBBS5cu1TvvvKOysjKdcsopKioqqp7nuuuu0/z58/XSSy9p8eLF2rx5s84666wYljoKBEAAAOBR01gXYF9ZsGBB0P0nn3xSHTt21IoVK3TCCScoPz9fjz/+uObNm6eTTjpJkjR37lz16dNHS5cu1bHHHhuLYteNAAgAADyK2xrAUPn5+ZKktm3bSpJWrFihsrIyDRs2rHqe3r17q1u3blqyZElMyhgVzgIGAAAexW0NoFtlZaUmTZqkIUOG6PDDD5ck5eTkqHnz5mrdunXQvJmZmcrJyQm7nJKSEpWUlFTfLygo2GdljogaQAAA4FFCVCNNmDBBq1ev1vPPP+9pOdOmTVNGRkb1pWvXrnuphPVAAAQAAB7FfQCcOHGi3njjDS1atEhdunSpnp6VlaXS0lLl5eUFzZ+bm6usrKywy5oyZYry8/OrL5s2bdqXRQ+PAAgAADyK2wBojNHEiRP1yiuv6N1331WPHj2CHh84cKCaNWumhQsXVk9bu3atNm7cqOzs7LDLTElJUXp6etBlvyMAAgAAj+L2GMAJEyZo3rx5eu2115SWllZ9XF9GRoZatmypjIwMXXrppZo8ebLatm2r9PR0XX311crOzm68ZwBLBEAAAOBZ3AbA2bNnS5JOPPHEoOlz587VxRdfLEl64IEHlJycrFGjRqmkpETDhw/Xww8/vJ9LWk+cBQwAADyK2wBonJqyWrRo0UKzZs3SrFmz9kOJ9hJqAAEAgEdUI/kNARAAAHhEAPQbAiAAAPCIAOg3BEAAAOARAdBvOAkEAAB4RIrwG2oAAQCARwRAvyEAAgAAjwiAfkMABAAAHhEA/YYACAAAPCIA+g0BEAAAeEQA9BvOAgYAAB6RIvyGGkAAAOARAdBvCIAAAMAjAqDfEAABAIBHBEC/IQACAACPCIB+QwAEAAAeEQD9hrOAAQCAR6QIv6EGEAAAeEQA9BsCIAAA8IgA6DcEQAAA4BEB0G8IgAAAwCMCoN9wEggAAPCIFOE31AACAACPCIB+QwAEAAAeEQD9hgAIAAA8IgD6DQEQAAB4RAD0GwIgAADwiADoN5wFDAAAPCJF+A01gAAAwCMCoN8QAAEAgEcEQL8hAAIAAI8IgH5DAAQAAB4RAP2GAAgAADwiAPoNZwEDAACPSBF+Qw0gAADwiADoNwRAAADgEQHQbwiAAADAIwKg3xAAAQCARwRAv+EkEAAA4BEpwm+oAQQAAB4RAP2GAAgAADwiAPoNARAAAHhEAPQbAiAAAPCIAOg3BEAAAOARAdBvOAsYAAB4RIrwG2oAAQCARwRAvyEAAgAAjwiAfkMABAAAHhEA/YYACAAAPCIA+g0BEAAAeEQA9BvOAgYAAB6RIvyGGkAAAOARAdBvCIAAAMAjAqDfEAABAIBHBEC/IQACAACPEj4Azpo1SwceeKBatGihwYMHa/ny5bEuUu2ck0AIgAAAoIESOgC+8MILmjx5sm677TatXLlSAwYM0PDhw7V169ZYFy0ypwaQs4ABAEADJXSKuP/++zV+/HiNGzdOffv21Zw5c3TAAQfoiSeeiHXRIqMJGAAAeNQ01gWIldLSUq1YsUJTpkypnpacnKxhw4ZpyZIlYZ9TUlKikpKS6vsFBQX7pnAvv2wv4Xz+ub0mAAIAgAZK2AC4bds2VVRUKDMzM2h6Zmamvvnmm7DPmTZtmu644459X7gvv5Sefbb2edq33/flAAAAcSlhA2BDTJkyRZMnT66+X1BQoK5du+79FzrlFCk9PfLjWVl2HgAAgAZI2ADYvn17NWnSRLm5uUHTc3NzlZWVFfY5KSkpSklJ2feFy862FwAAgH0gYU8Cad68uQYOHKiFCxdWT6usrNTChQuVTfgCAABxLGFrACVp8uTJGjt2rAYNGqRjjjlGM2bMUFFRkcaNGxfrogEAAOwzCR0Azz33XP3888+69dZblZOToyOOOEILFiyocWIIAABAPEkyxulYDvVVUFCgjIwM5efnK722kzYAAECjwe93Ah8DCAAAkKgIgAAAAAmGAAgAAJBgCIAAAAAJhgAIAACQYAiAAAAACYYACAAAkGAIgAAAAAmGAAgAAJBgEnooOK+cQVQKCgpiXBIAABAt53c7kQdDIwB6sGvXLklS165dY1wSAABQX7t27VJGRkasixETjAXsQWVlpTZv3qy0tDQlJSXt1WUXFBSoa9eu2rRpU8KOUxgt1lX0WFfRY13VD+sreqyr6O2rdWWM0a5du9S5c2clJyfm0XDUAHqQnJysLl267NPXSE9PZwcRJdZV9FhX0WNd1Q/rK3qsq+jti3WVqDV/jsSMvQAAAAmMAAgAAJBgCICNVEpKim677TalpKTEuiiNHusqeqyr6LGu6of1FT3WVfRYV/sOJ4EAAAAkGGoAAQAAEgwBEAAAIMEQAAEAABIMARAAACDBEAAboVmzZunAAw9UixYtNHjwYC1fvjzWRWqUbr/9diUlJQVdevfuHetiNQrvv/++zjzzTHXu3FlJSUl69dVXgx43xujWW29Vp06d1LJlSw0bNkzr1q2LTWFjrK51dfHFF9fYzk499dTYFDbGpk2bpqOPPlppaWnq2LGjRo4cqbVr1wbNU1xcrAkTJqhdu3Zq1aqVRo0apdzc3BiVOHaiWVcnnnhijW3riiuuiFGJY2v27Nnq379/dYfP2dnZevPNN6sfZ7va+wiAjcwLL7ygyZMn67bbbtPKlSs1YMAADR8+XFu3bo110Rqlww47TFu2bKm+fPjhh7EuUqNQVFSkAQMGaNasWWEfnz59umbOnKk5c+Zo2bJlSk1N1fDhw1VcXLyfSxp7da0rSTr11FODtrPnnntuP5aw8Vi8eLEmTJigpUuX6p133lFZWZlOOeUUFRUVVc9z3XXXaf78+XrppZe0ePFibd68WWeddVYMSx0b0awrSRo/fnzQtjV9+vQYlTi2unTponvuuUcrVqzQp59+qpNOOkkjRozQV199JYntap8waFSOOeYYM2HChOr7FRUVpnPnzmbatGkxLFXjdNttt5kBAwbEuhiNniTzyiuvVN+vrKw0WVlZ5r777quelpeXZ1JSUsxzzz0XgxI2HqHryhhjxo4da0aMGBGT8jR2W7duNZLM4sWLjTF2O2rWrJl56aWXqudZs2aNkWSWLFkSq2I2CqHryhhjfvWrX5lrr702doVq5Nq0aWP+7//+j+1qH6EGsBEpLS3VihUrNGzYsOppycnJGjZsmJYsWRLDkjVe69atU+fOnXXQQQdpzJgx2rhxY6yL1Oh9//33ysnJCdrOMjIyNHjwYLazCN577z117NhRhx56qK688kpt37491kVqFPLz8yVJbdu2lSStWLFCZWVlQdtW79691a1bt4TftkLXlePZZ59V+/btdfjhh2vKlCnavXt3LIrXqFRUVOj5559XUVGRsrOz2a72kaaxLgACtm3bpoqKCmVmZgZNz8zM1DfffBOjUjVegwcP1pNPPqlDDz1UW7Zs0R133KFf/vKXWr16tdLS0mJdvEYrJydHksJuZ85jCDj11FN11llnqUePHlq/fr1uvvlmnXbaaVqyZImaNGkS6+LFTGVlpSZNmqQhQ4bo8MMPl2S3rebNm6t169ZB8yb6thVuXUnS+eefr+7du6tz58764osvdOONN2rt2rV6+eWXY1ja2Pnyyy+VnZ2t4uJitWrVSq+88or69u2rVatWsV3tAwRA+NZpp51Wfbt///4aPHiwunfvrhdffFGXXnppDEuGeDJ69Ojq2/369VP//v118MEH67333tPQoUNjWLLYmjBhglavXs1xt1GItK4uu+yy6tv9+vVTp06dNHToUK1fv14HH3zw/i5mzB166KFatWqV8vPz9c9//lNjx47V4sWLY12suEUTcCPSvn17NWnSpMaZTbm5ucrKyopRqfyjdevWOuSQQ/Tdd9/FuiiNmrMtsZ01zEEHHaT27dsn9HY2ceJEvfHGG1q0aJG6dOlSPT0rK0ulpaXKy8sLmj+Rt61I6yqcwYMHS1LCblvNmzdXz549NXDgQE2bNk0DBgzQ3//+d7arfYQA2Ig0b95cAwcO1MKFC6unVVZWauHChcrOzo5hyfyhsLBQ69evV6dOnWJdlEatR48eysrKCtrOCgoKtGzZMrazKPzvf//T9u3bE3I7M8Zo4sSJeuWVV/Tuu++qR48eQY8PHDhQzZo1C9q21q5dq40bNybctlXXugpn1apVkpSQ21Y4lZWVKikpYbvaR2gCbmQmT56ssWPHatCgQTrmmGM0Y8YMFRUVady4cbEuWqPzpz/9SWeeeaa6d++uzZs367bbblOTJk103nnnxbpoMVdYWBhUi/D9999r1apVatu2rbp166ZJkybpzjvvVK9evdSjRw9NnTpVnTt31siRI2NX6BipbV21bdtWd9xxh0aNGqWsrCytX79eN9xwg3r27Knhw4fHsNSxMWHCBM2bN0+vvfaa0tLSqo+/ysjIUMuWLZWRkaFLL71UkydPVtu2bZWenq6rr75a2dnZOvbYY2Nc+v2rrnW1fv16zZs3T7/5zW/Url07ffHFF7ruuut0wgknqH///jEu/f43ZcoUnXbaaerWrZt27dqlefPm6b333tNbb73FdrWvxPo0ZNT04IMPmm7dupnmzZubY445xixdujTWRWqUzj33XNOpUyfTvHlz84tf/MKce+655rvvvot1sRqFRYsWGUk1LmPHjjXG2K5gpk6dajIzM01KSooZOnSoWbt2bWwLHSO1ravdu3ebU045xXTo0ME0a9bMdO/e3YwfP97k5OTEutgxEW49STJz586tnmfPnj3mqquuMm3atDEHHHCA+d3vfme2bNkSu0LHSF3rauPGjeaEE04wbdu2NSkpKaZnz57m+uuvN/n5+bEteIxccsklpnv37qZ58+amQ4cOZujQoebtt9+ufpztau9LMsaY/Rk4AQAAEFscAwgAAJBgCIAAAAAJhgAIAACQYAiAAAAACYYACAAAkGAIgAAAAAmGAAgAAJBgCIAAAAAJhgAIAACQYAiAAAAACYYACAAAkGAIgAAAAAmGAAgAAJBgCIAAAAAJhgAIAACQYAiAAAAACYYACAAAkGAIgAAAAAmGAAgAAJBgCIAAAAAJhgAIAACQYAiAAAAACYYACAAAkGAIgAAAAAmGAAgAAJBgCIAAAAAJhgAIAACQYAiAAAAACYYACAAAkGAIgAAAAAmGAAgAAJBg/j9Ur2wIG7FIXQAAAABJRU5ErkJggg==' width=640.0/>\n",
       "            </div>\n",
       "        "
      ],
      "text/plain": [
       "Canvas(toolbar=Toolbar(toolitems=[('Home', 'Reset original view', 'home', 'home'), ('Back', 'Back to previous …"
      ]
     },
     "metadata": {},
     "output_type": "display_data"
    }
   ],
   "source": [
    "proc = Process(dt, acc_limit=100., noise=True)\n",
    "v_set = np.zeros_like(x)\n",
    "error = np.zeros_like(x)\n",
    "cr = np.zeros_like(x)\n",
    "ct = simple_pid.PID(Kp=.6, Ki=0.0, Kd=.0, sample_time=None)\n",
    "for i in range(1, len(v_desired)):\n",
    "    cr[i] = ct(error[i-1])\n",
    "    set_pos = v_desired[i-1] + cr[i]\n",
    "    set_pos_save = set_pos\n",
    "    if v_desired[i-1] >= 50. and set_pos >= 0. and set_pos < 50.:\n",
    "        set_pos = 50.\n",
    "    if v_desired[i-1] <= -50. and set_pos <= 0. and set_pos > -50.:\n",
    "        set_pos = -50\n",
    "    #print(\"%.2f %.2f %.2f\" % (set_pos_save, set_pos, v_desired[i-1]))\n",
    "    v_set[i] = proc.update(set_pos)\n",
    "    #print(\"%.2f %.2f%.2f\" % (error[i-1], cr[i], v_set[i]))\n",
    "    error[i] = v_desired[i] - v_set[i]\n",
    "fig, ax = plt.subplots()\n",
    "ax.plot(x, v_desired, 'k')\n",
    "ax.plot(x, v_set, 'r')\n",
    "#ax.plot(x, error, 'b')\n",
    "#ax.plot(x, cr, 'g')"
   ]
  }
 ],
 "metadata": {
  "kernelspec": {
   "display_name": "local-venv",
   "language": "python",
   "name": "local-venv"
  },
  "language_info": {
   "codemirror_mode": {
    "name": "ipython",
    "version": 3
   },
   "file_extension": ".py",
   "mimetype": "text/x-python",
   "name": "python",
   "nbconvert_exporter": "python",
   "pygments_lexer": "ipython3",
   "version": "3.10.6"
  }
 },
 "nbformat": 4,
 "nbformat_minor": 5
}
