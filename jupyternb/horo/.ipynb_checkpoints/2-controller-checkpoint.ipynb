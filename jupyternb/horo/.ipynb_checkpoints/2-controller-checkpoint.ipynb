{
 "cells": [
  {
   "cell_type": "markdown",
   "id": "edf3b960-476c-4edc-9e4e-40d2c7206d43",
   "metadata": {},
   "source": [
    "## Differential Drive Controller\n",
    "\n",
    "Give the velocity V and the angular velocity $\\omega$ from a twist message (we only consider linear.x and angular.x and ignore all other components) we can calculate the angular velocity of each wheel as follows:\n",
    "\n",
    "We know\n",
    "$$\n",
    "\\omega (R + b/2) = V_r\n",
    "$$\n",
    "$$\n",
    "V_r = r\\omega_r\n",
    "$$\n",
    "$$\n",
    "V = R\\omega\n",
    "$$\n",
    "where $\\omega_r$ is the angular velocity of right wheel\n",
    "\n",
    "Whith this we obtain\n",
    "$$\n",
    "\\omega_r = \\frac{V+\\omega b/2}{r}\n",
    "$$\n",
    "\n",
    "and with\n",
    "$$\n",
    "\\omega (R - b/2) = V_l\n",
    "$$\n",
    "we obtain\n",
    "$$\n",
    "\\omega_l = \\frac{V-\\omega b/2}{r}\n",
    "$$"
   ]
  },
  {
   "cell_type": "markdown",
   "id": "38eadd26-46c9-452d-bf0c-60099d7d0e44",
   "metadata": {},
   "source": [
    "### Converting ROS twist message to wheel speeds\n",
    "\n",
    "The twist message uses m/s for linear velocity units and radians/s for the angular velocity units. We only consider the x component of the linear speed and the z component of the angular speed.\n",
    "\n",
    "Assume $linerar_x$ in the range of -1 .. 1 and $angular_z$ in the range of -1 .. 1\n",
    "\n",
    "$$\n",
    "V = S \\cdot linerar_x\n",
    "$$\n",
    "$$\n",
    "\\omega = angular_z\n",
    "$$\n",
    "\n",
    "With S a robot dependent scaling factor\n",
    "\n",
    "With this we obtain:\n",
    "$$\n",
    "\\omega_r = \\frac{S \\cdot linerar_x + angular_z b/2}{r}\n",
    "$$\n",
    "$$\n",
    "\\omega_l = \\frac{S \\cdot linerar_x - angular_z b/2}{r}\n",
    "$$\n"
   ]
  },
  {
   "cell_type": "code",
   "execution_count": 57,
   "id": "6c22f135-ab44-4f9a-a688-b3acda88df34",
   "metadata": {
    "tags": []
   },
   "outputs": [],
   "source": [
    "r = 0.0825\n",
    "b = 0.18\n",
    "S = 10"
   ]
  },
  {
   "cell_type": "code",
   "execution_count": 53,
   "id": "82d1fd4e-aa52-48b2-b47c-e15b90d664d1",
   "metadata": {
    "tags": []
   },
   "outputs": [],
   "source": [
    "def get_wheel_speed(msg):\n",
    "    l_x = msg['linear']['x']\n",
    "    w = msg['angular']['z']\n",
    "    w_r = ((S * l_x) + (b/2) * w) / r\n",
    "    w_l = ((S * l_x) - (b/2) * w) / r\n",
    "    return w_l, w_r"
   ]
  },
  {
   "cell_type": "code",
   "execution_count": 55,
   "id": "2077b6ce-89a1-4dbc-82d7-57f91fccd411",
   "metadata": {
    "tags": []
   },
   "outputs": [
    {
     "data": {
      "text/plain": [
       "(-1.0909090909090908, 1.0909090909090908)"
      ]
     },
     "execution_count": 55,
     "metadata": {},
     "output_type": "execute_result"
    }
   ],
   "source": [
    "msg = {'linear': {'x': 0.0, 'y': 0.0, 'z': 0.0}, 'angular': {'x': 0.0, 'y': 0.0, 'z': 1.0}}\n",
    "get_wheel_speed(msg)"
   ]
  },
  {
   "cell_type": "code",
   "execution_count": 58,
   "id": "cc547a3f-bad5-43d6-9839-5560d89cc000",
   "metadata": {
    "tags": []
   },
   "outputs": [
    {
     "name": "stdout",
     "output_type": "stream",
     "text": [
      "0.00 0.00 0 0\n",
      "0.00 0.10 0 0\n",
      "0.00 0.20 0 0\n",
      "0.00 0.30 0 0\n",
      "0.00 0.40 0 0\n",
      "0.00 0.50 0 0\n",
      "0.00 0.60 0 0\n",
      "0.00 0.70 0 0\n",
      "0.00 0.80 0 0\n",
      "0.00 0.90 0 0\n",
      "0.00 1.00 -1 1\n",
      "0.10 0.00 12 12\n",
      "0.10 0.10 12 12\n",
      "0.10 0.20 11 12\n",
      "0.10 0.30 11 12\n",
      "0.10 0.40 11 12\n",
      "0.10 0.50 11 12\n",
      "0.10 0.60 11 12\n",
      "0.10 0.70 11 12\n",
      "0.10 0.80 11 12\n",
      "0.10 0.90 11 13\n",
      "0.10 1.00 11 13\n",
      "0.20 0.00 24 24\n",
      "0.20 0.10 24 24\n",
      "0.20 0.20 24 24\n",
      "0.20 0.30 23 24\n",
      "0.20 0.40 23 24\n",
      "0.20 0.50 23 24\n",
      "0.20 0.60 23 24\n",
      "0.20 0.70 23 25\n",
      "0.20 0.80 23 25\n",
      "0.20 0.90 23 25\n",
      "0.20 1.00 23 25\n",
      "0.30 0.00 36 36\n",
      "0.30 0.10 36 36\n",
      "0.30 0.20 36 36\n",
      "0.30 0.30 36 36\n",
      "0.30 0.40 35 36\n",
      "0.30 0.50 35 36\n",
      "0.30 0.60 35 37\n",
      "0.30 0.70 35 37\n",
      "0.30 0.80 35 37\n",
      "0.30 0.90 35 37\n",
      "0.30 1.00 35 37\n",
      "0.40 0.00 48 48\n",
      "0.40 0.10 48 48\n",
      "0.40 0.20 48 48\n",
      "0.40 0.30 48 48\n",
      "0.40 0.40 48 48\n",
      "0.40 0.50 47 49\n",
      "0.40 0.60 47 49\n",
      "0.40 0.70 47 49\n",
      "0.40 0.80 47 49\n",
      "0.40 0.90 47 49\n",
      "0.40 1.00 47 49\n",
      "0.50 0.00 60 60\n",
      "0.50 0.10 60 60\n",
      "0.50 0.20 60 60\n",
      "0.50 0.30 60 60\n",
      "0.50 0.40 60 61\n",
      "0.50 0.50 60 61\n",
      "0.50 0.60 59 61\n",
      "0.50 0.70 59 61\n",
      "0.50 0.80 59 61\n",
      "0.50 0.90 59 61\n",
      "0.50 1.00 59 61\n",
      "0.60 0.00 72 72\n",
      "0.60 0.10 72 72\n",
      "0.60 0.20 72 72\n",
      "0.60 0.30 72 73\n",
      "0.60 0.40 72 73\n",
      "0.60 0.50 72 73\n",
      "0.60 0.60 72 73\n",
      "0.60 0.70 71 73\n",
      "0.60 0.80 71 73\n",
      "0.60 0.90 71 73\n",
      "0.60 1.00 71 73\n",
      "0.70 0.00 84 84\n",
      "0.70 0.10 84 84\n",
      "0.70 0.20 84 85\n",
      "0.70 0.30 84 85\n",
      "0.70 0.40 84 85\n",
      "0.70 0.50 84 85\n",
      "0.70 0.60 84 85\n",
      "0.70 0.70 84 85\n",
      "0.70 0.80 83 85\n",
      "0.70 0.90 83 85\n",
      "0.70 1.00 83 85\n",
      "0.80 0.00 96 96\n",
      "0.80 0.10 96 97\n",
      "0.80 0.20 96 97\n",
      "0.80 0.30 96 97\n",
      "0.80 0.40 96 97\n",
      "0.80 0.50 96 97\n",
      "0.80 0.60 96 97\n",
      "0.80 0.70 96 97\n",
      "0.80 0.80 96 97\n",
      "0.80 0.90 95 97\n",
      "0.80 1.00 95 98\n",
      "0.90 0.00 109 109\n",
      "0.90 0.10 108 109\n",
      "0.90 0.20 108 109\n",
      "0.90 0.30 108 109\n",
      "0.90 0.40 108 109\n",
      "0.90 0.50 108 109\n",
      "0.90 0.60 108 109\n",
      "0.90 0.70 108 109\n",
      "0.90 0.80 108 109\n",
      "0.90 0.90 108 110\n",
      "0.90 1.00 108 110\n",
      "1.00 0.00 121 121\n",
      "1.00 0.10 121 121\n",
      "1.00 0.20 120 121\n",
      "1.00 0.30 120 121\n",
      "1.00 0.40 120 121\n",
      "1.00 0.50 120 121\n",
      "1.00 0.60 120 121\n",
      "1.00 0.70 120 121\n",
      "1.00 0.80 120 122\n",
      "1.00 0.90 120 122\n",
      "1.00 1.00 120 122\n"
     ]
    }
   ],
   "source": [
    "for i in range(11):\n",
    "    for k in range(11):\n",
    "        msg['linear']['x'] = i/10\n",
    "        msg['angular']['z'] = k/10\n",
    "        w_l, w_r = get_wheel_speed(msg)\n",
    "        print(\"%.2f %.2f %s %s\" % (i/10, k/10, int(w_l), int(w_r)))"
   ]
  }
 ],
 "metadata": {
  "kernelspec": {
   "display_name": "local-venv",
   "language": "python",
   "name": "local-venv"
  },
  "language_info": {
   "codemirror_mode": {
    "name": "ipython",
    "version": 3
   },
   "file_extension": ".py",
   "mimetype": "text/x-python",
   "name": "python",
   "nbconvert_exporter": "python",
   "pygments_lexer": "ipython3",
   "version": "3.10.6"
  }
 },
 "nbformat": 4,
 "nbformat_minor": 5
}
