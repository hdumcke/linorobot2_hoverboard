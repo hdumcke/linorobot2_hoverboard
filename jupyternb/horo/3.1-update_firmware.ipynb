{
 "cells": [
  {
   "cell_type": "markdown",
   "id": "45991c29-fdf8-45cd-968c-a30415239877",
   "metadata": {},
   "source": [
    "## Hoverboard Controller Update\n",
    "\n",
    "We have updated the firmware, the new firmare includes a PID controller.\n",
    "\n",
    "The hoverboard firmware expects a value between -2000 to 2000 to set the speed of a wheel. Values between -49 and 49 are now accepted.\n",
    "\n",
    "We can set the PID parameters through the API, the values are integer values\n",
    "\n",
    "The C code for the PID controller is as follows:\n",
    "\n",
    "```C\n",
    "float last_error = 0;\n",
    "float Kp = -1; // Proportial\n",
    "float Ki = -1; // Integral\n",
    "float Kd = -1; // Differential\n",
    "float Iterm = 0; // Remember Integral of error\n",
    "const float windup_guard = 1000;\n",
    "\n",
    "int16_t updatePID(const float desired_val, const float measured_val, const float dt)\n",
    "{\n",
    "        float error;\n",
    "        float delta_error;\n",
    "        float Dterm;\n",
    "\n",
    "        if (Kp == -1 || Ki == -1 || Kp == -1)\n",
    "        {\n",
    "                // PID values not initialized\n",
    "                return 0;\n",
    "        }\n",
    "        error = desired_val - measured_val;\n",
    "        delta_error = error - last_error;\n",
    "        Iterm += error * dt;\n",
    "\n",
    "        // Prevent I from getting too large\n",
    "        if (Iterm < - windup_guard)\n",
    "        {\n",
    "                Iterm = - windup_guard;\n",
    "        }\n",
    "        else if (Iterm > windup_guard)\n",
    "        {\n",
    "                Iterm = windup_guard;\n",
    "        }\n",
    "        Dterm = 0;\n",
    "        if (dt > 0)\n",
    "        {\n",
    "                Dterm = delta_error / dt;\n",
    "        }\n",
    "        // Remember stuff for next calculation\n",
    "        last_error = error;\n",
    "        // Compute actual PWM output\n",
    "        return (int16_t) (Kp*error + Ki*Iterm + Kd*Dterm);\n",
    "}\n",
    "```\n",
    "\n",
    "And it is called in bldc.c after the speed is calculated:\n",
    "\n",
    "```C\n",
    "    if(loopCounter < 16000 && inc == 0) // Number of loops with no increment gives time\n",
    "    {\n",
    "        loopCounter++;\n",
    "    }\n",
    "    else\n",
    "    {\n",
    "        if (inc != last_inc)\n",
    "        {\n",
    "            last_inc = inc;\n",
    "            // Wait for direction to be determined in next loop\n",
    "        }\n",
    "        else\n",
    "        {\n",
    "            // Set and calculate velocity\n",
    "            // Update realSpeed and PWM\n",
    "            realSpeed = (float)inc * 16000.0 / (float)loopCounter; // Ticks per Second\n",
    "            #ifdef MASTER\n",
    "            SetPWM(updatePID((float)speedM, realSpeed, (float)loopCounter / 16000.0));\n",
    "            #endif\n",
    "            #ifdef SLAVE\n",
    "            SetPWM(updatePID((float)desiredSpeedSlave, realSpeed, (float)loopCounter / 16000.0));\n",
    "            #endif\n",
    "            loopCounter = 0;\n",
    "        }\n",
    "    }\n",
    "```    \n",
    "    \n",
    "\n",
    "We will rewite the code in Python"
   ]
  },
  {
   "cell_type": "code",
   "execution_count": 1,
   "id": "51f40dd2-3f1e-4b21-8d73-aea9d334e871",
   "metadata": {
    "tags": []
   },
   "outputs": [],
   "source": [
    "class PID(object):\n",
    "    def __init__(self): \n",
    "        self.last_error = 0.\n",
    "        self.Kp = -1. # Proportial\n",
    "        self.Ki = -1. # Integral\n",
    "        self.Kd = -1. # Differential\n",
    "        self.Iterm = 0. # Remember Integral of error\n",
    "        self.windup_guard = 1000.\n",
    "        self.Iterm = 0.\n",
    "\n",
    "    def updatePID(self, desired_val, measured_val, dt):\n",
    "        if (self.Kp == -1 or self.Ki == -1 or self.Kp == -1):\n",
    "            # PID values not initialized\n",
    "            return 0\n",
    "            \n",
    "        error = desired_val - measured_val\n",
    "        delta_error = error - self.last_error\n",
    "        self.Iterm += error * dt\n",
    "\n",
    "        # Prevent I from getting too large\n",
    "        if (self.Iterm < - self.windup_guard):\n",
    "            self.Iterm = - self.windup_guard\n",
    "        else:\n",
    "            if (self.Iterm > self.windup_guard):\n",
    "                self.Iterm = self.windup_guard\n",
    "            \n",
    "        Dterm = 0\n",
    "        if (dt > 0):\n",
    "            Dterm = delta_error / dt\n",
    "        \n",
    "        # Remember stuff for next calculation\n",
    "        self.last_error = error;\n",
    "        # Compute actual PWM output\n",
    "        return self.Kp*error + self.Ki*self.Iterm + self.Kd*Dterm"
   ]
  },
  {
   "cell_type": "markdown",
   "id": "903eae67-7e07-4e2a-93c1-968de15881c1",
   "metadata": {},
   "source": [
    "We simulate the hoverboard\n",
    "\n",
    "We calculate the real speed based on a limited acceleration\n",
    "\n",
    "We also have to deal with a variable dt (work in progress)"
   ]
  },
  {
   "cell_type": "code",
   "execution_count": 2,
   "id": "0e93e90c-5442-437f-8882-def7c19a372d",
   "metadata": {
    "tags": []
   },
   "outputs": [],
   "source": [
    "import random\n",
    "class Hoverboard(object):\n",
    "    def __init__(self, dt, acc_limit=100.0, noise=False):\n",
    "        self.last_speed = 0\n",
    "        self.noise = noise\n",
    "        self.dt = dt\n",
    "        self.acc_limit = acc_limit\n",
    "        self.vel_limit = 1000\n",
    "\n",
    "    def get_speed(self, desired_speed):\n",
    "        acc = (desired_speed - self.last_speed) / self.dt\n",
    "        acc = max(acc, -self.acc_limit)\n",
    "        acc = min(acc, self.acc_limit)\n",
    "        speed = self.last_speed + acc * dt\n",
    "        if self.noise:\n",
    "            if bool(random.getrandbits(1)):\n",
    "                speed += 0.025 * pos * random.random()\n",
    "            else:\n",
    "                speed -= 0.025 * pos * random.random()\n",
    "        speed = max(speed, -self.vel_limit)\n",
    "        speed = min(speed, self.vel_limit)\n",
    "        self.last_speed = speed\n",
    "        ### work in progress\n",
    "        ### calculate dt as a function of speed\n",
    "        #self.dt = (abs(speed) - 50) + 2\n",
    "        #self.dt = self.dt / 16000\n",
    "        return speed, self.dt"
   ]
  },
  {
   "cell_type": "code",
   "execution_count": 3,
   "id": "049da108-d033-4f49-bce2-10f831f6ae4b",
   "metadata": {
    "tags": []
   },
   "outputs": [],
   "source": [
    "import numpy as np\n",
    "import matplotlib.pyplot as plt\n",
    "%matplotlib widget"
   ]
  },
  {
   "cell_type": "code",
   "execution_count": 4,
   "id": "6c459e1f-32de-4bae-aae1-d82e3d1ef07f",
   "metadata": {
    "tags": []
   },
   "outputs": [],
   "source": [
    "dt = 1/16000\n",
    "t_max = 7\n",
    "x = np.arange(0, t_max, dt)\n",
    "\n",
    "v_desired = np.zeros_like(x)\n",
    "v_desired[16000:16000*5] = 100.0"
   ]
  },
  {
   "cell_type": "code",
   "execution_count": 5,
   "id": "5bd65077-94ea-45b8-9678-20d4bed019a4",
   "metadata": {
    "tags": []
   },
   "outputs": [],
   "source": [
    "hb = Hoverboard(1/16000, acc_limit=100.)\n",
    "pid = PID()\n",
    "pid.Kp = 0.5 # Proportial\n",
    "pid.Ki = 0.5 # Integral\n",
    "pid.Kd = 0.5 # Differential\n",
    "last_error = 0.\n",
    "v_set = np.zeros_like(x)\n",
    "for i in range(1, len(v_desired)):\n",
    "    v_set[i], dt = hb.get_speed(v_desired[i-1])\n",
    "    v_set[i] = pid.updatePID(v_desired[i-1], v_set[i], dt)"
   ]
  },
  {
   "cell_type": "code",
   "execution_count": null,
   "id": "112e1d93-a3cc-4c59-9338-4babe67ec3e8",
   "metadata": {
    "tags": []
   },
   "outputs": [],
   "source": [
    "fig, ax = plt.subplots()\n",
    "ax.plot(x, v_desired, 'k')\n",
    "ax.plot(x, v_set, 'b')"
   ]
  },
  {
   "cell_type": "markdown",
   "id": "8975cbc2-3bff-46ae-81c4-89489a106a66",
   "metadata": {},
   "source": [
    "## Ignore the stuff below\n",
    "This is taking measurement on the real hoverboard and printing results"
   ]
  },
  {
   "cell_type": "code",
   "execution_count": 7,
   "id": "80b9723f-b0d5-4698-aa27-089a13437fbf",
   "metadata": {
    "tags": []
   },
   "outputs": [],
   "source": [
    "arr = np.loadtxt('test-firmware_v2.log')"
   ]
  },
  {
   "cell_type": "code",
   "execution_count": 8,
   "id": "80bceb0d-5c9c-4dcc-8eac-2d049f3cabd6",
   "metadata": {
    "tags": []
   },
   "outputs": [
    {
     "name": "stdout",
     "output_type": "stream",
     "text": [
      "Reading too slow\n"
     ]
    }
   ],
   "source": [
    "for i in range(1, len(arr)):\n",
    "    if arr[i][3] == arr[i-1][3] + 1:\n",
    "        next\n",
    "    if arr[i][3] == arr[i-1][3]:\n",
    "        print(\"Reading too fast\")\n",
    "    if arr[i][3] > arr[i-1][3] + 1:\n",
    "        print(\"Reading too slow\")"
   ]
  },
  {
   "cell_type": "code",
   "execution_count": 9,
   "id": "fd176a45-71f6-4d56-8b4a-a7e18b361819",
   "metadata": {
    "tags": []
   },
   "outputs": [],
   "source": [
    "#dt = 1/10\n",
    "#t_max = 7\n",
    "#x = np.arange(0, t_max, dt)\n",
    "#v_desired = np.zeros_like(x)\n",
    "#v_measured = np.zeros_like(x)\n",
    "#encM = np.zeros_like(x)\n",
    "#for i in range(len(arr)):\n",
    "#    v_desired[i] = arr[i][4]\n",
    "#    encM[i] = arr[i][6] - arr[0][6] + 100\n",
    "#    v_measured[i] = arr[i][8]"
   ]
  },
  {
   "cell_type": "code",
   "execution_count": 10,
   "id": "8d1c047d-b611-4260-95fb-809ebb50637f",
   "metadata": {
    "tags": []
   },
   "outputs": [],
   "source": [
    "#fig, ax = plt.subplots()\n",
    "#ax.set_title(\"Kp: %.1f Ki: %.1f Kd: %.1f\" % (arr[0][0]/100, arr[0][1]/100, arr[0][2]/100))\n",
    "#ax.plot(x[:-1], v_desired[:-1], 'k')\n",
    "#ax.plot(x[:-1], v_measured[:-1], 'b')\n",
    "#ax.plot(x[:-1], encM[:-1], 'r')"
   ]
  }
 ],
 "metadata": {
  "kernelspec": {
   "display_name": "local-venv",
   "language": "python",
   "name": "local-venv"
  },
  "language_info": {
   "codemirror_mode": {
    "name": "ipython",
    "version": 3
   },
   "file_extension": ".py",
   "mimetype": "text/x-python",
   "name": "python",
   "nbconvert_exporter": "python",
   "pygments_lexer": "ipython3",
   "version": "3.10.6"
  }
 },
 "nbformat": 4,
 "nbformat_minor": 5
}
