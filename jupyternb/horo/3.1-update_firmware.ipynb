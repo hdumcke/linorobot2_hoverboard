{
 "cells": [
  {
   "cell_type": "markdown",
   "id": "45991c29-fdf8-45cd-968c-a30415239877",
   "metadata": {},
   "source": [
    "## Hoverboard Controller Update\n",
    "\n",
    "We have updated the firmware, the new firmare includes a PID controller.\n",
    "\n",
    "The hoverboard firmware expects a value between -2000 to 2000 to set the speed of a wheel. Values between -49 and 49 are now accepted.\n",
    "\n",
    "We can set the PID parameters through the API, the values are integer values\n",
    "\n",
    "The C code for the PID controller is as follows:\n",
    "\n",
    "```C\n",
    "float last_error = 0;\n",
    "float Kp = -1; // Proportial\n",
    "float Ki = -1; // Integral\n",
    "float Kd = -1; // Differential\n",
    "float Iterm = 0; // Remember Integral of error\n",
    "const float windup_guard = 1000;\n",
    "\n",
    "int16_t updatePID(const float desired_val, const float measured_val, const float dt)\n",
    "{\n",
    "        float error;\n",
    "        float delta_error;\n",
    "        float Dterm;\n",
    "\n",
    "        if (Kp == -1 || Ki == -1 || Kp == -1)\n",
    "        {\n",
    "                // PID values not initialized\n",
    "                return 0;\n",
    "        }\n",
    "        error = desired_val - measured_val;\n",
    "        delta_error = error - last_error;\n",
    "        Iterm += error * dt;\n",
    "\n",
    "        // Prevent I from getting too large\n",
    "        if (Iterm < - windup_guard)\n",
    "        {\n",
    "                Iterm = - windup_guard;\n",
    "        }\n",
    "        else if (Iterm > windup_guard)\n",
    "        {\n",
    "                Iterm = windup_guard;\n",
    "        }\n",
    "        Dterm = 0;\n",
    "        if (dt > 0)\n",
    "        {\n",
    "                Dterm = delta_error / dt;\n",
    "        }\n",
    "        // Remember stuff for next calculation\n",
    "        last_error = error;\n",
    "        // Compute actual PWM output\n",
    "        return (int16_t) (Kp*error + Ki*Iterm + Kd*Dterm);\n",
    "}\n",
    "```\n",
    "\n",
    "And it is called in bldc.c after the speed is calculated:\n",
    "\n",
    "```C\n",
    "    if(loopCounter < 16000 && inc == 0) // Number of loops with no increment gives time\n",
    "    {\n",
    "        loopCounter++;\n",
    "    }\n",
    "    else\n",
    "    {\n",
    "        if (inc != last_inc)\n",
    "        {\n",
    "            last_inc = inc;\n",
    "            // Wait for direction to be determined in next loop\n",
    "        }\n",
    "        else\n",
    "        {\n",
    "            // Set and calculate velocity\n",
    "            // Update realSpeed and PWM\n",
    "            realSpeed = (float)inc * 16000.0 / (float)loopCounter; // Ticks per Second\n",
    "            #ifdef MASTER\n",
    "            SetPWM(updatePID((float)speedM, realSpeed, (float)loopCounter / 16000.0));\n",
    "            #endif\n",
    "            #ifdef SLAVE\n",
    "            SetPWM(updatePID((float)desiredSpeedSlave, realSpeed, (float)loopCounter / 16000.0));\n",
    "            #endif\n",
    "            loopCounter = 0;\n",
    "        }\n",
    "    }\n",
    "```    \n",
    "    \n",
    "\n",
    "We will rewite the code in Python"
   ]
  },
  {
   "cell_type": "code",
   "execution_count": 2,
   "id": "51f40dd2-3f1e-4b21-8d73-aea9d334e871",
   "metadata": {
    "tags": []
   },
   "outputs": [],
   "source": [
    "class PID(object):\n",
    "    def __init__(self): \n",
    "        self.last_error = 0.\n",
    "        self.Kp = -1. # Proportial\n",
    "        self.Ki = -1. # Integral\n",
    "        self.Kd = -1. # Differential\n",
    "        self.Iterm = 0. # Remember Integral of error\n",
    "        self.windup_guard = 1000.\n",
    "        self.Iterm = 0.\n",
    "\n",
    "    def updatePID(self, desired_val, measured_val, dt):\n",
    "        if (self.Kp == -1 or self.Ki == -1 or self.Kp == -1):\n",
    "            # PID values not initialized\n",
    "            return 0\n",
    "            \n",
    "        error = desired_val - measured_val\n",
    "        delta_error = error - self.last_error\n",
    "        self.Iterm += error * dt\n",
    "\n",
    "        # Prevent I from getting too large\n",
    "        if (self.Iterm < - self.windup_guard):\n",
    "            self.Iterm = - self.windup_guard\n",
    "        else:\n",
    "            if (self.Iterm > self.windup_guard):\n",
    "                self.Iterm = self.windup_guard\n",
    "            \n",
    "        Dterm = 0\n",
    "        if (dt > 0):\n",
    "            Dterm = delta_error / dt\n",
    "        \n",
    "        # Remember stuff for next calculation\n",
    "        self.last_error = error;\n",
    "        # Compute actual PWM output\n",
    "        return self.Kp*error + self.Ki*self.Iterm + self.Kd*Dterm"
   ]
  },
  {
   "cell_type": "markdown",
   "id": "903eae67-7e07-4e2a-93c1-968de15881c1",
   "metadata": {},
   "source": [
    "We simulate the hoverboard\n",
    "\n",
    "We calculate the real speed based on a limited acceleration\n",
    "\n",
    "We also have to deal with a variable dt (work in progress)"
   ]
  },
  {
   "cell_type": "code",
   "execution_count": 3,
   "id": "0e93e90c-5442-437f-8882-def7c19a372d",
   "metadata": {
    "tags": []
   },
   "outputs": [],
   "source": [
    "import random\n",
    "class Hoverboard(object):\n",
    "    def __init__(self, dt, acc_limit=100.0, noise=False):\n",
    "        self.last_speed = 0\n",
    "        self.noise = noise\n",
    "        self.dt = dt\n",
    "        self.acc_limit = acc_limit\n",
    "        self.vel_limit = 1000\n",
    "\n",
    "    def get_speed(self, desired_speed):\n",
    "        acc = (desired_speed - self.last_speed) / self.dt\n",
    "        acc = max(acc, -self.acc_limit)\n",
    "        acc = min(acc, self.acc_limit)\n",
    "        speed = self.last_speed + acc * dt\n",
    "        if self.noise:\n",
    "            if bool(random.getrandbits(1)):\n",
    "                speed += 0.025 * pos * random.random()\n",
    "            else:\n",
    "                speed -= 0.025 * pos * random.random()\n",
    "        speed = max(speed, -self.vel_limit)\n",
    "        speed = min(speed, self.vel_limit)\n",
    "        self.last_speed = speed\n",
    "        ### work in progress\n",
    "        ### calculate dt as a function of speed\n",
    "        #self.dt = (abs(speed) - 50) + 2\n",
    "        #self.dt = self.dt / 16000\n",
    "        return speed, self.dt"
   ]
  },
  {
   "cell_type": "code",
   "execution_count": 4,
   "id": "049da108-d033-4f49-bce2-10f831f6ae4b",
   "metadata": {
    "tags": []
   },
   "outputs": [],
   "source": [
    "import numpy as np\n",
    "import matplotlib.pyplot as plt\n",
    "%matplotlib widget"
   ]
  },
  {
   "cell_type": "code",
   "execution_count": 5,
   "id": "6c459e1f-32de-4bae-aae1-d82e3d1ef07f",
   "metadata": {
    "tags": []
   },
   "outputs": [],
   "source": [
    "dt = 1/16000\n",
    "t_max = 7\n",
    "x = np.arange(0, t_max, dt)\n",
    "\n",
    "v_desired = np.zeros_like(x)\n",
    "v_desired[16000:16000*5] = 100.0"
   ]
  },
  {
   "cell_type": "code",
   "execution_count": 44,
   "id": "5bd65077-94ea-45b8-9678-20d4bed019a4",
   "metadata": {
    "tags": []
   },
   "outputs": [],
   "source": [
    "hb = Hoverboard(1/16000, acc_limit=100.)\n",
    "pid = PID()\n",
    "pid.Kp = 0.5 # Proportial\n",
    "pid.Ki = 0.0 # Integral\n",
    "pid.Kd = 0.0 # Differential\n",
    "pid.last_error = 0.\n",
    "v_set = np.zeros_like(x)\n",
    "for i in range(1, len(v_desired)):\n",
    "    v_set[i], dt = hb.get_speed(v_desired[i-1])\n",
    "    v_set[i] = pid.updatePID(v_desired[i-1], v_set[i], dt)"
   ]
  },
  {
   "cell_type": "code",
   "execution_count": 45,
   "id": "112e1d93-a3cc-4c59-9338-4babe67ec3e8",
   "metadata": {
    "tags": []
   },
   "outputs": [
    {
     "data": {
      "text/plain": [
       "[<matplotlib.lines.Line2D at 0x10e8b4640>]"
      ]
     },
     "execution_count": 45,
     "metadata": {},
     "output_type": "execute_result"
    },
    {
     "data": {
      "application/vnd.jupyter.widget-view+json": {
       "model_id": "0e65c1d54ef64b07b2490742b98e904d",
       "version_major": 2,
       "version_minor": 0
      },
      "image/png": "[encoded data removed]",
      "text/html": [
       "\n",
       "            <div style=\"display: inline-block;\">\n",
       "                <div class=\"jupyter-widgets widget-label\" style=\"text-align: center;\">\n",
       "                    Figure\n",
       "                </div>\n",
       "                <img src='data:image/png;base64,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' width=640.0/>\n",
       "            </div>\n",
       "        "
      ],
      "text/plain": [
       "Canvas(toolbar=Toolbar(toolitems=[('Home', 'Reset original view', 'home', 'home'), ('Back', 'Back to previous …"
      ]
     },
     "metadata": {},
     "output_type": "display_data"
    }
   ],
   "source": [
    "fig, ax = plt.subplots()\n",
    "ax.plot(x, v_desired, 'k')\n",
    "ax.plot(x, v_set, 'b')"
   ]
  },
  {
   "cell_type": "markdown",
   "id": "8975cbc2-3bff-46ae-81c4-89489a106a66",
   "metadata": {},
   "source": [
    "## Ignore the stuff below\n",
    "This is taking measurement on the real hoverboard and printing results"
   ]
  },
  {
   "cell_type": "code",
   "execution_count": 8,
   "id": "80b9723f-b0d5-4698-aa27-089a13437fbf",
   "metadata": {
    "tags": []
   },
   "outputs": [],
   "source": [
    "arr = np.loadtxt('test-firmware_v2.log')"
   ]
  },
  {
   "cell_type": "code",
   "execution_count": 9,
   "id": "80bceb0d-5c9c-4dcc-8eac-2d049f3cabd6",
   "metadata": {
    "tags": []
   },
   "outputs": [
    {
     "name": "stdout",
     "output_type": "stream",
     "text": [
      "Reading too slow\n"
     ]
    }
   ],
   "source": [
    "for i in range(1, len(arr)):\n",
    "    if arr[i][3] == arr[i-1][3] + 1:\n",
    "        next\n",
    "    if arr[i][3] == arr[i-1][3]:\n",
    "        print(\"Reading too fast\")\n",
    "    if arr[i][3] > arr[i-1][3] + 1:\n",
    "        print(\"Reading too slow\")"
   ]
  },
  {
   "cell_type": "code",
   "execution_count": 10,
   "id": "fd176a45-71f6-4d56-8b4a-a7e18b361819",
   "metadata": {
    "tags": []
   },
   "outputs": [],
   "source": [
    "#dt = 1/10\n",
    "#t_max = 7\n",
    "#x = np.arange(0, t_max, dt)\n",
    "#v_desired = np.zeros_like(x)\n",
    "#v_measured = np.zeros_like(x)\n",
    "#encM = np.zeros_like(x)\n",
    "#for i in range(len(arr)):\n",
    "#    v_desired[i] = arr[i][4]\n",
    "#    encM[i] = arr[i][6] - arr[0][6] + 100\n",
    "#    v_measured[i] = arr[i][8]"
   ]
  },
  {
   "cell_type": "code",
   "execution_count": 11,
   "id": "8d1c047d-b611-4260-95fb-809ebb50637f",
   "metadata": {
    "tags": []
   },
   "outputs": [],
   "source": [
    "#fig, ax = plt.subplots()\n",
    "#ax.set_title(\"Kp: %.1f Ki: %.1f Kd: %.1f\" % (arr[0][0]/100, arr[0][1]/100, arr[0][2]/100))\n",
    "#ax.plot(x[:-1], v_desired[:-1], 'k')\n",
    "#ax.plot(x[:-1], v_measured[:-1], 'b')\n",
    "#ax.plot(x[:-1], encM[:-1], 'r')"
   ]
  }
 ],
 "metadata": {
  "kernelspec": {
   "display_name": "local-venv",
   "language": "python",
   "name": "local-venv"
  },
  "language_info": {
   "codemirror_mode": {
    "name": "ipython",
    "version": 3
   },
   "file_extension": ".py",
   "mimetype": "text/x-python",
   "name": "python",
   "nbconvert_exporter": "python",
   "pygments_lexer": "ipython3",
   "version": "3.10.6"
  }
 },
 "nbformat": 4,
 "nbformat_minor": 5
}
