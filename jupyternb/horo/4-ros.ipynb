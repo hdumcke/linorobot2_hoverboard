{
 "cells": [
  {
   "cell_type": "markdown",
   "id": "203598bf-9b3e-4eb5-ac8d-ee6b16b20f24",
   "metadata": {},
   "source": [
    "## Creating a package\n",
    "\n",
    "We have to create this package in a ontext where ROS2 is installed (TODO: build a VM for this notebook)\n",
    "\n",
    "First we create a workspace, then we generate a ROS2 package with a node in Python.\n",
    "\n",
    "Later we modify the generated Python code to subscribe do /cmd_vel and to publish to /odom"
   ]
  },
  {
   "cell_type": "code",
   "execution_count": 1,
   "id": "17d9f7af-a4d8-43af-8730-602552891d8a",
   "metadata": {},
   "outputs": [],
   "source": [
    "#!mkdir -p ros2_ws/src\n",
    "#!cd ros2_ws/src\n",
    "#ros2 pkg create --build-type ament_python --node-name horo_controller horo_controller"
   ]
  },
  {
   "cell_type": "markdown",
   "id": "9e1399fc-fe8b-4fea-babd-b470a4d8c158",
   "metadata": {},
   "source": [
    "Inspect the content of ./horo_controller/horo_controller/horo_controller.py\n",
    "\n",
    "This is regular Python code and when executed will print 'Hi from horo_controller.'\n",
    "\n",
    "However this code does not use any ROS2 function. To be able to use ROS2 functions we must setup our environment."
   ]
  },
  {
   "cell_type": "code",
   "execution_count": 2,
   "id": "bfe3f54f-9c49-4d01-a8ec-1828bda54e36",
   "metadata": {
    "tags": []
   },
   "outputs": [],
   "source": [
    "#!cd ..\n",
    "#!colcon build --symlink-install\n",
    "#!source install/setup.bash "
   ]
  },
  {
   "cell_type": "markdown",
   "id": "ce4eba05-e6eb-4df1-b889-e26242a95e06",
   "metadata": {},
   "source": [
    "Note the additional directories that have been created. We already used the install directory to source our ROS2 environment\n",
    "and you can inspect the log files in the log directory and the build environment contains our executable code.\n",
    "\n",
    "We can now run the code from the ROS2 environment:"
   ]
  },
  {
   "cell_type": "code",
   "execution_count": 3,
   "id": "d885b326-74e0-4f05-8910-2c2f0fdb50a7",
   "metadata": {},
   "outputs": [],
   "source": [
    "#!ros2 run horo_controller horo_controller"
   ]
  },
  {
   "cell_type": "markdown",
   "id": "a2dd1c54-ecc9-4df8-95a3-b16f29f32f80",
   "metadata": {},
   "source": [
    "Sourcing /opt/ros/humble/setup.bash also modifies your python search path for libraries. For this reson you can also call the python code directly but it will not work if you are running python in a virtual environment"
   ]
  },
  {
   "cell_type": "code",
   "execution_count": 4,
   "id": "c38f5522-1507-47d6-b762-314e84609dc9",
   "metadata": {
    "tags": []
   },
   "outputs": [
    {
     "data": {
      "text/plain": [
       "['/Users/hdumcke/git/linorobot2_hoverboard/jupyternb/horo',\n",
       " '/usr/local/Cellar/python@3.10/3.10.6_1/Frameworks/Python.framework/Versions/3.10/lib/python310.zip',\n",
       " '/usr/local/Cellar/python@3.10/3.10.6_1/Frameworks/Python.framework/Versions/3.10/lib/python3.10',\n",
       " '/usr/local/Cellar/python@3.10/3.10.6_1/Frameworks/Python.framework/Versions/3.10/lib/python3.10/lib-dynload',\n",
       " '',\n",
       " '/Users/hdumcke/.virtualenvs/linorobot2_hoverboard/lib/python3.10/site-packages']"
      ]
     },
     "execution_count": 4,
     "metadata": {},
     "output_type": "execute_result"
    }
   ],
   "source": [
    "import sys\n",
    "sys.path"
   ]
  },
  {
   "cell_type": "markdown",
   "id": "866cc7ef-8af5-4dce-8498-67b66ad38fb5",
   "metadata": {
    "tags": []
   },
   "source": [
    "### Subscribe and Publish to Topics\n",
    "\n",
    "We add some code to subscribe to the topic cmd_vel and to publish some dummy data to odom\n",
    "\n",
    "The example code is in horo_controller_simple.py\n",
    "\n",
    "From the shell run:\n",
    "\n",
    "   python horo_controller-simple.py\n",
    "   \n",
    "Open a new terminat and run\n",
    "\n",
    "   ros2 topic pub /cmd_vel geometry_msgs/msg/Twist \"{linear: {x: 0.1, y: 0.0, z: 0.0}, angular: {x: 0.0, y: 0.0, z: 1.0}}\"\n",
    "   \n",
    "Open yet an other terminal and run\n",
    "\n",
    "   ros2 topic echo /odom"
   ]
  },
  {
   "cell_type": "markdown",
   "id": "b385b8a3-7556-4202-8f95-88f0eb46613c",
   "metadata": {},
   "source": [
    "### Integrate with the Hoverboard\n",
    "\n",
    "As a final step for now we integrate with the hoverboard, the code is in horo_controller.py but also installed as a ros package"
   ]
  }
 ],
 "metadata": {
  "kernelspec": {
   "display_name": "local-venv",
   "language": "python",
   "name": "local-venv"
  },
  "language_info": {
   "codemirror_mode": {
    "name": "ipython",
    "version": 3
   },
   "file_extension": ".py",
   "mimetype": "text/x-python",
   "name": "python",
   "nbconvert_exporter": "python",
   "pygments_lexer": "ipython3",
   "version": "3.10.6"
  }
 },
 "nbformat": 4,
 "nbformat_minor": 5
}
