{
 "cells": [
  {
   "cell_type": "markdown",
   "metadata": {
    "deletable": true,
    "editable": true
   },
   "source": [
    "# Differential Drive Robotics Platform"
   ]
  },
  {
   "cell_type": "markdown",
   "metadata": {
    "deletable": true,
    "editable": true
   },
   "source": [
    "## Problem Setup\n",
    "\n",
    "A common robot platform is that of the [differential drive](http://en.wikipedia.org/wiki/Differential_wheeled_robot). The robot is propelled using two wheels, each with their own motor. Usually a caster is used as a third wheel to provide stability. By varying the speeds of the two motors, the robot can change direction.\n",
    "\n",
    "Differential drive platforms are highly maneuverable, as they have a very small turn radius. They are also extremely simple to design. In this example, the dynamics of a differential drive platform will be explored. The resulting model is highly accurate, but makes a few assumptions:\n",
    "\n",
    "**Assumptions**\n",
    "\n",
    "- Wheels roll without slipping\n",
    "- Body is symmetric\n",
    "\n",
    "**The setup is as follows:**"
   ]
  },
  {
   "cell_type": "code",
   "execution_count": 1,
   "metadata": {
    "collapsed": false,
    "deletable": true,
    "editable": true,
    "jupyter": {
     "outputs_hidden": false
    }
   },
   "outputs": [
    {
     "data": {
      "image/svg+xml": [
       "<svg xmlns:dc=\"http://purl.org/dc/elements/1.1/\" xmlns:cc=\"http://creativecommons.org/ns#\" xmlns:rdf=\"http://www.w3.org/1999/02/22-rdf-syntax-ns#\" xmlns:svg=\"http://www.w3.org/2000/svg\" xmlns=\"http://www.w3.org/2000/svg\" xmlns:sodipodi=\"http://sodipodi.sourceforge.net/DTD/sodipodi-0.dtd\" xmlns:inkscape=\"http://www.inkscape.org/namespaces/inkscape\" width=\"830.74847\" height=\"334.84042\" id=\"svg2985\" version=\"1.1\" inkscape:version=\"0.48.3.1 r9886\" sodipodi:docname=\"Robot.svg\">\n",
       "  <sodipodi:namedview inkscape:document-units=\"mm\" pagecolor=\"#ffffff\" bordercolor=\"#666666\" borderopacity=\"1.0\" inkscape:pageopacity=\"0.0\" inkscape:pageshadow=\"2\" inkscape:zoom=\"0.8683167\" inkscape:cx=\"238.25443\" inkscape:cy=\"391.65337\" inkscape:current-layer=\"layer1\" id=\"namedview2989\" showgrid=\"false\" inkscape:window-width=\"1366\" inkscape:window-height=\"699\" inkscape:window-x=\"0\" inkscape:window-y=\"22\" inkscape:window-maximized=\"1\" units=\"mm\" fit-margin-top=\"4\" fit-margin-left=\"4\" fit-margin-right=\"4\" fit-margin-bottom=\"4\"/>\n",
       "  <defs id=\"defs2987\">\n",
       "    <marker inkscape:stockid=\"Arrow1Mend\" orient=\"auto\" refY=\"0\" refX=\"0\" id=\"Arrow1Mend\" style=\"overflow:visible\">\n",
       "      <path id=\"path6861\" d=\"M 0,0 5,-5 -12.5,0 5,5 0,0 z\" style=\"fill-rule:evenodd;stroke:#000000;stroke-width:1pt\" transform=\"matrix(-0.4,0,0,-0.4,-4,0)\" inkscape:connector-curvature=\"0\"/>\n",
       "    </marker>\n",
       "    <marker style=\"overflow:visible\" id=\"Arrow1Lend\" refX=\"0\" refY=\"0\" orient=\"auto\" inkscape:stockid=\"Arrow1Lend\">\n",
       "      <path transform=\"matrix(-0.8,0,0,-0.8,-10,0)\" style=\"fill-rule:evenodd;stroke:#000000;stroke-width:1pt\" d=\"M 0,0 5,-5 -12.5,0 5,5 0,0 z\" id=\"path3947\" inkscape:connector-curvature=\"0\"/>\n",
       "    </marker>\n",
       "    <marker style=\"overflow:visible\" id=\"Arrow1Mstart\" refX=\"0\" refY=\"0\" orient=\"auto\" inkscape:stockid=\"Arrow1Mstart\">\n",
       "      <path transform=\"matrix(0.4,0,0,0.4,4,0)\" style=\"fill-rule:evenodd;stroke:#000000;stroke-width:1pt\" d=\"M 0,0 5,-5 -12.5,0 5,5 0,0 z\" id=\"path3950\" inkscape:connector-curvature=\"0\"/>\n",
       "    </marker>\n",
       "    <marker style=\"overflow:visible\" id=\"Arrow2Mstart\" refX=\"0\" refY=\"0\" orient=\"auto\" inkscape:stockid=\"Arrow2Mstart\">\n",
       "      <path transform=\"scale(0.6,0.6)\" d=\"M 8.7185878,4.0337352 -2.2072895,0.01601326 8.7185884,-4.0017078 c -1.7454984,2.3720609 -1.7354408,5.6174519 -6e-7,8.035443 z\" style=\"fill-rule:evenodd;stroke-width:0.625;stroke-linejoin:round\" id=\"path3968\" inkscape:connector-curvature=\"0\"/>\n",
       "    </marker>\n",
       "    <marker style=\"overflow:visible\" id=\"Arrow2Lend\" refX=\"0\" refY=\"0\" orient=\"auto\" inkscape:stockid=\"Arrow2Lend\">\n",
       "      <path transform=\"matrix(-1.1,0,0,-1.1,-1.1,0)\" d=\"M 8.7185878,4.0337352 -2.2072895,0.01601326 8.7185884,-4.0017078 c -1.7454984,2.3720609 -1.7354408,5.6174519 -6e-7,8.035443 z\" style=\"fill-rule:evenodd;stroke-width:0.625;stroke-linejoin:round\" id=\"path3965\" inkscape:connector-curvature=\"0\"/>\n",
       "    </marker>\n",
       "    <marker style=\"overflow:visible\" id=\"Arrow2Lstart\" refX=\"0\" refY=\"0\" orient=\"auto\" inkscape:stockid=\"Arrow2Lstart\">\n",
       "      <path transform=\"matrix(1.1,0,0,1.1,1.1,0)\" d=\"M 8.7185878,4.0337352 -2.2072895,0.01601326 8.7185884,-4.0017078 c -1.7454984,2.3720609 -1.7354408,5.6174519 -6e-7,8.035443 z\" style=\"fill-rule:evenodd;stroke-width:0.625;stroke-linejoin:round\" id=\"path3962\" inkscape:connector-curvature=\"0\"/>\n",
       "    </marker>\n",
       "    <marker style=\"overflow:visible\" id=\"Arrow1Lstart\" refX=\"0\" refY=\"0\" orient=\"auto\" inkscape:stockid=\"Arrow1Lstart\">\n",
       "      <path transform=\"matrix(0.8,0,0,0.8,10,0)\" style=\"fill-rule:evenodd;stroke:#000000;stroke-width:1pt\" d=\"M 0,0 5,-5 -12.5,0 5,5 0,0 z\" id=\"path3944\" inkscape:connector-curvature=\"0\"/>\n",
       "    </marker>\n",
       "    <marker style=\"overflow:visible\" id=\"Arrow2Lstart-9\" refX=\"0\" refY=\"0\" orient=\"auto\" inkscape:stockid=\"Arrow2Lstart\">\n",
       "      <path transform=\"matrix(1.1,0,0,1.1,1.1,0)\" d=\"M 8.7185878,4.0337352 -2.2072895,0.01601326 8.7185884,-4.0017078 c -1.7454984,2.3720609 -1.7354408,5.6174519 -6e-7,8.035443 z\" style=\"fill-rule:evenodd;stroke-width:0.625;stroke-linejoin:round\" id=\"path3962-7\" inkscape:connector-curvature=\"0\"/>\n",
       "    </marker>\n",
       "    <marker style=\"overflow:visible\" id=\"Arrow2Lstart-93\" refX=\"0\" refY=\"0\" orient=\"auto\" inkscape:stockid=\"Arrow2Lstart\">\n",
       "      <path transform=\"matrix(1.1,0,0,1.1,1.1,0)\" d=\"M 8.7185878,4.0337352 -2.2072895,0.01601326 8.7185884,-4.0017078 c -1.7454984,2.3720609 -1.7354408,5.6174519 -6e-7,8.035443 z\" style=\"fill-rule:evenodd;stroke-width:0.625;stroke-linejoin:round\" id=\"path3962-1\" inkscape:connector-curvature=\"0\"/>\n",
       "    </marker>\n",
       "    <marker style=\"overflow:visible\" id=\"Arrow1Lend3\" refX=\"0\" refY=\"0\" orient=\"auto\" inkscape:stockid=\"Arrow1Lend3\">\n",
       "      <path transform=\"matrix(-0.8,0,0,-0.8,-10,0)\" style=\"fill:#008000;fill-rule:evenodd;stroke:#008000;stroke-width:1pt\" d=\"M 0,0 5,-5 -12.5,0 5,5 0,0 z\" id=\"path6018\" inkscape:connector-curvature=\"0\"/>\n",
       "    </marker>\n",
       "    <marker style=\"overflow:visible\" id=\"Arrow2Lstart-0\" refX=\"0\" refY=\"0\" orient=\"auto\" inkscape:stockid=\"Arrow2Lstart\">\n",
       "      <path inkscape:connector-curvature=\"0\" transform=\"matrix(1.1,0,0,1.1,1.1,0)\" d=\"M 8.7185878,4.0337352 -2.2072895,0.01601326 8.7185884,-4.0017078 c -1.7454984,2.3720609 -1.7354408,5.6174519 -6e-7,8.035443 z\" style=\"fill-rule:evenodd;stroke-width:0.625;stroke-linejoin:round\" id=\"path3962-2\"/>\n",
       "    </marker>\n",
       "    <marker style=\"overflow:visible\" id=\"marker3091\" refX=\"0\" refY=\"0\" orient=\"auto\" inkscape:stockid=\"Arrow2Lstart\">\n",
       "      <path inkscape:connector-curvature=\"0\" transform=\"matrix(1.1,0,0,1.1,1.1,0)\" d=\"M 8.7185878,4.0337352 -2.2072895,0.01601326 8.7185884,-4.0017078 c -1.7454984,2.3720609 -1.7354408,5.6174519 -6e-7,8.035443 z\" style=\"fill-rule:evenodd;stroke-width:0.625;stroke-linejoin:round\" id=\"path3093\"/>\n",
       "    </marker>\n",
       "    <marker style=\"overflow:visible\" id=\"Arrow1Mstart-0\" refX=\"0\" refY=\"0\" orient=\"auto\" inkscape:stockid=\"Arrow1Mstart\">\n",
       "      <path inkscape:connector-curvature=\"0\" transform=\"matrix(0.4,0,0,0.4,4,0)\" style=\"fill-rule:evenodd;stroke:#000000;stroke-width:1pt\" d=\"M 0,0 5,-5 -12.5,0 5,5 0,0 z\" id=\"path3950-4\"/>\n",
       "    </marker>\n",
       "    <marker style=\"overflow:visible\" id=\"Arrow1Lend3-5\" refX=\"0\" refY=\"0\" orient=\"auto\" inkscape:stockid=\"Arrow1Lend3\">\n",
       "      <path inkscape:connector-curvature=\"0\" transform=\"matrix(-0.8,0,0,-0.8,-10,0)\" style=\"fill:#008000;fill-rule:evenodd;stroke:#008000;stroke-width:1pt\" d=\"M 0,0 5,-5 -12.5,0 5,5 0,0 z\" id=\"path6018-5\"/>\n",
       "    </marker>\n",
       "    <marker style=\"overflow:visible\" id=\"Arrow1Lend3-2\" refX=\"0\" refY=\"0\" orient=\"auto\" inkscape:stockid=\"Arrow1Lend3\">\n",
       "      <path inkscape:connector-curvature=\"0\" transform=\"matrix(-0.8,0,0,-0.8,-10,0)\" style=\"fill:#008000;fill-rule:evenodd;stroke:#008000;stroke-width:1pt\" d=\"M 0,0 5,-5 -12.5,0 5,5 0,0 z\" id=\"path6018-0\"/>\n",
       "    </marker>\n",
       "  </defs>\n",
       "  <metadata id=\"metadata2991\">\n",
       "    <rdf:RDF>\n",
       "      <cc:Work rdf:about=\"\">\n",
       "        <dc:format>image/svg+xml</dc:format>\n",
       "        <dc:type rdf:resource=\"http://purl.org/dc/dcmitype/StillImage\"/>\n",
       "        <dc:title/>\n",
       "      </cc:Work>\n",
       "    </rdf:RDF>\n",
       "  </metadata>\n",
       "  <g id=\"layer1\" inkscape:groupmode=\"layer\" inkscape:label=\"Layer 1\" transform=\"translate(-105.83124,-208.02101)\">\n",
       "    <text sodipodi:linespacing=\"125%\" id=\"text4633\" y=\"469.66122\" x=\"228.83009\" style=\"font-size:40px;font-style:normal;font-weight:normal;line-height:125%;letter-spacing:0px;word-spacing:0px;fill:#000000;fill-opacity:1;stroke:none;font-family:Sans\" xml:space=\"preserve\"><tspan y=\"469.66122\" x=\"228.83009\" id=\"tspan4635\" sodipodi:role=\"line\"/></text>\n",
       "    <path inkscape:connector-curvature=\"0\" id=\"path3002\" d=\"m 446.06042,264.54267 c -1.53626,16.15593 -3.07252,32.31185 -4.60877,48.46778 -13.22332,-22.90345 -26.44663,-45.80691 -39.66994,-68.71035 14.75957,6.74754 29.51914,13.49504 44.27871,20.24257 z m -134.07579,31.38245 c 29.90069,-17.26318 59.80139,-34.52636 89.7021,-51.78953 13.28662,23.01312 26.57327,46.02626 39.8599,69.03938 -29.90071,17.26318 -59.80141,34.52635 -89.7021,51.78953 -13.28663,-23.01313 -26.57327,-46.02626 -39.8599,-69.03938 z\" style=\"fill:#007fff;fill-opacity:1;fill-rule:evenodd;stroke:none\"/>\n",
       "    <path inkscape:connector-curvature=\"0\" id=\"path3799-8\" d=\"M 327.61989,332.77901 C 446.35082,264.22967 446.62282,264.07263 446.62282,264.07263\" style=\"fill:none;stroke:#000000;stroke-width:0.53514546;stroke-linecap:butt;stroke-linejoin:miter;stroke-miterlimit:4;stroke-opacity:1;stroke-dasharray:6.42174526, 0.53514543;stroke-dashoffset:0\"/>\n",
       "    <rect transform=\"matrix(0.8660254,-0.50000001,0.50000001,0.8660254,0,0)\" y=\"391.53778\" x=\"131.77338\" height=\"18.038532\" width=\"36.077057\" id=\"rect3779\" style=\"fill:#aa4400;stroke:none\"/>\n",
       "    <g id=\"g6939\">\n",
       "      <path style=\"font-size:medium;font-style:normal;font-variant:normal;font-weight:normal;font-stretch:normal;text-indent:0;text-align:start;text-decoration:none;line-height:normal;letter-spacing:normal;word-spacing:normal;text-transform:none;direction:ltr;block-progression:tb;writing-mode:lr-tb;text-anchor:start;baseline-shift:baseline;color:#000000;fill:#008000;fill-opacity:1;fill-rule:nonzero;stroke:none;stroke-width:1.41732287;marker:none;visibility:visible;display:inline;overflow:visible;enable-background:accumulate;font-family:Sans;-inkscape-font-specification:Sans\" d=\"m 340.59375,329.71875 0.96875,1 6.09375,-5.9375 -1,-1.03125 z m -12.15625,11.90625 1,1 6.0625,-5.9375 -1,-1.03125 z m -12.15625,11.90625 1,1 6.0625,-5.9375 -1,-1.03125 z m -12.15625,11.875 1,1.03125 6.0625,-5.96875 -0.96875,-1 z m -12.15625,11.90625 1,1.03125 6.09375,-5.96875 -1,-1 z m -12.125,11.90625 0.96875,1.03125 6.09375,-5.96875 -1,-1 z m -12.15625,11.90625 1,1 6.0625,-5.9375 -1,-1 z m -12.15625,11.90625 1,1 6.0625,-5.9375 -0.96875,-1.03125 z m -12.15625,11.90625 1,1 6.0625,-5.9375 -0.96875,-1.03125 z m -12.125,11.90625 0.96875,1 6.09375,-5.9375 -1,-1.03125 z m -12.15625,11.90625 1,1 6.0625,-5.96875 -1,-1 z m -12.15625,11.875 1,1.03125 6.0625,-5.96875 -1,-1 z m -12.15625,11.90625 1,1.03125 6.0625,-5.96875 -0.96875,-1 z m -12.15625,11.90625 1,1.03125 6.09375,-5.96875 -1,-1 z m -12.125,11.90625 0.96875,1 6.09375,-5.9375 -1,-1 z m -12.15625,11.90625 1,1 6.0625,-5.9375 -1,-1.03125 z m -12.15625,11.90625 1,1 6.0625,-5.9375 -0.96875,-1.03125 z\" id=\"path5605\" inkscape:connector-curvature=\"0\"/>\n",
       "      <path id=\"path6945\" d=\"m 342.47834,328.84696 -0.0824,8.01717 10.20686,-17.93562 -18.14163,9.83605 8.01717,0.0824 z\" style=\"fill:#008000;fill-rule:evenodd;stroke:#008000;stroke-width:1.1338583pt\" inkscape:connector-curvature=\"0\"/>\n",
       "    </g>\n",
       "    <g id=\"g4062\" transform=\"matrix(0.73501461,0,0,0.73501461,14.413444,63.510397)\">\n",
       "      <g style=\"stroke-width:1.65409982;stroke-miterlimit:4;stroke-dasharray:none\" id=\"g4605-5\" transform=\"matrix(0.37102887,-0.21421362,0.21421362,0.37102887,311.71247,156.20929)\">\n",
       "        <path inkscape:connector-curvature=\"0\" id=\"path3938-2\" d=\"m 87.948938,470.91859 c 0,87.1346 0,87.1346 0,87.1346\" style=\"fill:#000000;fill-opacity:1;stroke:#000000;stroke-width:1.65409982;stroke-linecap:butt;stroke-linejoin:miter;stroke-miterlimit:4;stroke-opacity:1;stroke-dasharray:none;marker-start:url(#Arrow2Lstart)\"/>\n",
       "        <path inkscape:connector-curvature=\"0\" id=\"path3938-4-6\" d=\"m 175.63762,557.79673 c -87.1346,0 -87.1346,0 -87.1346,0\" style=\"fill:#000000;fill-opacity:1;stroke:#000000;stroke-width:1.65409982;stroke-linecap:butt;stroke-linejoin:miter;stroke-miterlimit:4;stroke-opacity:1;stroke-dasharray:none;marker-start:url(#Arrow2Lstart)\"/>\n",
       "      </g>\n",
       "      <text transform=\"matrix(0.8660254,-0.5,0.5,0.8660254,0,0)\" xml:space=\"preserve\" style=\"font-size:20px;font-style:normal;font-variant:normal;font-weight:normal;font-stretch:normal;text-align:start;line-height:125%;letter-spacing:0px;word-spacing:0px;writing-mode:lr-tb;text-anchor:start;fill:#000000;fill-opacity:1;stroke:none;font-family:Sans;-inkscape-font-specification:Sans\" x=\"233.69742\" y=\"495.58575\" id=\"text4609-9\" sodipodi:linespacing=\"125%\"><tspan sodipodi:role=\"line\" id=\"tspan4611-4\" x=\"233.69742\" y=\"495.58575\">R<tspan id=\"tspan3171\" style=\"font-size:13.00018311px;baseline-shift:sub\">y</tspan></tspan></text>\n",
       "      <text transform=\"matrix(0.8660254,-0.5,0.5,0.8660254,0,0)\" xml:space=\"preserve\" style=\"font-size:20px;font-style:normal;font-variant:normal;font-weight:normal;font-stretch:normal;text-align:start;line-height:125%;letter-spacing:0px;word-spacing:0px;writing-mode:lr-tb;text-anchor:start;fill:#000000;fill-opacity:1;stroke:none;font-family:Sans;-inkscape-font-specification:Sans\" x=\"259.37842\" y=\"520.45239\" id=\"text4615-1\" sodipodi:linespacing=\"125%\"><tspan y=\"520.45239\" x=\"259.37842\" sodipodi:role=\"line\" id=\"tspan4627-0\">R<tspan id=\"tspan3173\" style=\"font-size:13.00018311px;baseline-shift:sub\">x</tspan></tspan></text>\n",
       "      <text transform=\"matrix(0.8660254,-0.5,0.5,0.8660254,0,0)\" xml:space=\"preserve\" style=\"font-size:20px;font-style:normal;font-variant:normal;font-weight:normal;font-stretch:normal;text-align:start;line-height:125%;letter-spacing:0px;word-spacing:0px;writing-mode:lr-tb;text-anchor:start;fill:#000000;fill-opacity:1;stroke:none;font-family:Sans;-inkscape-font-specification:Sans\" x=\"196.67409\" y=\"521.10706\" id=\"text4621-5\" sodipodi:linespacing=\"125%\"><tspan sodipodi:role=\"line\" id=\"tspan4623-6\" x=\"196.67409\" y=\"521.10706\">R<tspan id=\"tspan3169\" style=\"font-size:13.00018311px;baseline-shift:sub\">z</tspan></tspan></text>\n",
       "      <path sodipodi:type=\"arc\" style=\"fill:none;stroke:#000000;stroke-width:2.51632953;stroke-miterlimit:4;stroke-opacity:1;stroke-dasharray:none;marker-start:url(#Arrow1Mstart);marker-end:none\" id=\"path4641-3\" sodipodi:cx=\"86.320251\" sodipodi:cy=\"411.43576\" sodipodi:rx=\"22.801577\" sodipodi:ry=\"20.76572\" d=\"m 78.934423,431.0819 c -11.914018,-3.71487 -18.26549,-15.52225 -14.186409,-26.37252 4.079081,-10.85026 17.044048,-16.63464 28.958066,-12.91976 6.85231,2.1366 12.18247,7.11093 14.36042,13.40177\" sodipodi:start=\"1.9006636\" sodipodi:end=\"5.9777527\" sodipodi:open=\"true\" transform=\"matrix(0.48778887,-0.28162504,0.28162504,0.48778887,306.0273,164.72779)\"/>\n",
       "    </g>\n",
       "    <rect transform=\"matrix(0.8660254,-0.50000001,0.50000001,0.8660254,0,0)\" y=\"494.18896\" x=\"130.3158\" height=\"18.038532\" width=\"36.077057\" id=\"rect3779-0\" style=\"fill:#aa4400;stroke:none\"/>\n",
       "    <path inkscape:connector-curvature=\"0\" id=\"path3799\" d=\"m 320.55777,257.3898 c 68.54934,118.73093 68.70638,119.00293 68.70638,119.00293\" style=\"fill:none;stroke:#000000;stroke-width:1.04175305;stroke-linecap:butt;stroke-linejoin:miter;stroke-miterlimit:4;stroke-opacity:1;stroke-dasharray:6.25051811, 1.04175302;stroke-dashoffset:0\"/>\n",
       "    <path inkscape:connector-curvature=\"0\" id=\"path3799-8-8-6\" d=\"m 340.18453,384.98209 c 57.43196,-33.15834 57.56353,-33.23431 57.56353,-33.23431\" style=\"fill:none;stroke:#000000;stroke-width:1.04175305;stroke-linecap:butt;stroke-linejoin:miter;stroke-miterlimit:4;stroke-opacity:1;stroke-dasharray:6.25051811, 1.04175302;stroke-dashoffset:0\"/>\n",
       "    <path inkscape:connector-curvature=\"0\" id=\"path3799-8-8\" d=\"m 289.75863,295.42888 c 57.43195,-33.15834 57.56353,-33.23431 57.56353,-33.23431\" style=\"fill:none;stroke:#000000;stroke-width:1.04175305;stroke-linecap:butt;stroke-linejoin:miter;stroke-miterlimit:4;stroke-opacity:1;stroke-dasharray:6.25051811, 1.04175302;stroke-dashoffset:0\"/>\n",
       "    <g id=\"g3064\" transform=\"matrix(0.73501461,0,0,0.73501461,14.413444,63.510397)\" style=\"stroke-width:1.92829204;stroke-miterlimit:4;stroke-dasharray:none\">\n",
       "      <g id=\"g4605\" transform=\"translate(91.206306,65.147361)\" style=\"stroke-width:1.92829204;stroke-miterlimit:4;stroke-dasharray:none\">\n",
       "        <path inkscape:connector-curvature=\"0\" id=\"path3938\" d=\"m 87.948938,470.91859 c 0,87.1346 0,87.1346 0,87.1346\" style=\"fill:#000000;fill-opacity:1;stroke:#000000;stroke-width:1.92829204;stroke-linecap:butt;stroke-linejoin:miter;stroke-miterlimit:4;stroke-opacity:1;stroke-dasharray:none;marker-start:url(#Arrow2Lstart)\"/>\n",
       "        <path inkscape:connector-curvature=\"0\" id=\"path3938-4\" d=\"m 175.63762,557.79673 c -87.1346,0 -87.1346,0 -87.1346,0\" style=\"fill:#000000;fill-opacity:1;stroke:#000000;stroke-width:1.92829204;stroke-linecap:butt;stroke-linejoin:miter;stroke-miterlimit:4;stroke-opacity:1;stroke-dasharray:none;marker-start:url(#Arrow2Lstart)\"/>\n",
       "      </g>\n",
       "      <text xml:space=\"preserve\" style=\"font-size:20px;font-style:normal;font-variant:normal;font-weight:normal;font-stretch:normal;text-align:start;line-height:125%;letter-spacing:0px;word-spacing:0px;writing-mode:lr-tb;text-anchor:start;fill:#000000;fill-opacity:1;stroke:none;font-family:Sans;-inkscape-font-specification:Sans\" x=\"171.82617\" y=\"526.66516\" id=\"text4609\" sodipodi:linespacing=\"125%\"><tspan sodipodi:role=\"line\" id=\"tspan4611\" x=\"171.82617\" y=\"526.66516\">N<tspan style=\"font-size:65.00091553%;baseline-shift:sub\" id=\"tspan4631\">y</tspan></tspan></text>\n",
       "      <text xml:space=\"preserve\" style=\"font-size:20px;font-style:normal;font-variant:normal;font-weight:normal;font-stretch:normal;text-align:start;line-height:125%;letter-spacing:0px;word-spacing:0px;writing-mode:lr-tb;text-anchor:start;fill:#000000;fill-opacity:1;stroke:none;font-family:Sans;-inkscape-font-specification:Sans\" x=\"254.07471\" y=\"610.54236\" id=\"text4615\" sodipodi:linespacing=\"125%\"><tspan y=\"610.54236\" x=\"254.07471\" sodipodi:role=\"line\" id=\"tspan4627\">N<tspan style=\"font-size:65.00091553%;baseline-shift:sub\" id=\"tspan4629\">x</tspan></tspan></text>\n",
       "      <text xml:space=\"preserve\" style=\"font-size:20px;font-style:normal;font-variant:normal;font-weight:normal;font-stretch:normal;text-align:start;line-height:125%;letter-spacing:0px;word-spacing:0px;writing-mode:lr-tb;text-anchor:start;fill:#000000;fill-opacity:1;stroke:none;font-family:Sans;-inkscape-font-specification:Sans\" x=\"141.69551\" y=\"626.01489\" id=\"text4621\" sodipodi:linespacing=\"125%\"><tspan sodipodi:role=\"line\" id=\"tspan4623\" x=\"141.69551\" y=\"626.01489\">N<tspan style=\"font-size:65.00091553%;baseline-shift:sub\" id=\"tspan4637\">z</tspan></tspan></text>\n",
       "      <path sodipodi:type=\"arc\" style=\"fill:none;stroke:#000000;stroke-width:3.4235096;stroke-miterlimit:4;stroke-opacity:1;stroke-dasharray:none;marker-start:url(#Arrow1Mstart);marker-end:none\" id=\"path4641\" sodipodi:cx=\"86.320251\" sodipodi:cy=\"411.43576\" sodipodi:rx=\"22.801577\" sodipodi:ry=\"20.76572\" d=\"m 78.934423,431.0819 c -11.914018,-3.71487 -18.26549,-15.52225 -14.186409,-26.37252 4.079081,-10.85026 17.044048,-16.63464 28.958066,-12.91976 6.85231,2.1366 12.18247,7.11093 14.36042,13.40177\" sodipodi:start=\"1.9006636\" sodipodi:end=\"5.9777527\" sodipodi:open=\"true\" transform=\"matrix(0.56325007,0,0,0.56325007,131.75665,389.01942)\"/>\n",
       "    </g>\n",
       "    <g id=\"g6947\">\n",
       "      <path style=\"font-size:medium;font-style:normal;font-variant:normal;font-weight:normal;font-stretch:normal;text-indent:0;text-align:start;text-decoration:none;line-height:normal;letter-spacing:normal;word-spacing:normal;text-transform:none;direction:ltr;block-progression:tb;writing-mode:lr-tb;text-anchor:start;baseline-shift:baseline;color:#000000;fill:#008000;fill-opacity:1;fill-rule:nonzero;stroke:none;stroke-width:1.41732287;marker:none;visibility:visible;display:inline;overflow:visible;enable-background:accumulate;font-family:Sans;-inkscape-font-specification:Sans\" d=\"m 542.625,316.53125 1.53125,0 -0.0312,-1.40625 -1.53125,0 z m -17.03125,-1.28125 0,1.40625 8.53125,-0.0625 -0.0312,-1.40625 z m -17,0.125 0,1.40625 8.5,-0.0625 0,-1.40625 z m -17,0.125 0,1.40625 8.5,-0.0625 0,-1.40625 z m -17.03125,0.0937 0.0312,1.4375 8.5,-0.0625 0,-1.40625 z m -17,0.125 0.0312,1.4375 8.5,-0.0625 -0.0312,-1.4375 z m -17,0.125 0,1.40625 8.5,-0.0312 0,-1.4375 z m -17,0.125 0,1.40625 8.5,-0.0625 0,-1.40625 z m -17.03125,0.125 0.0312,1.40625 8.5,-0.0625 0,-1.40625 z m -17,0.125 0.0312,1.40625 8.5,-0.0625 -0.0312,-1.40625 z m -17,0.0937 0,1.4375 8.5,-0.0625 0,-1.4375 z m -17,0.125 0,1.4375 8.5,-0.0625 0,-1.4375 z\" id=\"path5605-4\" inkscape:connector-curvature=\"0\"/>\n",
       "      <path inkscape:connector-curvature=\"0\" id=\"path6953\" d=\"m 529.96816,315.92575 -5.62925,5.70906 19.80213,-5.80881 -19.88193,-5.52949 5.70905,5.62924 z\" style=\"fill:#008000;fill-rule:evenodd;stroke:#008000;stroke-width:1.1338583pt\"/>\n",
       "    </g>\n",
       "    <g id=\"g6955\">\n",
       "      <path style=\"font-size:medium;font-style:normal;font-variant:normal;font-weight:normal;font-stretch:normal;text-indent:0;text-align:start;text-decoration:none;line-height:normal;letter-spacing:normal;word-spacing:normal;text-transform:none;direction:ltr;block-progression:tb;writing-mode:lr-tb;text-anchor:start;baseline-shift:baseline;color:#000000;fill:#008000;fill-opacity:1;fill-rule:nonzero;stroke:none;stroke-width:1.41732287;marker:none;visibility:visible;display:inline;overflow:visible;enable-background:accumulate;font-family:Sans;-inkscape-font-specification:Sans\" d=\"m 514.21875,223.0625 0.71875,1.21875 1.3125,-0.78125 -0.71875,-1.21875 z m -14.6875,8.625 0.71875,1.21875 7.34375,-4.3125 -0.71875,-1.21875 z m -14.65625,8.59375 0.71875,1.21875 7.34375,-4.3125 -0.71875,-1.21875 z m -14.65625,8.59375 0.6875,1.25 7.34375,-4.3125 -0.71875,-1.21875 z m -14.6875,8.625 0.71875,1.21875 7.34375,-4.3125 -0.71875,-1.21875 z m -14.65625,8.59375 0.71875,1.21875 7.3125,-4.28125 -0.71875,-1.21875 z m -14.6875,8.625 0.71875,1.21875 7.34375,-4.3125 -0.71875,-1.21875 z M 411.53125,283.3125 412.25,284.53125 419.59375,280.25 418.875,279 z m -14.6875,8.625 0.71875,1.21875 7.34375,-4.3125 -0.71875,-1.21875 z m -14.65625,8.59375 0.71875,1.21875 7.34375,-4.3125 -0.71875,-1.21875 z m -14.65625,8.59375 0.71875,1.25 7.3125,-4.3125 -0.71875,-1.21875 z m -14.6875,8.625 0.71875,1.21875 7.34375,-4.3125 -0.71875,-1.21875 z\" id=\"path5605-4-2\" inkscape:connector-curvature=\"0\"/>\n",
       "      <path inkscape:connector-curvature=\"0\" id=\"path6961\" d=\"m 503.66462,230.07572 -2.02055,7.75881 14.24474,-14.93164 -19.983,5.15228 7.75881,2.02055 z\" style=\"fill:#008000;fill-rule:evenodd;stroke:#008000;stroke-width:1.1338583pt\"/>\n",
       "    </g>\n",
       "    <text xml:space=\"preserve\" style=\"font-size:20px;font-style:normal;font-variant:normal;font-weight:normal;font-stretch:normal;text-align:start;line-height:125%;letter-spacing:0px;word-spacing:0px;writing-mode:lr-tb;text-anchor:start;fill:#000000;fill-opacity:1;stroke:none;font-family:Sans;-inkscape-font-specification:Sans\" x=\"496.06177\" y=\"284.53506\" id=\"text4138\" sodipodi:linespacing=\"125%\"><tspan sodipodi:role=\"line\" x=\"496.06177\" y=\"284.53506\" id=\"tspan4142\">θ</tspan></text>\n",
       "    <path sodipodi:type=\"arc\" style=\"fill:none;stroke:#000000;stroke-width:0.7455861;stroke-miterlimit:4;stroke-dasharray:none;stroke-dashoffset:0;marker-start:url(#marker3091);marker-end:url(#Arrow2Lend)\" id=\"path4162\" sodipodi:cx=\"192.32614\" sodipodi:cy=\"361.74551\" sodipodi:rx=\"87.525665\" sodipodi:ry=\"87.525665\" d=\"m 268.12559,317.98268 a 87.525665,87.525665 0 0 1 11.72622,43.76283\" sodipodi:start=\"5.7595865\" sodipodi:end=\"6.2831853\" sodipodi:open=\"true\" transform=\"matrix(1.3972269,0,0,1.3972269,102.15609,-193.71812)\"/>\n",
       "    <g id=\"g6973\">\n",
       "      <path style=\"font-size:medium;font-style:normal;font-variant:normal;font-weight:normal;font-stretch:normal;text-indent:0;text-align:start;text-decoration:none;line-height:normal;letter-spacing:normal;word-spacing:normal;text-transform:none;direction:ltr;block-progression:tb;writing-mode:lr-tb;text-anchor:start;baseline-shift:baseline;color:#000000;fill:#000000;fill-opacity:1;stroke:none;stroke-width:1.0629921;marker:none;visibility:visible;display:inline;overflow:visible;enable-background:accumulate;font-family:Sans;-inkscape-font-specification:Sans\" d=\"m 294.9375,296.4375 -0.90625,0.53125 47.5625,82.375 0.90625,-0.53125 -47.5625,-82.375 z\" id=\"path3799-6\" inkscape:connector-curvature=\"0\"/>\n",
       "      <path id=\"path6979\" style=\"fill-rule:evenodd;stroke-width:0.625;stroke-linejoin:round\" d=\"m 296.08321,308.8962 -2.31927,-13.41288 10.45625,8.71499 c -3.42253,-0.38074 -6.70305,1.52685 -8.13698,4.69789 z\" inkscape:connector-curvature=\"0\"/>\n",
       "      <path inkscape:connector-curvature=\"0\" id=\"path6981\" style=\"fill-rule:evenodd;stroke-width:0.625;stroke-linejoin:round\" d=\"m 340.45634,366.8871 2.31977,13.4128 -10.45658,-8.71462 c 3.42255,0.38062 6.703,-1.52709 8.13681,-4.69818 z\"/>\n",
       "    </g>\n",
       "    <text xml:space=\"preserve\" style=\"font-size:20px;font-style:normal;font-variant:normal;font-weight:normal;font-stretch:normal;text-align:start;line-height:125%;letter-spacing:0px;word-spacing:0px;writing-mode:lr-tb;text-anchor:start;fill:#000000;fill-opacity:1;stroke:none;font-family:Sans;-inkscape-font-specification:Sans\" x=\"74.986252\" y=\"439.57254\" id=\"text5846\" sodipodi:linespacing=\"125%\" transform=\"matrix(0.8660254,-0.50000001,0.50000001,0.8660254,0,0)\"><tspan sodipodi:role=\"line\" id=\"tspan5848\" x=\"74.986252\" y=\"439.57254\" style=\"font-size:20px;font-style:normal;font-variant:normal;font-weight:normal;font-stretch:normal;text-align:start;line-height:125%;writing-mode:lr-tb;text-anchor:start;font-family:Sans;-inkscape-font-specification:Sans\">2w</tspan></text>\n",
       "    <rect style=\"fill:#007fff;fill-opacity:1;stroke:#000000;stroke-width:1.0629921;stroke-miterlimit:4;stroke-dasharray:none;stroke-dashoffset:0\" id=\"rect5896\" width=\"188.87119\" height=\"82.919052\" x=\"624.88025\" y=\"389.38519\"/>\n",
       "    <rect style=\"fill:#007fff;fill-opacity:1;stroke:#000000;stroke-width:1.0629921;stroke-miterlimit:4;stroke-dasharray:none;stroke-dashoffset:0\" id=\"rect5896-2\" width=\"67.244766\" height=\"82.919052\" x=\"814.6001\" y=\"389.38519\"/>\n",
       "    <path sodipodi:type=\"arc\" style=\"fill:#aa4400;fill-opacity:1;stroke:#000000;stroke-width:1.0629921;stroke-miterlimit:4;stroke-dasharray:none;stroke-dashoffset:0\" id=\"path5962\" sodipodi:cx=\"554.52118\" sodipodi:cy=\"505.12637\" sodipodi:rx=\"50.096928\" sodipodi:ry=\"50.096928\" d=\"m 604.61811,505.12637 a 50.096928,50.096928 0 1 1 -100.19386,0 50.096928,50.096928 0 1 1 100.19386,0 z\" transform=\"translate(137.42757,-34.549606)\"/>\n",
       "    <path sodipodi:type=\"arc\" style=\"fill:#aa4400;fill-opacity:1;stroke:#000000;stroke-width:1.0629921;stroke-miterlimit:4;stroke-dasharray:none;stroke-dashoffset:0\" id=\"path5962-8\" sodipodi:cx=\"554.52118\" sodipodi:cy=\"505.12637\" sodipodi:rx=\"50.096928\" sodipodi:ry=\"50.096928\" d=\"m 604.61811,505.12637 a 50.096928,50.096928 0 1 1 -100.19386,0 50.096928,50.096928 0 1 1 100.19386,0 z\" transform=\"matrix(0.46544142,0,0,0.46544142,592.90296,260.8064)\"/>\n",
       "    <path style=\"fill:none;stroke:#000000;stroke-width:1.21631289;stroke-linecap:butt;stroke-linejoin:miter;stroke-miterlimit:4;stroke-opacity:1;stroke-dasharray:none\" d=\"m 587.62548,520.67368 c 334.17283,0 334.17283,0 334.17283,0\" id=\"path5984\" inkscape:connector-curvature=\"0\"/>\n",
       "    <text xml:space=\"preserve\" style=\"font-size:20px;font-style:normal;font-variant:normal;font-weight:normal;font-stretch:normal;text-align:start;line-height:125%;letter-spacing:0px;word-spacing:0px;writing-mode:lr-tb;text-anchor:start;fill:#000000;fill-opacity:1;stroke:none;font-family:Sans;-inkscape-font-specification:Sans\" x=\"245.60551\" y=\"444.42282\" id=\"text5986\" sodipodi:linespacing=\"125%\"><tspan sodipodi:role=\"line\" id=\"tspan5988\" x=\"245.60551\" y=\"444.42282\" style=\"font-size:20px;font-style:normal;font-variant:normal;font-weight:normal;font-stretch:normal;text-align:start;line-height:125%;writing-mode:lr-tb;text-anchor:start;font-family:Sans;-inkscape-font-specification:Sans\">d=[x y]<tspan style=\"font-size:20px;font-style:normal;font-variant:normal;font-weight:normal;font-stretch:normal;text-align:start;line-height:125%;writing-mode:lr-tb;text-anchor:start;baseline-shift:super;font-family:Sans;-inkscape-font-specification:Sans\" id=\"tspan5990\">T</tspan></tspan></text>\n",
       "    <path sodipodi:type=\"arc\" style=\"fill:#000000;stroke:#000000;stroke-width:1.41732287;stroke-miterlimit:4;stroke-opacity:1;stroke-dasharray:none;stroke-dashoffset:0\" id=\"path5992\" sodipodi:cx=\"321.31134\" sodipodi:cy=\"602.4411\" sodipodi:rx=\"10.364882\" sodipodi:ry=\"10.364882\" d=\"m 331.67622,602.4411 a 10.364882,10.364882 0 1 1 -20.72976,0 10.364882,10.364882 0 1 1 20.72976,0 z\" transform=\"matrix(0.5839982,0,0,0.5839982,502.74027,119.87312)\"/>\n",
       "    <path sodipodi:type=\"arc\" style=\"fill:none;stroke:#000000;stroke-width:1.41732287;stroke-miterlimit:4;stroke-opacity:1;stroke-dasharray:none;stroke-dashoffset:0;marker-start:none;marker-end:url(#Arrow2Lend)\" id=\"path6000\" sodipodi:cx=\"632.25781\" sodipodi:cy=\"440.05795\" sodipodi:rx=\"58.734329\" sodipodi:ry=\"58.734329\" d=\"m 581.39239,410.69079 a 58.734329,58.734329 0 0 1 101.73084,0\" sodipodi:start=\"3.6651914\" sodipodi:end=\"5.7595865\" sodipodi:open=\"true\" transform=\"translate(61.340945,20.729763)\"/>\n",
       "    <text xml:space=\"preserve\" style=\"font-size:40px;font-style:normal;font-weight:normal;line-height:125%;letter-spacing:0px;word-spacing:0px;fill:#000000;fill-opacity:1;stroke:none;font-family:Sans\" x=\"672.44708\" y=\"453.27121\" id=\"text6418\" sodipodi:linespacing=\"125%\"><tspan sodipodi:role=\"line\" id=\"tspan6420\" x=\"672.44708\" y=\"453.27121\" style=\"font-size:20px\">r</tspan></text>\n",
       "    <text xml:space=\"preserve\" style=\"font-size:40px;font-style:normal;font-weight:normal;line-height:125%;letter-spacing:0px;word-spacing:0px;fill:#000000;fill-opacity:1;stroke:none;font-family:Sans\" x=\"749.72644\" y=\"417.02487\" id=\"text6422\" sodipodi:linespacing=\"125%\"><tspan sodipodi:role=\"line\" id=\"tspan6424\" x=\"749.72644\" y=\"417.02487\" style=\"font-size:20px\">ϕ<tspan style=\"font-size:65.00091553%;baseline-shift:sub\" id=\"tspan6428\">1</tspan></tspan></text>\n",
       "    <g id=\"g6963\">\n",
       "      <path style=\"font-size:medium;font-style:normal;font-variant:normal;font-weight:normal;font-stretch:normal;text-indent:0;text-align:start;text-decoration:none;line-height:normal;letter-spacing:normal;word-spacing:normal;text-transform:none;direction:ltr;block-progression:tb;writing-mode:lr-tb;text-anchor:start;baseline-shift:baseline;color:#000000;fill:#000000;fill-opacity:1;stroke:none;stroke-width:1.35797536;marker:none;visibility:visible;display:inline;overflow:visible;enable-background:accumulate;font-family:Sans;-inkscape-font-specification:Sans\" d=\"m 649.3125,447.09375 -0.65625,1.21875 45.46875,24.40625 0.65625,-1.1875 -45.46875,-24.4375 z\" id=\"path6846\" inkscape:connector-curvature=\"0\"/>\n",
       "      <path id=\"path6969\" d=\"m 689.6615,469.54468 -3.67768,1.1079 9.65965,2.10434 -7.08986,-6.88992 1.10789,3.67768 z\" style=\"fill-rule:evenodd;stroke:#000000;stroke-width:0.54319015pt\" inkscape:connector-curvature=\"0\"/>\n",
       "      <path inkscape:connector-curvature=\"0\" style=\"fill-rule:evenodd;stroke:#000000;stroke-width:0.54319015pt\" d=\"m 653.77193,450.27248 3.67768,-1.1079 -9.65965,-2.10434 7.08986,6.88992 -1.10789,-3.67768 z\" id=\"path6971\"/>\n",
       "    </g>\n",
       "  </g>\n",
       "</svg>"
      ],
      "text/plain": [
       "<IPython.core.display.SVG object>"
      ]
     },
     "execution_count": 1,
     "metadata": {},
     "output_type": "execute_result"
    }
   ],
   "source": [
    "from IPython.display import SVG\n",
    "SVG(filename='Robot.svg')"
   ]
  },
  {
   "cell_type": "markdown",
   "metadata": {
    "deletable": true,
    "editable": true
   },
   "source": [
    "## Equations of Motion\n",
    "\n",
    "We’ll start by generating the equations of motion for the robot with `sympy.physics.mechanics`. The `mechanics` module provides a clean, intuitive workflow for deriving the equations of motion for multibody dynamic systems using either `KanesMethod` or `LagrangesMethod` objects. In this example we'll make use of the `LagrangesMethod` object, which generates the equations of motion using [Lagrangian Mechanics](http://en.wikipedia.org/wiki/Lagrangian_mechanics) with constraints and generalized forces. \n",
    "\n",
    "First we import the necessary functionality from SymPy."
   ]
  },
  {
   "cell_type": "code",
   "execution_count": 2,
   "metadata": {
    "collapsed": false,
    "deletable": true,
    "editable": true,
    "jupyter": {
     "outputs_hidden": false
    }
   },
   "outputs": [],
   "source": [
    "from sympy.physics.mechanics import *\n",
    "from sympy import sin, cos, symbols, Matrix, solve"
   ]
  },
  {
   "cell_type": "code",
   "execution_count": 3,
   "metadata": {
    "tags": []
   },
   "outputs": [],
   "source": [
    "init_vprinting()"
   ]
  },
  {
   "cell_type": "markdown",
   "metadata": {
    "deletable": true,
    "editable": true
   },
   "source": [
    "Next we need to define an inertial reference frame, as well as a coordinate origin. All coordinates and reference frames defined later will be in reference to the world coordinate frame."
   ]
  },
  {
   "cell_type": "code",
   "execution_count": 4,
   "metadata": {
    "collapsed": false,
    "deletable": true,
    "editable": true,
    "jupyter": {
     "outputs_hidden": false
    }
   },
   "outputs": [],
   "source": [
    "# Inertial Reference Frame\n",
    "N = ReferenceFrame('N')\n",
    "\n",
    "# Define a world coordinate origin\n",
    "O = Point('O')\n",
    "O.set_vel(N, 0)"
   ]
  },
  {
   "cell_type": "markdown",
   "metadata": {
    "deletable": true,
    "editable": true
   },
   "source": [
    "Lagrange's Method requires a state vector $\\vec{q}$ that contains all the generalized coordinates required to define the system in space. In the case of the robot:\n",
    "\n",
    "$$\n",
    "\\vec{q} = [\\matrix{x && y && \\theta && \\phi_1 && \\phi_2}]^T\n",
    "$$\n",
    "\n",
    "As these are all time varying variables, they need to be created as `dynamicsymbols`:"
   ]
  },
  {
   "cell_type": "code",
   "execution_count": 5,
   "metadata": {
    "collapsed": false,
    "deletable": true,
    "editable": true,
    "jupyter": {
     "outputs_hidden": false
    }
   },
   "outputs": [],
   "source": [
    "theta = dynamicsymbols('theta')                      # Rotation about N.z\n",
    "x, y = dynamicsymbols('x, y')                        # Coordinates of robot in World Frame\n",
    "phi1, phi2 = dynamicsymbols('phi_1, phi_2')          # Angular displacement of wheel\n",
    "\n",
    "# Create q and dq vectors\n",
    "q = Matrix([x, y, theta, phi1, phi2])\n",
    "dq = q.diff()"
   ]
  },
  {
   "cell_type": "markdown",
   "metadata": {
    "deletable": true,
    "editable": true
   },
   "source": [
    "We'll also define some constant parameters that define the specific robot:"
   ]
  },
  {
   "cell_type": "code",
   "execution_count": 6,
   "metadata": {
    "collapsed": false,
    "deletable": true,
    "editable": true,
    "jupyter": {
     "outputs_hidden": false
    }
   },
   "outputs": [],
   "source": [
    "# Constants for the wheels\n",
    "r = symbols('r')                                     # Radius of wheel\n",
    "m_w = symbols('m_w')                                 # Mass of the wheel\n",
    "t_w = symbols('t_w')                                 # Thickness of the wheel\n",
    "\n",
    "# Constants for the Robot Body\n",
    "w = symbols('w')                                     # 2*w is the width of the wheel base\n",
    "d = symbols('d')                                     # Distance between axel and center of mass\n",
    "m_b = symbols('m_b')                                 # Mass of the body\n",
    "Ixx, Iyy, Izz = symbols('Ixx, Iyy, Izz')             # Moments of inertia of body"
   ]
  },
  {
   "cell_type": "markdown",
   "metadata": {
    "deletable": true,
    "editable": true
   },
   "source": [
    "Next we need to define a reference frame relative to the robot, and a point located at the center of the wheel axis. This will define the robot's location in the world coordinate frame. The velocity of this point is just the derivative of its x and y coordinates."
   ]
  },
  {
   "cell_type": "code",
   "execution_count": 7,
   "metadata": {
    "collapsed": false,
    "deletable": true,
    "editable": true,
    "jupyter": {
     "outputs_hidden": false
    }
   },
   "outputs": [],
   "source": [
    "# Robot Reference Frame\n",
    "R = N.orientnew('R', 'Axis', [theta, N.z])\n",
    "\n",
    "# Center of wheel base\n",
    "Cw = O.locatenew('Cw', x*N.x + y*N.y)\n",
    "\n",
    "# Set the velocity of point Cw\n",
    "Cw.set_vel(N, x.diff()*N.x + y.diff()*N.y)"
   ]
  },
  {
   "cell_type": "markdown",
   "metadata": {
    "deletable": true,
    "editable": true
   },
   "source": [
    "Coordinates of the 2 wheel hubs then need to be specified. To do this we can use the `locatenew` method. The hubs 1 and 2 are located at $-w\\vec{R_y}$ and $w\\vec{R_y}$ away from the center of the wheel base $C_w$ respectively.\n",
    "\n",
    "The velocity of the hubs is then found using the `v2pt_theory` method, which calculates the velocity of a point based off the velocity of another point in the same frame, and the angular velocity of that frame ([reference](http://en.wikipedia.org/wiki/Rotating_reference_frame#Relation_between_velocities_in_the_two_frames))."
   ]
  },
  {
   "cell_type": "code",
   "execution_count": 8,
   "metadata": {
    "collapsed": false,
    "deletable": true,
    "editable": true,
    "jupyter": {
     "outputs_hidden": false
    }
   },
   "outputs": [],
   "source": [
    "# Points at wheel hubs\n",
    "H1 = Cw.locatenew('H1', -w*R.y)\n",
    "H2 = Cw.locatenew('H2', w*R.y)\n",
    "\n",
    "# Set the velocity of points H1 and H2\n",
    "H1.v2pt_theory(Cw, N, R)\n",
    "H2.v2pt_theory(Cw, N, R);"
   ]
  },
  {
   "cell_type": "markdown",
   "metadata": {
    "deletable": true,
    "editable": true
   },
   "source": [
    "Rotating reference frames fixed to each wheel are then created. These rotate about the $\\vec{R_y}$ axis with the angular position of the wheels, $\\phi_1$ and $\\phi_2$."
   ]
  },
  {
   "cell_type": "code",
   "execution_count": 9,
   "metadata": {
    "collapsed": false,
    "deletable": true,
    "editable": true,
    "jupyter": {
     "outputs_hidden": false
    }
   },
   "outputs": [],
   "source": [
    "# Create reference frames for wheels 1 and 2\n",
    "W1 = R.orientnew('W1', 'Axis', [phi1, R.y])\n",
    "W2 = R.orientnew('W2', 'Axis', [phi2, R.y])"
   ]
  },
  {
   "cell_type": "markdown",
   "metadata": {
    "deletable": true,
    "editable": true
   },
   "source": [
    "`sympy.physics.mechanics` provides classes for rigid bodies. These make calculating the lagrangian of a multibody system easier, as each body can be handled separately. To do this, each body needs the following things specified:\n",
    "\n",
    "- A name\n",
    "- A center of mass\n",
    "- A reference frame\n",
    "- A mass\n",
    "- A tuple of (Inertia, Point of rotation)\n",
    "\n",
    "Modeling the wheels as solid cylinders, the inertia can be calculated about the hubs, and `RigidBody` objects can be created for each wheel."
   ]
  },
  {
   "cell_type": "code",
   "execution_count": 10,
   "metadata": {
    "collapsed": false,
    "deletable": true,
    "editable": true,
    "jupyter": {
     "outputs_hidden": false
    }
   },
   "outputs": [],
   "source": [
    "# Calculate inertia of the wheel\n",
    "Iw = inertia(R, m_w*(3*r**2 + t_w**2)/12, m_w*r**2/2, m_w*(3*r**2 + t_w**2)/12)\n",
    "\n",
    "# Create rigid bodies for wheels\n",
    "Wheel1 = RigidBody('Wheel1', H1, W1, m_w, (Iw, H1))\n",
    "Wheel2 = RigidBody('Wheel2', H2, W2, m_w, (Iw, H2))"
   ]
  },
  {
   "cell_type": "markdown",
   "metadata": {
    "deletable": true,
    "editable": true
   },
   "source": [
    "The same can be done for the body of the robot. In this case we model the body as a symmetric object with inertias $I_{xx}$, $I_{yy}$, and $I_{zz}$. The center of mass of the body is located a distance $d$ in front of the wheel axel."
   ]
  },
  {
   "cell_type": "code",
   "execution_count": 11,
   "metadata": {
    "collapsed": false,
    "deletable": true,
    "editable": true,
    "jupyter": {
     "outputs_hidden": false
    }
   },
   "outputs": [],
   "source": [
    "# Calculate inertia of body\n",
    "Ib = inertia(R, Ixx, Iyy, Izz)\n",
    "\n",
    "# Center of mass of body\n",
    "Cm = Cw.locatenew('Cm', d*R.x)\n",
    "Cm.v2pt_theory(Cw, N, R)\n",
    "\n",
    "# Create a rigid body object for body\n",
    "Body = RigidBody('Body', Cm, R, m_b, (Ib, Cm))"
   ]
  },
  {
   "cell_type": "markdown",
   "metadata": {
    "deletable": true,
    "editable": true
   },
   "source": [
    "## Nonholonomic Constraints\n",
    "At this point, the Lagrangian of the system can be calculated. However, the system still isn't fully defined; the constraints still need to be specificed.\n",
    "\n",
    "At any instance in time, the velocity of the ground contact points must have a velocity of zero. To specify this in the Lagrange equations, a constraint matrix needs to be created.\n",
    "\n",
    "First, two points are created where the wheels contact the ground, and their velocities calculated."
   ]
  },
  {
   "cell_type": "code",
   "execution_count": 12,
   "metadata": {
    "collapsed": false,
    "deletable": true,
    "editable": true,
    "jupyter": {
     "outputs_hidden": false
    }
   },
   "outputs": [],
   "source": [
    "# Create two points, where the wheels contact the ground\n",
    "C1 = H1.locatenew('C1', -r*R.z)\n",
    "C2 = H2.locatenew('C2', -r*R.z)\n",
    "# Calculate velocity of points\n",
    "C1.v2pt_theory(H1, N, W1)\n",
    "C2.v2pt_theory(H2, N, W2);"
   ]
  },
  {
   "cell_type": "markdown",
   "metadata": {
    "deletable": true,
    "editable": true
   },
   "source": [
    "Using these velocities, a system of equations can be created. As the velocities must be zero, this expression = 0."
   ]
  },
  {
   "cell_type": "code",
   "execution_count": 13,
   "metadata": {
    "collapsed": false,
    "deletable": true,
    "editable": true,
    "jupyter": {
     "outputs_hidden": false
    }
   },
   "outputs": [
    {
     "data": {
      "image/png": "[encoded data removed]",
      "text/latex": [
       "$\\displaystyle \\left[\\begin{matrix}\\left(- r \\dot{\\phi}_{1} + w \\dot{\\theta}\\right) \\cos{\\left(\\theta \\right)} + \\dot{x}\\\\\\left(- r \\dot{\\phi}_{1} + w \\dot{\\theta}\\right) \\sin{\\left(\\theta \\right)} + \\dot{y}\\\\0\\\\\\left(- r \\dot{\\phi}_{2} - w \\dot{\\theta}\\right) \\cos{\\left(\\theta \\right)} + \\dot{x}\\\\\\left(- r \\dot{\\phi}_{2} - w \\dot{\\theta}\\right) \\sin{\\left(\\theta \\right)} + \\dot{y}\\\\0\\end{matrix}\\right]$"
      ],
      "text/plain": [
       "⎡(-r⋅φ₁̇ + w⋅θ̇)⋅cos(θ) + ẋ⎤\n",
       "⎢                        ⎥\n",
       "⎢(-r⋅φ₁̇ + w⋅θ̇)⋅sin(θ) + ẏ⎥\n",
       "⎢                        ⎥\n",
       "⎢           0            ⎥\n",
       "⎢                        ⎥\n",
       "⎢(-r⋅φ₂̇ - w⋅θ̇)⋅cos(θ) + ẋ⎥\n",
       "⎢                        ⎥\n",
       "⎢(-r⋅φ₂̇ - w⋅θ̇)⋅sin(θ) + ẏ⎥\n",
       "⎢                        ⎥\n",
       "⎣           0            ⎦"
      ]
     },
     "execution_count": 13,
     "metadata": {},
     "output_type": "execute_result"
    }
   ],
   "source": [
    "# Express the velocity of points in the inertial frame\n",
    "con1 = C1.vel(N).express(N).args[0][0]\n",
    "con2 = C2.vel(N).express(N).args[0][0]\n",
    "# Create a matrix of constraints\n",
    "constraints = con1.col_join(con2)\n",
    "constraints"
   ]
  },
  {
   "cell_type": "markdown",
   "metadata": {
    "deletable": true,
    "editable": true
   },
   "source": [
    "Since there are 6 equations with 3 unknowns ($\\dot{x}$, $\\dot{y}$, and $\\dot{\\theta}$), there are duplicate equations. Using solve, and reconfiguring the expression, this can be reduced to the required set:"
   ]
  },
  {
   "cell_type": "code",
   "execution_count": 14,
   "metadata": {
    "collapsed": false,
    "deletable": true,
    "editable": true,
    "jupyter": {
     "outputs_hidden": false
    }
   },
   "outputs": [
    {
     "data": {
      "image/png": "[encoded data removed]",
      "text/latex": [
       "$\\displaystyle \\left[\\begin{matrix}-1 & 0 & 0 & \\frac{r \\cos{\\left(\\theta \\right)}}{2} & \\frac{r \\cos{\\left(\\theta \\right)}}{2}\\\\0 & -1 & 0 & \\frac{r \\sin{\\left(\\theta \\right)}}{2} & \\frac{r \\sin{\\left(\\theta \\right)}}{2}\\\\0 & 0 & -1 & \\frac{r}{2 w} & - \\frac{r}{2 w}\\end{matrix}\\right]$"
      ],
      "text/plain": [
       "⎡            r⋅cos(θ)  r⋅cos(θ)⎤\n",
       "⎢-1  0   0   ────────  ────────⎥\n",
       "⎢               2         2    ⎥\n",
       "⎢                              ⎥\n",
       "⎢            r⋅sin(θ)  r⋅sin(θ)⎥\n",
       "⎢0   -1  0   ────────  ────────⎥\n",
       "⎢               2         2    ⎥\n",
       "⎢                              ⎥\n",
       "⎢               r        -r    ⎥\n",
       "⎢0   0   -1    ───       ───   ⎥\n",
       "⎣              2⋅w       2⋅w   ⎦"
      ]
     },
     "execution_count": 14,
     "metadata": {},
     "output_type": "execute_result"
    }
   ],
   "source": [
    "# Solve for dx, dy, and dtheta in terms of dphi1 and dphi2\n",
    "sol = solve(constraints, dq[:3])\n",
    "\n",
    "# Split the resulting dict into a rhs and lhs, that are equivalent\n",
    "sol_rhs = Matrix(list(sol.values()))\n",
    "sol_lhs = Matrix(list(sol.keys()))\n",
    "\n",
    "# Since sol_rhs = sol_lhs --> sol_rhs - sol_lhs = 0\n",
    "# This forms the basis of our constraint matrix.\n",
    "# Combining, and solving for a linear representation:\n",
    "c = (sol_rhs - sol_lhs).jacobian(dq[:5])\n",
    "c"
   ]
  },
  {
   "cell_type": "markdown",
   "metadata": {
    "deletable": true,
    "editable": true
   },
   "source": [
    "This is our constraint matrix. The `LagrangesMethod` class requires that the constraints be specified as\n",
    "\n",
    "`coneqs` = $ C\\dot{\\vec{q}} = 0 $\n",
    "\n",
    "Thus:"
   ]
  },
  {
   "cell_type": "code",
   "execution_count": 15,
   "metadata": {
    "collapsed": false,
    "deletable": true,
    "editable": true,
    "jupyter": {
     "outputs_hidden": false
    }
   },
   "outputs": [
    {
     "data": {
      "image/png": "[encoded data removed]",
      "text/latex": [
       "$\\displaystyle \\left[\\begin{matrix}\\frac{r \\cos{\\left(\\theta \\right)} \\dot{\\phi}_{1}}{2} + \\frac{r \\cos{\\left(\\theta \\right)} \\dot{\\phi}_{2}}{2} - \\dot{x}\\\\\\frac{r \\sin{\\left(\\theta \\right)} \\dot{\\phi}_{1}}{2} + \\frac{r \\sin{\\left(\\theta \\right)} \\dot{\\phi}_{2}}{2} - \\dot{y}\\\\\\frac{r \\dot{\\phi}_{1}}{2 w} - \\frac{r \\dot{\\phi}_{2}}{2 w} - \\dot{\\theta}\\end{matrix}\\right]$"
      ],
      "text/plain": [
       "⎡r⋅cos(θ)⋅φ₁̇   r⋅cos(θ)⋅φ₂̇    ⎤\n",
       "⎢─────────── + ─────────── - ẋ⎥\n",
       "⎢     2             2         ⎥\n",
       "⎢                             ⎥\n",
       "⎢r⋅sin(θ)⋅φ₁̇   r⋅sin(θ)⋅φ₂̇    ⎥\n",
       "⎢─────────── + ─────────── - ẏ⎥\n",
       "⎢     2             2         ⎥\n",
       "⎢                             ⎥\n",
       "⎢       r⋅φ₁̇   r⋅φ₂̇           ⎥\n",
       "⎢       ──── - ──── - θ̇       ⎥\n",
       "⎣       2⋅w    2⋅w            ⎦"
      ]
     },
     "execution_count": 15,
     "metadata": {},
     "output_type": "execute_result"
    }
   ],
   "source": [
    "# Constraint Equations\n",
    "coneqs = (c*dq)\n",
    "coneqs"
   ]
  },
  {
   "cell_type": "markdown",
   "metadata": {
    "deletable": true,
    "editable": true
   },
   "source": [
    "## Generalized Forces\n",
    "\n",
    "The inputs of system are the torques at the wheels. Using the right-hand-rule, it can be seen that a positive torque will exert force on the system in the $R_x$ direction. With a wheel radius of $r$, the force on the wheel hubs is:\n",
    "\n",
    "$\\vec{F_{hub}} = \\tau*\\vec{R_x}$"
   ]
  },
  {
   "cell_type": "code",
   "execution_count": 16,
   "metadata": {
    "collapsed": false,
    "deletable": true,
    "editable": true,
    "jupyter": {
     "outputs_hidden": false
    }
   },
   "outputs": [],
   "source": [
    "# Define forces on system:\n",
    "T1, T2 = symbols('tau_1, tau_2')              # Torques from the wheels\n",
    "fl = [(H1, T1/r*R.x),\n",
    "      (H2, T2/r*R.x)]"
   ]
  },
  {
   "cell_type": "markdown",
   "metadata": {
    "deletable": true,
    "editable": true
   },
   "source": [
    "## Solving the System Dynamics\n",
    "\n",
    "We are now ready to solve the for the equations of motion. First, calculate the Lagrangian of the system $L = T - V$:"
   ]
  },
  {
   "cell_type": "code",
   "execution_count": 17,
   "metadata": {
    "collapsed": false,
    "deletable": true,
    "editable": true,
    "jupyter": {
     "outputs_hidden": false
    }
   },
   "outputs": [],
   "source": [
    "Lag = Lagrangian(N, Wheel1, Wheel2, Body)"
   ]
  },
  {
   "cell_type": "markdown",
   "metadata": {
    "deletable": true,
    "editable": true
   },
   "source": [
    "Next, a `LagrangesMethod` object is created. This takes the following parameters:\n",
    "\n",
    "- The system Lagrangian\n",
    "- The generalized coordinate vector $\\vec{q}$\n",
    "- The constraint equations\n",
    "- A list force tuples: (Point, Force at point)\n",
    "- An inertial reference frame"
   ]
  },
  {
   "cell_type": "code",
   "execution_count": 18,
   "metadata": {
    "collapsed": false,
    "deletable": true,
    "editable": true,
    "jupyter": {
     "outputs_hidden": false
    }
   },
   "outputs": [],
   "source": [
    "lm = LagrangesMethod(Lag, q, nonhol_coneqs=coneqs, forcelist=fl, frame=N)"
   ]
  },
  {
   "cell_type": "markdown",
   "metadata": {
    "deletable": true,
    "editable": true
   },
   "source": [
    "The equations of motion can then be found:"
   ]
  },
  {
   "cell_type": "code",
   "execution_count": 19,
   "metadata": {
    "collapsed": false,
    "deletable": true,
    "editable": true,
    "jupyter": {
     "outputs_hidden": false
    }
   },
   "outputs": [
    {
     "data": {
      "image/png": "[encoded data removed]",
      "text/latex": [
       "$\\displaystyle \\left[\\begin{matrix}\\frac{m_{b} \\left(- 2 d \\sin{\\left(\\theta \\right)} \\ddot{\\theta} - 2 d \\cos{\\left(\\theta \\right)} \\dot{\\theta}^{2} + 2 \\ddot{x}\\right)}{2} + \\frac{m_{w} \\left(- 2 w \\sin{\\left(\\theta \\right)} \\dot{\\theta}^{2} + 2 w \\cos{\\left(\\theta \\right)} \\ddot{\\theta} + 2 \\ddot{x}\\right)}{2} + \\frac{m_{w} \\left(2 w \\sin{\\left(\\theta \\right)} \\dot{\\theta}^{2} - 2 w \\cos{\\left(\\theta \\right)} \\ddot{\\theta} + 2 \\ddot{x}\\right)}{2} - lam_{1} - \\frac{\\tau_{1} \\cos{\\left(\\theta \\right)}}{r} - \\frac{\\tau_{2} \\cos{\\left(\\theta \\right)}}{r}\\\\\\frac{m_{b} \\left(- 2 d \\sin{\\left(\\theta \\right)} \\dot{\\theta}^{2} + 2 d \\cos{\\left(\\theta \\right)} \\ddot{\\theta} + 2 \\ddot{y}\\right)}{2} + \\frac{m_{w} \\left(- 2 w \\sin{\\left(\\theta \\right)} \\ddot{\\theta} - 2 w \\cos{\\left(\\theta \\right)} \\dot{\\theta}^{2} + 2 \\ddot{y}\\right)}{2} + \\frac{m_{w} \\left(2 w \\sin{\\left(\\theta \\right)} \\ddot{\\theta} + 2 w \\cos{\\left(\\theta \\right)} \\dot{\\theta}^{2} + 2 \\ddot{y}\\right)}{2} - lam_{2} - \\frac{\\tau_{1} \\sin{\\left(\\theta \\right)}}{r} - \\frac{\\tau_{2} \\sin{\\left(\\theta \\right)}}{r}\\\\Izz \\ddot{\\theta} - \\frac{m_{b} \\left(d \\left(- \\sin{\\left(\\theta \\right)} \\dot{y} - \\cos{\\left(\\theta \\right)} \\dot{x}\\right) \\dot{\\theta} - d \\sin{\\left(\\theta \\right)} \\dot{\\theta} \\dot{y} - d \\cos{\\left(\\theta \\right)} \\dot{\\theta} \\dot{x}\\right)}{2} + \\frac{m_{b} \\left(2 d^{2} \\ddot{\\theta} + d \\left(- \\sin{\\left(\\theta \\right)} \\dot{\\theta} \\dot{y} - \\sin{\\left(\\theta \\right)} \\ddot{x} - \\cos{\\left(\\theta \\right)} \\dot{\\theta} \\dot{x} + \\cos{\\left(\\theta \\right)} \\ddot{y}\\right) - d \\sin{\\left(\\theta \\right)} \\dot{\\theta} \\dot{y} - d \\sin{\\left(\\theta \\right)} \\ddot{x} - d \\cos{\\left(\\theta \\right)} \\dot{\\theta} \\dot{x} + d \\cos{\\left(\\theta \\right)} \\ddot{y}\\right)}{2} + \\frac{m_{w} \\left(3 r^{2} + t_{w}^{2}\\right) \\ddot{\\theta}}{6} - \\frac{m_{w} \\left(- w \\left(- \\sin{\\left(\\theta \\right)} \\dot{x} + \\cos{\\left(\\theta \\right)} \\dot{y}\\right) \\dot{\\theta} + w \\sin{\\left(\\theta \\right)} \\dot{\\theta} \\dot{x} - w \\cos{\\left(\\theta \\right)} \\dot{\\theta} \\dot{y}\\right)}{2} - \\frac{m_{w} \\left(w \\left(- \\sin{\\left(\\theta \\right)} \\dot{x} + \\cos{\\left(\\theta \\right)} \\dot{y}\\right) \\dot{\\theta} - w \\sin{\\left(\\theta \\right)} \\dot{\\theta} \\dot{x} + w \\cos{\\left(\\theta \\right)} \\dot{\\theta} \\dot{y}\\right)}{2} + \\frac{m_{w} \\left(2 w^{2} \\ddot{\\theta} - w \\left(- \\sin{\\left(\\theta \\right)} \\dot{\\theta} \\dot{x} + \\sin{\\left(\\theta \\right)} \\ddot{y} + \\cos{\\left(\\theta \\right)} \\dot{\\theta} \\dot{y} + \\cos{\\left(\\theta \\right)} \\ddot{x}\\right) + w \\sin{\\left(\\theta \\right)} \\dot{\\theta} \\dot{x} - w \\sin{\\left(\\theta \\right)} \\ddot{y} - w \\cos{\\left(\\theta \\right)} \\dot{\\theta} \\dot{y} - w \\cos{\\left(\\theta \\right)} \\ddot{x}\\right)}{2} + \\frac{m_{w} \\left(2 w^{2} \\ddot{\\theta} + w \\left(- \\sin{\\left(\\theta \\right)} \\dot{\\theta} \\dot{x} + \\sin{\\left(\\theta \\right)} \\ddot{y} + \\cos{\\left(\\theta \\right)} \\dot{\\theta} \\dot{y} + \\cos{\\left(\\theta \\right)} \\ddot{x}\\right) - w \\sin{\\left(\\theta \\right)} \\dot{\\theta} \\dot{x} + w \\sin{\\left(\\theta \\right)} \\ddot{y} + w \\cos{\\left(\\theta \\right)} \\dot{\\theta} \\dot{y} + w \\cos{\\left(\\theta \\right)} \\ddot{x}\\right)}{2} - lam_{3} - \\frac{\\tau_{1} w}{r} + \\frac{\\tau_{2} w}{r}\\\\\\frac{m_{w} r^{2} \\ddot{\\phi}_{1}}{2} + \\frac{r lam_{1} \\cos{\\left(\\theta \\right)}}{2} + \\frac{r lam_{2} \\sin{\\left(\\theta \\right)}}{2} + \\frac{r lam_{3}}{2 w}\\\\\\frac{m_{w} r^{2} \\ddot{\\phi}_{2}}{2} + \\frac{r lam_{1} \\cos{\\left(\\theta \\right)}}{2} + \\frac{r lam_{2} \\sin{\\left(\\theta \\right)}}{2} - \\frac{r lam_{3}}{2 w}\\end{matrix}\\right]$"
      ],
      "text/plain": [
       "⎡                                                                                                                                                                                                                                        ⎛                            2      ⎞       ⎛              2                     ⎞ \n",
       "⎢                                                                                                                                                                                                                                    m_b⋅⎝-2⋅d⋅sin(θ)⋅θ̈ - 2⋅d⋅cos(θ)⋅θ̇  + 2⋅ẍ⎠   m_w⋅⎝- 2⋅w⋅sin(θ)⋅θ̇  + 2⋅w⋅cos(θ)⋅θ̈ + \n",
       "⎢                                                                                                                                                                                                                                    ───────────────────────────────────────── + ────────────────────────────────────────── \n",
       "⎢                                                                                                                                                                                                                                                        2                                           2                      \n",
       "⎢                                                                                                                                                                                                                                                                                                                           \n",
       "⎢                                                                                                                                                                                                                                        ⎛              2                     ⎞       ⎛                            2      ⎞ \n",
       "⎢                                                                                                                                                                                                                                    m_b⋅⎝- 2⋅d⋅sin(θ)⋅θ̇  + 2⋅d⋅cos(θ)⋅θ̈ + 2⋅ÿ⎠   m_w⋅⎝-2⋅w⋅sin(θ)⋅θ̈ - 2⋅w⋅cos(θ)⋅θ̇  + \n",
       "⎢                                                                                                                                                                                                                                    ────────────────────────────────────────── + ───────────────────────────────────────── \n",
       "⎢                                                                                                                                                                                                                                                        2                                            2                     \n",
       "⎢                                                                                                                                                                                                                                                                                                                           \n",
       "⎢                                                                             ⎛   2                                                                                                               ⎞       ⎛   2      2⎞                                                                                                     \n",
       "⎢        m_b⋅(d⋅(-sin(θ)⋅ẏ - cos(θ)⋅ẋ)⋅θ̇ - d⋅sin(θ)⋅θ̇⋅ẏ - d⋅cos(θ)⋅θ̇⋅ẋ)   m_b⋅⎝2⋅d ⋅θ̈ + d⋅(-sin(θ)⋅θ̇⋅ẏ - sin(θ)⋅ẍ - cos(θ)⋅θ̇⋅ẋ + cos(θ)⋅ÿ) - d⋅sin(θ)⋅θ̇⋅ẏ - d⋅sin(θ)⋅ẍ - d⋅cos(θ)⋅θ̇⋅ẋ + d⋅cos(θ)⋅ÿ⎠   m_w⋅⎝3⋅r  + t_w ⎠⋅θ̈   m_w⋅(-w⋅(-sin(θ)⋅ẋ + cos(θ)⋅ẏ)⋅θ̇ + w⋅sin(θ)⋅θ̇⋅ẋ - w⋅cos(θ)⋅θ̇⋅ẏ)   m_\n",
       "⎢Izz⋅θ̈ - ────────────────────────────────────────────────────────────── + ───────────────────────────────────────────────────────────────────────────────────────────────────────────────────────── + ─────────────────── - ─────────────────────────────────────────────────────────────── - ─────────────────────────────\n",
       "⎢                                      2                                                                                              2                                                                        6                                           2                                                                \n",
       "⎢                                                                                                                                                                                                                                                                                                                           \n",
       "⎢                                                                                                                                                                                                                                                                                                2                          \n",
       "⎢                                                                                                                                                                                                                                                                                           m_w⋅r ⋅φ₁̈   r⋅lam₁⋅cos(θ)   r⋅l\n",
       "⎢                                                                                                                                                                                                                                                                                           ───────── + ───────────── + ────\n",
       "⎢                                                                                                                                                                                                                                                                                               2             2             \n",
       "⎢                                                                                                                                                                                                                                                                                                                           \n",
       "⎢                                                                                                                                                                                                                                                                                                2                          \n",
       "⎢                                                                                                                                                                                                                                                                                           m_w⋅r ⋅φ₂̈   r⋅lam₁⋅cos(θ)   r⋅l\n",
       "⎢                                                                                                                                                                                                                                                                                           ───────── + ───────────── + ────\n",
       "⎣                                                                                                                                                                                                                                                                                               2             2             \n",
       "\n",
       "      ⎛            2                     ⎞                                                                                                                                                                                                                                                                   ⎤\n",
       "2⋅ẍ⎠   m_w⋅⎝2⋅w⋅sin(θ)⋅θ̇  - 2⋅w⋅cos(θ)⋅θ̈ + 2⋅ẍ⎠          τ₁⋅cos(θ)   τ₂⋅cos(θ)                                                                                                                                                                                                                                    ⎥\n",
       "+ ──────────────────────────────────────── - lam₁ - ───────── - ─────────                                                                                                                                                                                                                                    ⎥\n",
       "                     2                                  r           r                                                                                                                                                                                                                                        ⎥\n",
       "                                                                                                                                                                                                                                                                                                             ⎥\n",
       "      ⎛                           2      ⎞                                                                                                                                                                                                                                                                   ⎥\n",
       "2⋅ÿ⎠   m_w⋅⎝2⋅w⋅sin(θ)⋅θ̈ + 2⋅w⋅cos(θ)⋅θ̇  + 2⋅ÿ⎠          τ₁⋅sin(θ)   τ₂⋅sin(θ)                                                                                                                                                                                                                                    ⎥\n",
       "+ ──────────────────────────────────────── - lam₂ - ───────── - ─────────                                                                                                                                                                                                                                    ⎥\n",
       "                     2                                  r           r                                                                                                                                                                                                                                        ⎥\n",
       "                                                                                                                                                                                                                                                                                                             ⎥\n",
       "                                       ⎛   2                                                                                                               ⎞       ⎛   2                                                                                                               ⎞                     ⎥\n",
       "w⋅(w⋅(-sin(θ)⋅ẋ + cos(θ)⋅ẏ)⋅θ̇ - w⋅sin(θ)⋅θ̇⋅ẋ + w⋅cos(θ)⋅θ̇⋅ẏ)   m_w⋅⎝2⋅w ⋅θ̈ - w⋅(-sin(θ)⋅θ̇⋅ẋ + sin(θ)⋅ÿ + cos(θ)⋅θ̇⋅ẏ + cos(θ)⋅ẍ) + w⋅sin(θ)⋅θ̇⋅ẋ - w⋅sin(θ)⋅ÿ - w⋅cos(θ)⋅θ̇⋅ẏ - w⋅cos(θ)⋅ẍ⎠   m_w⋅⎝2⋅w ⋅θ̈ + w⋅(-sin(θ)⋅θ̇⋅ẋ + sin(θ)⋅ÿ + cos(θ)⋅θ̇⋅ẏ + cos(θ)⋅ẍ) - w⋅sin(θ)⋅θ̇⋅ẋ + w⋅sin(θ)⋅ÿ + w⋅co\n",
       "───────────────────────────────── + ───────────────────────────────────────────────────────────────────────────────────────────────────────────────────────── + ───────────────────────────────────────────────────────────────────────────────────────────────────────────────────────── - lam₃ - ──── + ────⎥\n",
       "2                                                                                              2                                                                                                                           2                                                                       r      r  ⎥\n",
       "                                                                                                                                                                                                                                                                                                             ⎥\n",
       "                                                                                                                                                                                                                                                                                                             ⎥\n",
       "am₂⋅sin(θ)   r⋅lam₃                                                                                                                                                                                                                                                                                           ⎥\n",
       "───────── + ──────                                                                                                                                                                                                                                                                                           ⎥\n",
       "  2          2⋅w                                                                                                                                                                                                                                                                                             ⎥\n",
       "                                                                                                                                                                                                                                                                                                             ⎥\n",
       "                                                                                                                                                                                                                                                                                                             ⎥\n",
       "am₂⋅sin(θ)   r⋅lam₃                                                                                                                                                                                                                                                                                           ⎥\n",
       "───────── - ──────                                                                                                                                                                                                                                                                                           ⎥\n",
       "  2          2⋅w                                                                                                                                                                                                                                                                                             ⎦"
      ]
     },
     "execution_count": 19,
     "metadata": {},
     "output_type": "execute_result"
    }
   ],
   "source": [
    "le = lm.form_lagranges_equations()\n",
    "le"
   ]
  },
  {
   "cell_type": "markdown",
   "metadata": {
    "deletable": true,
    "editable": true
   },
   "source": [
    "## Simulation\n",
    "\n",
    "To gain insight into the system dynamics, numerical simulation will be used. First, we need to import a few more functions:"
   ]
  },
  {
   "cell_type": "code",
   "execution_count": 20,
   "metadata": {
    "collapsed": false,
    "deletable": true,
    "editable": true,
    "jupyter": {
     "outputs_hidden": false
    }
   },
   "outputs": [],
   "source": [
    "from sympy import lambdify, Dummy\n",
    "from sympy.physics.mechanics import msubs\n",
    "from numpy import interp, vstack\n",
    "from numpy import random, array, hstack, linspace, ones\n",
    "from scipy.integrate import odeint\n",
    "import matplotlib.pyplot as plt\n",
    "%matplotlib inline"
   ]
  },
  {
   "cell_type": "markdown",
   "metadata": {
    "deletable": true,
    "editable": true
   },
   "source": [
    "The vector $\\ddot{\\vec{q}}$ can be calculated in a closed form expression using the `rhs` method. This method takes quite a long time to solve entirely symbolically (it took over an hour on my machine), so a simplifying assumption will be made: $d = 0$. This is actually pretty reasonable, as the motors and battery will be the heaviest part, and should be situated around the axle."
   ]
  },
  {
   "cell_type": "code",
   "execution_count": 21,
   "metadata": {
    "collapsed": false,
    "deletable": true,
    "editable": true,
    "jupyter": {
     "outputs_hidden": false
    }
   },
   "outputs": [],
   "source": [
    "# Solve for the rhs:\n",
    "rhs = lm.rhs()\n",
    "\n",
    "# Substitute in d = 0\n",
    "rhs = msubs(rhs, {d: 0})"
   ]
  },
  {
   "cell_type": "markdown",
   "metadata": {
    "deletable": true,
    "editable": true
   },
   "source": [
    "We're almost done, all we need to do is model the dynamics of the motor. In general, we can model the current dynamics of the motor as follows:\n",
    "\n",
    "$$\n",
    "\\dot{i} = -K/L \\dot{\\phi} - R/L i + V/L\n",
    "$$\n",
    "\n",
    "$$\n",
    "\\tau = K i\n",
    "$$\n",
    "\n",
    "where $i$ and $V$ are the current and voltage through the motor, $K$ is the motor constant, $R$ is the coil resistance, and $L$ is the coil inductance. Creating this model in sympy is fairly straightforward:"
   ]
  },
  {
   "cell_type": "code",
   "execution_count": 22,
   "metadata": {
    "collapsed": false,
    "deletable": true,
    "editable": true,
    "jupyter": {
     "outputs_hidden": false
    }
   },
   "outputs": [],
   "source": [
    "# Create dynamic symbols for current and voltage\n",
    "i_1, i_2 = dynamicsymbols('i_1, i_2')        # Currents through motor 1 and 2\n",
    "V_1, V_2 = symbols('V_1, V_2')               # Voltages across the motor terminals\n",
    "\n",
    "# Define some motor constants.\n",
    "# Assuming motor 1 and 2 are the same:\n",
    "R = symbols('R')                             # Coil resistance\n",
    "L = symbols('L')                             # Coil inductance\n",
    "K1, K2 = symbols('K1, K2')                   # Motor constant\n",
    "\n",
    "# Define the motor dynamics\n",
    "di = Matrix([[-K1/L*phi1.diff() - R/L*i_1 + V_1/L],\n",
    "             [-K2/L*phi2.diff() - R/L*i_2 + V_2/L]])"
   ]
  },
  {
   "cell_type": "markdown",
   "metadata": {
    "deletable": true,
    "editable": true
   },
   "source": [
    "Now we just need to combine the motor model with the model for the robot:"
   ]
  },
  {
   "cell_type": "code",
   "execution_count": 23,
   "metadata": {
    "collapsed": false,
    "deletable": true,
    "editable": true,
    "jupyter": {
     "outputs_hidden": false
    }
   },
   "outputs": [],
   "source": [
    "# Define consts:\n",
    "params = [Izz,  t_w,  m_w,    r,  m_b,   w,    R,      L,   K1,  K2]\n",
    "values = [  5, 0.15,  2.0, 0.15, 50.0, 0.6, 0.05, 0.0001,  1.0, 1.0]       # Values of constants\n",
    "\n",
    "# Create a list of dynamic symbols for simulation\n",
    "dynamics = q.T.tolist()[0] + dq.T.tolist()[0] + lm.lam_vec.T.tolist()[0] + [i_1, i_2]\n",
    "\n",
    "# Set the inputs to be the motor voltages\n",
    "inputs = [V_1, V_2]\n",
    "\n",
    "# Add the motor model to the rhs equations\n",
    "aug_rhs = rhs.col_join(di)\n",
    "\n",
    "# Substitute in K*i for T in the rhs equations\n",
    "aug_rhs = aug_rhs.subs({T1: K1*i_1, T2: K2*i_2})"
   ]
  },
  {
   "cell_type": "markdown",
   "metadata": {
    "deletable": true,
    "editable": true
   },
   "source": [
    "Currently the codegen functionality provided by `PyDy` doesn't support equations with Lagrange Multipliers (this is planned for future releases). For now `lambdify` can be used to convert the expression into a function to solve the rhs based on the current state and inputs."
   ]
  },
  {
   "cell_type": "code",
   "execution_count": 24,
   "metadata": {
    "collapsed": false,
    "deletable": true,
    "editable": true,
    "jupyter": {
     "outputs_hidden": false
    }
   },
   "outputs": [],
   "source": [
    "# Create a list of dynamic symbols for simulation\n",
    "dummys = [Dummy() for i in dynamics]\n",
    "dummydict = dict(zip(dynamics, dummys))\n",
    "# Sub in the dummy symbols\n",
    "rhs_dummy = msubs(aug_rhs, dummydict)\n",
    "# Lambdify function\n",
    "rhs_func = lambdify(dummys + inputs + params, rhs_dummy, modules='numpy')"
   ]
  },
  {
   "cell_type": "code",
   "execution_count": 25,
   "metadata": {
    "collapsed": false,
    "deletable": true,
    "editable": true,
    "jupyter": {
     "outputs_hidden": false
    }
   },
   "outputs": [],
   "source": [
    "# Create a function in the required format for odeint\n",
    "def right_hand_side(x, t, ts, us, values):\n",
    "    \"\"\"Calculate the rhs of the integral, at\n",
    "    time t, state x.\n",
    "    ts, us are used to get the current input\n",
    "    values are constants in the integral\"\"\"\n",
    "    \n",
    "    # Interp is needed to get u for timestep\n",
    "    u1 = interp(t, ts, us[:,0])\n",
    "    u2 = interp(t, ts, us[:,1])\n",
    "    \n",
    "    arguments = hstack((x, u1, u2, values))\n",
    "    \n",
    "    # Need call to array and reshape, as odeint\n",
    "    # requires state vector to be 1d\n",
    "    dx = array(rhs_func(*arguments))\n",
    "    return dx.reshape(dx.size)"
   ]
  },
  {
   "cell_type": "markdown",
   "metadata": {
    "deletable": true,
    "editable": true
   },
   "source": [
    "Now we have everything we need to simulate the motion. First, let's see what happens if we input a constant, unbalanced voltage signal. Motor 1 gets 24 volts, Motor 2 gets 20 volts. Intuitively, this should cause the robot to drive in a circle."
   ]
  },
  {
   "cell_type": "code",
   "execution_count": 40,
   "metadata": {
    "collapsed": false,
    "deletable": true,
    "editable": true,
    "jupyter": {
     "outputs_hidden": false
    }
   },
   "outputs": [
    {
     "data": {
      "image/png": "[encoded data removed]",
      "text/plain": [
       "<Figure size 640x480 with 1 Axes>"
      ]
     },
     "metadata": {},
     "output_type": "display_data"
    }
   ],
   "source": [
    "ts = linspace(0, 30, 3000)\n",
    "us = vstack((24*ones(len(ts)), 20*ones(len(ts)))).T\n",
    "# Run the simulation\n",
    "x0 = [0,] * 15                         # Start out at origin, unmoving\n",
    "xs = odeint(right_hand_side, x0, ts, args=(ts, us, values))\n",
    "\n",
    "plt.plot(xs[:,0], xs[:,1])\n",
    "plt.title('Robot Position')\n",
    "plt.xlabel('x (m)')\n",
    "plt.ylabel('y (m)');"
   ]
  },
  {
   "cell_type": "markdown",
   "metadata": {
    "deletable": true,
    "editable": true
   },
   "source": [
    "As seen by the simulation, the results line up with our intuition. The reason it doesn't immediately start out in a circle is due to the time it takes for it to accelerate from rest.\n",
    "\n",
    "If we were designing such a platform, we might want to see the effects different design parameters have on the motion. Because the solution is symbolic, it's easy to experiment. Here we'll see what having a heavier body and larger inertia do to the motion:"
   ]
  },
  {
   "cell_type": "code",
   "execution_count": 42,
   "metadata": {
    "collapsed": false,
    "deletable": true,
    "editable": true,
    "jupyter": {
     "outputs_hidden": false
    }
   },
   "outputs": [
    {
     "data": {
      "image/png": "[encoded data removed]",
      "text/plain": [
       "<Figure size 640x480 with 1 Axes>"
      ]
     },
     "metadata": {},
     "output_type": "display_data"
    }
   ],
   "source": [
    "ts = linspace(0, 30, 1000)\n",
    "us = vstack((24*ones(len(ts)), 20*ones(len(ts)))).T\n",
    "# Body is twice as heavy, with twice as much rotational inertia\n",
    "values = [  10, 0.15,  2.0, 0.15, 100.0, 0.6, 0.05, 0.0001,  1.0, 1.0]       # Values of constants\n",
    "# Run the simulation\n",
    "x0 = [0,] * 15                         # Start out at origin, unmoving\n",
    "xs = odeint(right_hand_side, x0, ts, args=(ts, us, values))\n",
    "plt.plot(xs[:,0], xs[:,1])\n",
    "plt.title('Robot Position')\n",
    "plt.xlabel('x (m)')\n",
    "plt.ylabel('y (m)');"
   ]
  }
 ],
 "metadata": {
  "kernelspec": {
   "display_name": "local-venv",
   "language": "python",
   "name": "local-venv"
  },
  "language_info": {
   "codemirror_mode": {
    "name": "ipython",
    "version": 3
   },
   "file_extension": ".py",
   "mimetype": "text/x-python",
   "name": "python",
   "nbconvert_exporter": "python",
   "pygments_lexer": "ipython3",
   "version": "3.10.6"
  }
 },
 "nbformat": 4,
 "nbformat_minor": 4
}
